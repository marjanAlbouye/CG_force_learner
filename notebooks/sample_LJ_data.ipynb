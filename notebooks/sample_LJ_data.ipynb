{
 "cells": [
  {
   "cell_type": "code",
   "execution_count": 1,
   "id": "b3c6270e",
   "metadata": {},
   "outputs": [],
   "source": [
    "import math\n",
    "import numpy as np\n",
    "import itertools\n",
    "import gsd.hoomd\n",
    "import hoomd\n"
   ]
  },
  {
   "cell_type": "code",
   "execution_count": 2,
   "id": "02e864a7",
   "metadata": {},
   "outputs": [],
   "source": [
    "# Setting up simulation parameters\n",
    "dt=0.0001  #sim timestep\n",
    "tau = dt*1000 #time constant related to thermostat (https://en.wikipedia.org/wiki/Berendsen_thermostat)\n",
    "kT = 1.5 # simulation T"
   ]
  },
  {
   "cell_type": "code",
   "execution_count": 3,
   "id": "a1523142",
   "metadata": {},
   "outputs": [],
   "source": [
    "gsd_file_name = \"trajectory.gsd\"\n",
    "gsd_write_freq = 10"
   ]
  },
  {
   "cell_type": "code",
   "execution_count": 4,
   "id": "40c7a7bf",
   "metadata": {},
   "outputs": [],
   "source": [
    "def lj_system(n, spacing, box_factor=3):\n",
    "    \"\"\"\n",
    "    Initating a system with one type of particle (A)\n",
    "    \"\"\"\n",
    "    N_particles = n\n",
    "    spacing = spacing\n",
    "    K = math.ceil(N_particles**(1 / 3))\n",
    "    L = K * spacing\n",
    "    x = np.linspace(-L / 2, L / 2, K, endpoint=False)\n",
    "    position = list(itertools.product(x, repeat=3))\n",
    "\n",
    "    snapshot = gsd.hoomd.Snapshot()\n",
    "    snapshot.particles.N = N_particles\n",
    "    snapshot.particles.position = position[0:N_particles]\n",
    "    snapshot.particles.typeid = [0] * N_particles\n",
    "    snapshot.configuration.box = [L*box_factor, L*box_factor, L*box_factor, 0, 0, 0]\n",
    "    snapshot.particles.types = ['A']\n",
    "    return snapshot\n",
    "\n",
    "\n",
    "def pair_force(sigma=1, epsilon=1):\n",
    "    \"\"\"\n",
    "    Creates non-bonded forces between A particles.\n",
    "    \"\"\"\n",
    "    cell = hoomd.md.nlist.Cell(buffer=0.4)\n",
    "    lj = hoomd.md.pair.LJ(nlist=cell)\n",
    "    lj.params[('A', 'A')] = dict(epsilon=epsilon, sigma=sigma)\n",
    "    lj.r_cut[('A', 'A')] = 2.5 * sigma\n",
    "    return lj"
   ]
  },
  {
   "cell_type": "code",
   "execution_count": 5,
   "id": "502f50cb",
   "metadata": {},
   "outputs": [
    {
     "name": "stderr",
     "output_type": "stream",
     "text": [
      "/home/marjanalbooyeh/mambaforge/envs/LJ-ML/lib/python3.11/site-packages/gsd/hoomd.py:420: FutureWarning: Snapshot is deprecated, use Frame\n",
      "  warnings.warn(\"Snapshot is deprecated, use Frame\", FutureWarning)\n"
     ]
    }
   ],
   "source": [
    "init_snap = lj_system(n=2, spacing=0.4, box_factor=10)"
   ]
  },
  {
   "cell_type": "code",
   "execution_count": 6,
   "id": "f92e4db4",
   "metadata": {},
   "outputs": [],
   "source": [
    "# setting up the simulation\n",
    "device = hoomd.device.auto_select()\n",
    "sim = hoomd.Simulation(device=device)\n",
    "sim.create_state_from_snapshot(init_snap)\n",
    "integrator = hoomd.md.Integrator(dt=dt)\n",
    "lj = pair_force()\n",
    "integrator.forces.append(lj)"
   ]
  },
  {
   "cell_type": "code",
   "execution_count": 7,
   "id": "4013fae6",
   "metadata": {},
   "outputs": [
    {
     "name": "stderr",
     "output_type": "stream",
     "text": [
      "/home/marjanalbooyeh/mambaforge/envs/LJ-ML/lib/python3.11/site-packages/hoomd/md/methods/methods.py:699: FutureWarning: NVE is deprecated and wil be removed in hoomd 4.0. In version 4.0, use the ConstantVolume method without a thermostat.\n",
      "  warnings.warn(\n"
     ]
    }
   ],
   "source": [
    "cap = hoomd.md.methods.DisplacementCapped(filter=hoomd.filter.All(), maximum_displacement=1e-5)\n",
    "# nve = hoomd.md.methods.NVT(filter=hoomd.filter.All(), kT=kT, tau=tau)\n",
    "integrator.methods.append(cap)\n",
    "# integrator.methods.append(nve)\n",
    "sim.operations.integrator = integrator"
   ]
  },
  {
   "cell_type": "code",
   "execution_count": 8,
   "id": "8e5c5037",
   "metadata": {},
   "outputs": [
    {
     "name": "stderr",
     "output_type": "stream",
     "text": [
      "*Warning*: Simulation.seed is not set, using default seed=0\n"
     ]
    }
   ],
   "source": [
    "sim.state.thermalize_particle_momenta(filter=hoomd.filter.All(), kT=kT)"
   ]
  },
  {
   "cell_type": "code",
   "execution_count": 9,
   "id": "82c38306",
   "metadata": {},
   "outputs": [
    {
     "data": {
      "text/plain": [
       "array([[ 0.20817407,  0.58389178, -0.49044151],\n",
       "       [-0.20817407, -0.58389178,  0.49044151]])"
      ]
     },
     "execution_count": 9,
     "metadata": {},
     "output_type": "execute_result"
    }
   ],
   "source": [
    "snap = sim.state.get_snapshot()\n",
    "snap.particles.velocity"
   ]
  },
  {
   "cell_type": "code",
   "execution_count": 10,
   "id": "1762f25e",
   "metadata": {},
   "outputs": [],
   "source": [
    "# Logging \n",
    "log_quantities = [\n",
    "            \"kinetic_temperature\",\n",
    "            \"potential_energy\",\n",
    "            \"kinetic_energy\",\n",
    "            \"volume\",\n",
    "            \"pressure\",\n",
    "            \"pressure_tensor\",\n",
    "        ]\n",
    "logger = hoomd.logging.Logger(categories=[\"scalar\", \"string\", \"particle\"])\n",
    "logger.add(sim, quantities=[\"timestep\", \"tps\"])\n",
    "thermo_props = hoomd.md.compute.ThermodynamicQuantities(filter=hoomd.filter.All())\n",
    "sim.operations.computes.append(thermo_props)\n",
    "logger.add(thermo_props, quantities=log_quantities)\n",
    "\n",
    "for f in integrator.forces:\n",
    "    \n",
    "    logger.add(f, quantities=[\"energy\", \"forces\"])\n",
    "\n",
    "gsd_writer = hoomd.write.GSD(\n",
    "    filename=gsd_file_name,\n",
    "    trigger=hoomd.trigger.Periodic(int(gsd_write_freq)),\n",
    "    mode=\"wb\",\n",
    "    logger=logger,\n",
    "    dynamic=[\"momentum\"]\n",
    "    )\n",
    "\n",
    "sim.operations.writers.append(gsd_writer)\n"
   ]
  },
  {
   "cell_type": "code",
   "execution_count": 12,
   "id": "0b674f0c",
   "metadata": {},
   "outputs": [],
   "source": [
    "sim.run(1e3, write_at_start=True)"
   ]
  },
  {
   "cell_type": "markdown",
   "id": "f8d221df",
   "metadata": {},
   "source": [
    "### Check Data from Logs"
   ]
  },
  {
   "cell_type": "code",
   "execution_count": 13,
   "id": "67aee8c1",
   "metadata": {},
   "outputs": [],
   "source": [
    "traj = gsd.hoomd.open(\"trajectory.gsd\")"
   ]
  },
  {
   "cell_type": "code",
   "execution_count": 14,
   "id": "0c832c1f",
   "metadata": {},
   "outputs": [
    {
     "data": {
      "text/plain": [
       "dict_keys(['Simulation/timestep', 'Simulation/tps', 'md/compute/ThermodynamicQuantities/kinetic_temperature', 'md/compute/ThermodynamicQuantities/potential_energy', 'md/compute/ThermodynamicQuantities/kinetic_energy', 'md/compute/ThermodynamicQuantities/volume', 'md/compute/ThermodynamicQuantities/pressure', 'md/pair/LJ/energy', 'particles/md/pair/LJ/forces'])"
      ]
     },
     "execution_count": 14,
     "metadata": {},
     "output_type": "execute_result"
    }
   ],
   "source": [
    "traj[0].log.keys()"
   ]
  },
  {
   "cell_type": "code",
   "execution_count": 15,
   "id": "09807b5f",
   "metadata": {},
   "outputs": [],
   "source": [
    "positions = []\n",
    "r = []\n",
    "energies = []\n",
    "forces= []\n",
    "\n",
    "for frame in traj:\n",
    "    pos = frame.particles.position\n",
    "    positions.append(pos)\n",
    "    r.append(np.linalg.norm(pos[0] - pos[1]))\n",
    "    energies.append(frame.log['md/pair/LJ/energy'])\n",
    "    forces.append(frame.log['particles/md/pair/LJ/forces'])"
   ]
  },
  {
   "cell_type": "code",
   "execution_count": 16,
   "id": "50a74c15",
   "metadata": {},
   "outputs": [],
   "source": [
    "r = np.asarray(r)\n",
    "energies = np.asarray(energies)\n",
    "forces = np.asarray(forces)"
   ]
  },
  {
   "cell_type": "code",
   "execution_count": 17,
   "id": "f71d701a",
   "metadata": {},
   "outputs": [],
   "source": [
    "np.save(\"r.npy\", np.asarray(r))\n",
    "np.save(\"energies.npy\", np.asarray(energies))\n",
    "np.save(\"forces.npy\", np.asarray(forces))"
   ]
  },
  {
   "cell_type": "code",
   "execution_count": 19,
   "id": "81dce065",
   "metadata": {},
   "outputs": [
    {
     "data": {
      "text/plain": [
       "(10078,)"
      ]
     },
     "execution_count": 19,
     "metadata": {},
     "output_type": "execute_result"
    }
   ],
   "source": [
    "r.shape"
   ]
  },
  {
   "cell_type": "code",
   "execution_count": 18,
   "id": "44b70b33",
   "metadata": {},
   "outputs": [
    {
     "data": {
      "text/plain": [
       "0.19845207382417146"
      ]
     },
     "execution_count": 18,
     "metadata": {},
     "output_type": "execute_result"
    }
   ],
   "source": [
    "np.where(r < 0.8)[0].shape[0] / r.shape[0]"
   ]
  },
  {
   "cell_type": "code",
   "execution_count": 20,
   "id": "7918283e",
   "metadata": {},
   "outputs": [
    {
     "data": {
      "text/plain": [
       "0.4"
      ]
     },
     "execution_count": 20,
     "metadata": {},
     "output_type": "execute_result"
    }
   ],
   "source": [
    "min(r)"
   ]
  },
  {
   "cell_type": "code",
   "execution_count": 21,
   "id": "30977c28",
   "metadata": {},
   "outputs": [
    {
     "data": {
      "text/plain": [
       "1.1423466"
      ]
     },
     "execution_count": 21,
     "metadata": {},
     "output_type": "execute_result"
    }
   ],
   "source": [
    "max(r)"
   ]
  },
  {
   "cell_type": "code",
   "execution_count": 22,
   "id": "e9600e14",
   "metadata": {},
   "outputs": [
    {
     "data": {
      "text/plain": [
       "array([-1.])"
      ]
     },
     "execution_count": 22,
     "metadata": {},
     "output_type": "execute_result"
    }
   ],
   "source": [
    "min(energies)"
   ]
  },
  {
   "cell_type": "code",
   "execution_count": 23,
   "id": "d501da91",
   "metadata": {},
   "outputs": [
    {
     "data": {
      "text/plain": [
       "array([237441.97405631])"
      ]
     },
     "execution_count": 23,
     "metadata": {},
     "output_type": "execute_result"
    }
   ],
   "source": [
    "max(energies)"
   ]
  },
  {
   "cell_type": "code",
   "execution_count": 24,
   "id": "ee08f522",
   "metadata": {},
   "outputs": [],
   "source": [
    "import matplotlib.pyplot as plt"
   ]
  },
  {
   "cell_type": "code",
   "execution_count": 29,
   "id": "5f704d9c",
   "metadata": {},
   "outputs": [
    {
     "data": {
      "text/plain": [
       "<matplotlib.collections.PathCollection at 0x7f308cface10>"
      ]
     },
     "execution_count": 29,
     "metadata": {},
     "output_type": "execute_result"
    },
    {
     "data": {
      "image/png": "[encoded data removed]",
      "text/plain": [
       "<Figure size 640x480 with 1 Axes>"
      ]
     },
     "metadata": {},
     "output_type": "display_data"
    }
   ],
   "source": [
    "plt.scatter(r, energies)"
   ]
  },
  {
   "cell_type": "code",
   "execution_count": null,
   "id": "9c03f8db",
   "metadata": {},
   "outputs": [],
   "source": []
  }
 ],
 "metadata": {
  "kernelspec": {
   "display_name": "Python 3 (ipykernel)",
   "language": "python",
   "name": "python3"
  },
  "language_info": {
   "codemirror_mode": {
    "name": "ipython",
    "version": 3
   },
   "file_extension": ".py",
   "mimetype": "text/x-python",
   "name": "python",
   "nbconvert_exporter": "python",
   "pygments_lexer": "ipython3",
   "version": "3.11.3"
  }
 },
 "nbformat": 4,
 "nbformat_minor": 5
}

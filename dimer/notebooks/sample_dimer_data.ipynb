{
 "cells": [
  {
   "cell_type": "markdown",
   "id": "b5a20fce",
   "metadata": {},
   "source": [
    "## Part 1: preparing dimer particles snapshot "
   ]
  },
  {
   "cell_type": "markdown",
   "id": "f38a3551",
   "metadata": {},
   "source": [
    "You only need to run part 1 once."
   ]
  },
  {
   "cell_type": "code",
   "execution_count": null,
   "id": "b8b72840",
   "metadata": {},
   "outputs": [],
   "source": [
    "import itertools\n",
    "import math\n",
    "\n",
    "import gsd.hoomd\n",
    "import hoomd\n",
    "import matplotlib\n",
    "import numpy\n",
    "\n",
    "import h5py\n",
    "import numpy as np\n",
    "\n",
    "\n",
    "%matplotlib inline\n",
    "matplotlib.style.use('ggplot')"
   ]
  },
  {
   "cell_type": "code",
   "execution_count": null,
   "id": "d6488a08",
   "metadata": {},
   "outputs": [],
   "source": [
    "import os\n",
    "\n",
    "fn = os.path.join(os.getcwd(), 'dimer_centers.gsd')\n",
    "![ -e \"$fn\" ] && rm \"$fn\"\n",
    "\n",
    "fn = os.path.join(os.getcwd(), 'lattice.gsd')\n",
    "![ -e \"$fn\" ] && rm \"$fn\""
   ]
  },
  {
   "cell_type": "code",
   "execution_count": null,
   "id": "00edbd06",
   "metadata": {},
   "outputs": [],
   "source": [
    "import warnings\n",
    "\n",
    "import fresnel\n",
    "import IPython\n",
    "import packaging.version\n",
    "\n",
    "device = fresnel.Device()\n",
    "tracer = fresnel.tracer.Path(device=device, w=300, h=300)\n",
    "\n",
    "FRESNEL_MIN_VERSION = packaging.version.parse(\"0.13.0\")\n",
    "FRESNEL_MAX_VERSION = packaging.version.parse(\"0.14.0\")\n",
    "\n",
    "\n",
    "def render(snapshot):\n",
    "    if ('version' not in dir(fresnel) or packaging.version.parse(\n",
    "            fresnel.version.version) < FRESNEL_MIN_VERSION\n",
    "            or packaging.version.parse(\n",
    "                fresnel.version.version) >= FRESNEL_MAX_VERSION):\n",
    "        warnings.warn(\n",
    "            f\"Unsupported fresnel version {fresnel.version.version} - expect errors.\"\n",
    "        )\n",
    "    central_color = fresnel.color.linear([252 / 255, 41 / 255, 0 / 255])\n",
    "    constituent_color = fresnel.color.linear([93 / 255, 210 / 255, 252 / 255])\n",
    "\n",
    "    L = snapshot.configuration.box[0]\n",
    "    scene = fresnel.Scene(device)\n",
    "    geometry = fresnel.geometry.Sphere(scene,\n",
    "                                       N=len(snapshot.particles.position),\n",
    "                                       radius=0.5)\n",
    "    geometry.material = fresnel.material.Material(color=[0, 0, 0],\n",
    "                                                  roughness=0.5,\n",
    "                                                  primitive_color_mix=1.0)\n",
    "    geometry.position[:] = snapshot.particles.position[:]\n",
    "    geometry.color[snapshot.particles.typeid[:] == 0] = central_color\n",
    "    geometry.radius[snapshot.particles.typeid[:] == 0] = 0.3\n",
    "    geometry.color[snapshot.particles.typeid[:] == 1] = constituent_color\n",
    "    geometry.outline_width = 0.04\n",
    "    box = fresnel.geometry.Box(scene, [L, L, L, 0, 0, 0], box_radius=.02)\n",
    "\n",
    "    scene.lights = [\n",
    "        fresnel.light.Light(direction=(0, 0, 1),\n",
    "                            color=(0.8, 0.8, 0.8),\n",
    "                            theta=math.pi),\n",
    "        fresnel.light.Light(direction=(1, 1, 1),\n",
    "                            color=(1.1, 1.1, 1.1),\n",
    "                            theta=math.pi / 3)\n",
    "    ]\n",
    "    scene.camera = fresnel.camera.Orthographic(position=(L * 2, L, L * 2),\n",
    "                                               look_at=(0, 0, 0),\n",
    "                                               up=(0, 1, 0),\n",
    "                                               height=L * 1.4 + 1)\n",
    "    scene.background_color = (1, 1, 1)\n",
    "    return IPython.display.Image(tracer.sample(scene, samples=500)._repr_png_())"
   ]
  },
  {
   "cell_type": "code",
   "execution_count": null,
   "id": "c4396f2a",
   "metadata": {},
   "outputs": [],
   "source": [
    "dimer_positions = [[-0.6, 0, 0], [0.6, 0, 0]]\n",
    "central_position = [10, 5, 0]\n",
    "central_rotation = 0.9\n",
    "cos_theta = math.cos(central_rotation)\n",
    "sin_theta = math.sin(central_rotation)\n",
    "\n",
    "global_positions = []\n",
    "for i in range(len(dimer_positions)):\n",
    "    x, y = dimer_positions[i][:2]\n",
    "\n",
    "    global_positions.append(\n",
    "        [[central_position[0] + (x * cos_theta - y * sin_theta)],\n",
    "         [central_position[1] + (y * cos_theta + x * sin_theta)]])"
   ]
  },
  {
   "cell_type": "code",
   "execution_count": null,
   "id": "0b925016",
   "metadata": {},
   "outputs": [],
   "source": [
    "global_positions"
   ]
  },
  {
   "cell_type": "code",
   "execution_count": null,
   "id": "470420d1",
   "metadata": {},
   "outputs": [],
   "source": [
    "fig = matplotlib.figure.Figure(figsize=(10, 6.18), dpi=100)\n",
    "ax = fig.add_subplot(aspect='equal')\n",
    "\n",
    "ax.plot([central_position[0], central_position[0] - 3 * sin_theta],\n",
    "        [central_position[1], central_position[1] + 3 * cos_theta],\n",
    "        color='k')\n",
    "\n",
    "ax.plot([central_position[0], central_position[0] + 3 * cos_theta],\n",
    "        [central_position[1], central_position[1] + 3 * sin_theta],\n",
    "        color='k')\n",
    "\n",
    "ax.text(central_position[0] + 1.5 * cos_theta,\n",
    "        central_position[1] + 1.5 * sin_theta,\n",
    "        'Body X',\n",
    "        rotation=central_rotation * 180 / math.pi,\n",
    "        verticalalignment='center')\n",
    "\n",
    "ax.text(central_position[0] - 2 * sin_theta,\n",
    "        central_position[1] + 2 * cos_theta,\n",
    "        'Body Y',\n",
    "        rotation=central_rotation * 180 / math.pi + 90,\n",
    "        verticalalignment='center')\n",
    "\n",
    "ax.add_patch(\n",
    "    matplotlib.patches.Circle((central_position[0], central_position[1]),\n",
    "                              0.1,\n",
    "                              color='C0'))\n",
    "\n",
    "for position in global_positions:\n",
    "    ax.add_patch(\n",
    "        matplotlib.patches.Circle((position[0], position[1]), 1.0, color='C1'))\n",
    "\n",
    "ax.set_xlim(0, 20)\n",
    "ax.set_ylim(0, 12)\n",
    "\n",
    "ax.set_xlabel('Global X')\n",
    "ax.set_ylabel('Global Y')\n",
    "\n",
    "fig"
   ]
  },
  {
   "cell_type": "code",
   "execution_count": null,
   "id": "8901d6fb",
   "metadata": {},
   "outputs": [],
   "source": [
    "snapshot = gsd.hoomd.Snapshot()\n",
    "snapshot.particles.types = ['dimer', 'A']"
   ]
  },
  {
   "cell_type": "code",
   "execution_count": null,
   "id": "cc31a923",
   "metadata": {},
   "outputs": [],
   "source": [
    "N_particles = 2\n",
    "spacing = 5\n",
    "K = math.ceil(N_particles**(1 / 3))\n",
    "L = K * spacing\n",
    "x = numpy.linspace(-L / 2, L / 2, K, endpoint=False)\n",
    "position = list(itertools.product(x, repeat=3))\n",
    "position = numpy.array(position) + [spacing / 2, spacing / 2, spacing / 2]\n",
    "snapshot.particles.N = N_particles\n",
    "snapshot.particles.position = position[0:N_particles, :]\n",
    "snapshot.particles.typeid = [0] * N_particles\n",
    "snapshot.configuration.box = [L, L, L, 0, 0, 0]"
   ]
  },
  {
   "cell_type": "code",
   "execution_count": null,
   "id": "ae2f5a2c",
   "metadata": {},
   "outputs": [],
   "source": [
    "snapshot.particles.mass = [2] * N_particles"
   ]
  },
  {
   "cell_type": "code",
   "execution_count": null,
   "id": "5d98e1d3",
   "metadata": {},
   "outputs": [],
   "source": [
    "mass = 1\n",
    "I = numpy.zeros(shape=(3, 3))\n",
    "for r in dimer_positions:\n",
    "    I += mass * (numpy.dot(r, r) * numpy.identity(3) - numpy.outer(r, r))\n",
    "I"
   ]
  },
  {
   "cell_type": "code",
   "execution_count": null,
   "id": "3dac9779",
   "metadata": {},
   "outputs": [],
   "source": [
    "\n",
    "snapshot.particles.moment_inertia = [I[0, 0], I[1, 1], I[2, 2]] * N_particles"
   ]
  },
  {
   "cell_type": "code",
   "execution_count": null,
   "id": "278ca2c6",
   "metadata": {},
   "outputs": [],
   "source": [
    "snapshot.particles.orientation = [(1, 0, 0, 0)] * N_particles"
   ]
  },
  {
   "cell_type": "code",
   "execution_count": null,
   "id": "6d6662ee",
   "metadata": {},
   "outputs": [],
   "source": [
    "snapshot.particles.position = [[-2.5, -2.5, -1, -2.5, -2.5, 1]]\n"
   ]
  },
  {
   "cell_type": "code",
   "execution_count": null,
   "id": "ecc271a9",
   "metadata": {},
   "outputs": [],
   "source": [
    "with gsd.hoomd.open(name='dimer_centers.gsd', mode='wb') as f:\n",
    "    f.append(snapshot)"
   ]
  },
  {
   "cell_type": "code",
   "execution_count": null,
   "id": "aefd15b9",
   "metadata": {},
   "outputs": [],
   "source": [
    "rigid = hoomd.md.constrain.Rigid()\n",
    "rigid.body['dimer'] = {\n",
    "    \"constituent_types\": ['A', 'A'],\n",
    "    \"positions\": dimer_positions,\n",
    "    \"orientations\": [(1.0, 0.0, 0.0, 0.0), (1.0, 0.0, 0.0, 0.0)],\n",
    "    \"charges\": [0.0, 0.0],\n",
    "    \"diameters\": [1., 1.]\n",
    "}"
   ]
  },
  {
   "cell_type": "code",
   "execution_count": null,
   "id": "f0f8fe75",
   "metadata": {},
   "outputs": [],
   "source": [
    "sim = hoomd.Simulation(device=hoomd.device.GPU(), seed=4)\n",
    "sim.create_state_from_gsd(filename='dimer_centers.gsd')"
   ]
  },
  {
   "cell_type": "code",
   "execution_count": null,
   "id": "08987d45",
   "metadata": {},
   "outputs": [],
   "source": [
    "rigid.create_bodies(sim.state)"
   ]
  },
  {
   "cell_type": "code",
   "execution_count": null,
   "id": "5ecfbd78",
   "metadata": {},
   "outputs": [],
   "source": [
    "hoomd.write.GSD.write(state=sim.state, mode='wb', filename='lattice.gsd')"
   ]
  },
  {
   "cell_type": "markdown",
   "id": "1fea2d7d",
   "metadata": {},
   "source": [
    "## Part2 : Run rigid body simulation"
   ]
  },
  {
   "cell_type": "code",
   "execution_count": null,
   "id": "d49ea8ff",
   "metadata": {},
   "outputs": [],
   "source": [
    "\n",
    "gpu = hoomd.device.GPU()\n",
    "sim = hoomd.Simulation(device=gpu, seed=1)\n",
    "sim.create_state_from_gsd(filename='lattice.gsd')"
   ]
  },
  {
   "cell_type": "code",
   "execution_count": null,
   "id": "0f0ae5c6",
   "metadata": {},
   "outputs": [],
   "source": [
    "\n",
    "rigid = hoomd.md.constrain.Rigid()"
   ]
  },
  {
   "cell_type": "code",
   "execution_count": null,
   "id": "8dab08b8",
   "metadata": {},
   "outputs": [],
   "source": [
    "rigid.body['dimer'] = {\n",
    "    \"constituent_types\": ['A', 'A'],\n",
    "    \"positions\": dimer_positions,\n",
    "    \"orientations\": [(1.0, 0.0, 0.0, 0.0), (1.0, 0.0, 0.0, 0.0)],\n",
    "    \"charges\": [0.0, 0.0],\n",
    "    \"diameters\": [1., 1.]\n",
    "}"
   ]
  },
  {
   "cell_type": "code",
   "execution_count": null,
   "id": "2466fd0d",
   "metadata": {},
   "outputs": [],
   "source": [
    "integrator = hoomd.md.Integrator(dt=0.005, integrate_rotational_dof=True)\n",
    "sim.operations.integrator = integrator"
   ]
  },
  {
   "cell_type": "code",
   "execution_count": null,
   "id": "25c52b94",
   "metadata": {},
   "outputs": [],
   "source": [
    "\n",
    "integrator.rigid = rigid"
   ]
  },
  {
   "cell_type": "code",
   "execution_count": null,
   "id": "c6bc6405",
   "metadata": {},
   "outputs": [],
   "source": [
    "kT = 1.5\n",
    "rigid_centers_and_free = hoomd.filter.Rigid((\"center\", \"free\"))\n",
    "nvt = hoomd.md.methods.NVT(kT=kT, tau=1., filter=rigid_centers_and_free)\n",
    "# cap = hoomd.md.methods.DisplacementCapped(filter=rigid_centers_and_free, maximum_displacement=1e-2)\n",
    "integrator.methods.append(nvt)"
   ]
  },
  {
   "cell_type": "code",
   "execution_count": null,
   "id": "00d48f6c",
   "metadata": {},
   "outputs": [],
   "source": [
    "cell = hoomd.md.nlist.Cell(buffer=0, exclusions=['body'])"
   ]
  },
  {
   "cell_type": "code",
   "execution_count": null,
   "id": "ea3e7583",
   "metadata": {},
   "outputs": [],
   "source": [
    "lj = hoomd.md.pair.LJ(nlist=cell)\n",
    "lj.params[('A', 'A')] = dict(epsilon=1, sigma=1)\n",
    "lj.r_cut[('A', 'A')] = 2.5\n",
    "\n",
    "lj.params[('dimer', ['dimer', 'A'])] = dict(epsilon=0, sigma=0)\n",
    "lj.r_cut[('dimer', ['dimer', 'A'])] = 0"
   ]
  },
  {
   "cell_type": "code",
   "execution_count": null,
   "id": "e51b0071",
   "metadata": {},
   "outputs": [],
   "source": [
    "integrator.forces.append(lj)"
   ]
  },
  {
   "cell_type": "code",
   "execution_count": null,
   "id": "aea0fb8a",
   "metadata": {},
   "outputs": [],
   "source": [
    "thermodynamic_quantities = hoomd.md.compute.ThermodynamicQuantities(\n",
    "    filter=hoomd.filter.All())\n",
    "\n",
    "sim.operations.computes.append(thermodynamic_quantities)"
   ]
  },
  {
   "cell_type": "code",
   "execution_count": null,
   "id": "fdf96ad6",
   "metadata": {},
   "outputs": [],
   "source": [
    "sim.state.thermalize_particle_momenta(filter=rigid_centers_and_free, kT=kT)\n",
    "sim.run(0)\n",
    "nvt.thermalize_thermostat_dof()"
   ]
  },
  {
   "cell_type": "code",
   "execution_count": null,
   "id": "d6fcb41a",
   "metadata": {},
   "outputs": [],
   "source": [
    "sim.state.box"
   ]
  },
  {
   "cell_type": "markdown",
   "id": "3e24a466",
   "metadata": {},
   "source": [
    "#### Shrink the box"
   ]
  },
  {
   "cell_type": "code",
   "execution_count": null,
   "id": "6edc7142",
   "metadata": {},
   "outputs": [],
   "source": [
    "initial_box = sim.state.box\n",
    "final_box = hoomd.Box.from_box(initial_box)  # make a copy of initial_box\n",
    "final_box.volume = initial_box.volume / 7\n",
    "box_resize_trigger = hoomd.trigger.Periodic(10)\n",
    "ramp = hoomd.variant.Ramp(A=0, B=1, t_start=sim.timestep, t_ramp=20000)\n",
    "box_resize = hoomd.update.BoxResize(box1=initial_box,\n",
    "                                    box2=final_box,\n",
    "                                    variant=ramp,\n",
    "                                    trigger=box_resize_trigger)\n",
    "sim.operations.updaters.append(box_resize)"
   ]
  },
  {
   "cell_type": "code",
   "execution_count": null,
   "id": "f7f3f16f",
   "metadata": {},
   "outputs": [],
   "source": [
    "sim.run(30000)"
   ]
  },
  {
   "cell_type": "code",
   "execution_count": null,
   "id": "df358f39",
   "metadata": {},
   "outputs": [],
   "source": [
    "sim.state.box"
   ]
  },
  {
   "cell_type": "code",
   "execution_count": null,
   "id": "adf82b73",
   "metadata": {},
   "outputs": [],
   "source": [
    "thermodynamic_quantities.translational_kinetic_energy"
   ]
  },
  {
   "cell_type": "code",
   "execution_count": null,
   "id": "72bea45e",
   "metadata": {},
   "outputs": [],
   "source": [
    "thermodynamic_quantities.rotational_kinetic_energy"
   ]
  },
  {
   "cell_type": "code",
   "execution_count": null,
   "id": "e0b4a0d1",
   "metadata": {},
   "outputs": [],
   "source": [
    "sim.operations.updaters.clear()"
   ]
  },
  {
   "cell_type": "markdown",
   "id": "dee36894",
   "metadata": {},
   "source": [
    "### shrinking is done, let's log properties."
   ]
  },
  {
   "cell_type": "code",
   "execution_count": null,
   "id": "62b8392b",
   "metadata": {},
   "outputs": [],
   "source": [
    "if not os.path.exists(\"dimer_init_data\"):\n",
    "    os.mkdir(\"dimer_init_data\")"
   ]
  },
  {
   "cell_type": "code",
   "execution_count": null,
   "id": "0ec0a9ae",
   "metadata": {},
   "outputs": [],
   "source": [
    "import h5py\n",
    "import numpy as np\n",
    "class RigidDataWriter(hoomd.custom.Action):\n",
    "    def __init__(self, filename, mode, N_rigids):\n",
    "        self.filename = filename\n",
    "        self.N_rigids = N_rigids\n",
    "        self.properties = ['position', 'orientation', 'net_force', 'net_torque']\n",
    "        if mode not in {'w', 'w-', 'x', 'a', 'r+'}:\n",
    "            raise ValueError(\"mode must be writtable\")\n",
    "        self.file = h5py.File(filename, mode)\n",
    "        self.write_metadata()\n",
    "        frames = list(self.file.keys())\n",
    "        if frames:\n",
    "            self._cur_frame = max(map(int, frames)) + 1\n",
    "        else:\n",
    "            self._cur_frame = 1\n",
    "\n",
    "    def write_metadata(self):\n",
    "        \"\"\"Write the file metadata that defines the type of hdf5 file\"\"\"\n",
    "        if 'app' in self.file.attrs:\n",
    "            if self.file.attrs.app != 'hoomd-v3':\n",
    "                raise RuntimeError(\n",
    "                    'HDF5 file metadata \"app\" is not \"hoomd-v3\".')\n",
    "        else:\n",
    "            self.file.attrs.app = 'hoomd-v3'\n",
    "\n",
    "        if 'version' not in self.file.attrs:\n",
    "            self.file.attrs.version = '1.0'\n",
    "\n",
    "    def act(self, timestep):\n",
    "        new_frame = self.file.create_group(str(self._cur_frame))\n",
    "        self._cur_frame += 1\n",
    "        with self._state.cpu_local_snapshot as snap:\n",
    "            rtag = np.array(snap.particles.rtag, copy=True)\n",
    "            for prop in self.properties:\n",
    "                data = np.array(getattr(snap.particles, prop), copy=True)\n",
    "                data = data[rtag][:self.N_rigids]\n",
    "                dataset = new_frame.create_dataset(prop, data.shape, dtype=str(data.dtype))\n",
    "                dataset[:] = data\n",
    "\n",
    "        new_frame.attrs['timestep'] = timestep\n",
    "\n",
    "    def __del__(self):\n",
    "        self.file.close()\n",
    "\n",
    "\n",
    "h5_writer = hoomd.write.CustomWriter(action=RigidDataWriter(filename=\"dimer_init_data/rigid_traj_v2.h5\",\n",
    "                                                            mode=\"w\", N_rigids=2),\n",
    "                                     trigger=int(1))\n",
    "\n",
    "\n",
    "# Logging \n",
    "log_quantities = [\n",
    "            \"kinetic_temperature\",\n",
    "            \"potential_energy\",\n",
    "            \"kinetic_energy\",\n",
    "            \"volume\",\n",
    "            \"pressure\",\n",
    "            \"pressure_tensor\",\n",
    "        ]\n",
    "logger = hoomd.logging.Logger(categories=[\"scalar\", \"string\", \"particle\"])\n",
    "logger.add(sim, quantities=[\"timestep\", \"tps\"])\n",
    "thermo_props = hoomd.md.compute.ThermodynamicQuantities(filter=hoomd.filter.All())\n",
    "sim.operations.computes.append(thermo_props)\n",
    "logger.add(thermo_props, quantities=log_quantities)\n",
    "\n",
    "for f in integrator.forces:\n",
    "    \n",
    "    logger.add(f, quantities=[\"energy\", \"forces\", \"energies\"])\n",
    "\n",
    "gsd_writer = hoomd.write.GSD(\n",
    "    filename=\"dimer_init_data/traj_v2.gsd\",\n",
    "    trigger=hoomd.trigger.Periodic(int(10)),\n",
    "    mode=\"wb\",\n",
    "    logger=logger,\n",
    "    dynamic=[\"momentum\"]\n",
    "    )\n",
    "\n",
    "sim.operations.writers.append(gsd_writer)\n",
    "sim.operations.writers.append(h5_writer)\n"
   ]
  },
  {
   "cell_type": "code",
   "execution_count": null,
   "id": "be24e3ed",
   "metadata": {},
   "outputs": [],
   "source": [
    "sim.run(100000)"
   ]
  },
  {
   "cell_type": "code",
   "execution_count": null,
   "id": "8628c49c",
   "metadata": {},
   "outputs": [],
   "source": [
    "h5_writer.file.flush()"
   ]
  },
  {
   "cell_type": "code",
   "execution_count": null,
   "id": "b094d6b0",
   "metadata": {},
   "outputs": [],
   "source": [
    "h5_writer.file.close()"
   ]
  },
  {
   "cell_type": "markdown",
   "id": "8d0f4d7d",
   "metadata": {},
   "source": [
    "## Part 3: Collect data after finishing simulation (preparing ML datasets)"
   ]
  },
  {
   "cell_type": "code",
   "execution_count": null,
   "id": "f5acf3cc",
   "metadata": {},
   "outputs": [],
   "source": [
    "import pandas as pd\n",
    "import h5py\n",
    "import numpy as np\n",
    "f = h5py.File(\"dimer_init_data/rigid_traj_v2.h5\", 'r')\n",
    "traj_df = pd.DataFrame()\n",
    "for i, frame in enumerate(f.keys()):\n",
    "    if i % 10000 == 0:\n",
    "        print(i)\n",
    "    dset = dict(f[frame])\n",
    "    dset = {key: np.array(value) for key, value in dset.items()}\n",
    "    dset['timestep'] = f[frame].attrs['timestep']\n",
    "    traj_df = pd.concat([traj_df,pd.DataFrame([dset])], ignore_index=True)\n",
    "\n",
    "f.close()\n",
    "\n",
    "\n",
    "positions = np.asarray(traj_df[\"position\"].tolist())\n",
    "orientations = np.asarray(traj_df[\"orientation\"].tolist())\n",
    "net_force = np.asarray(traj_df[\"net_force\"].tolist())\n",
    "net_torque = np.asarray(traj_df['net_torque'].tolist())"
   ]
  },
  {
   "cell_type": "code",
   "execution_count": null,
   "id": "9d573dc2",
   "metadata": {},
   "outputs": [],
   "source": [
    "import rowan"
   ]
  },
  {
   "cell_type": "code",
   "execution_count": null,
   "id": "32dbbf3c",
   "metadata": {},
   "outputs": [],
   "source": [
    "import gsd.hoomd\n",
    "\n",
    "traj = gsd.hoomd.open(\"dimer_init_data/traj_v2.gsd\")"
   ]
  },
  {
   "cell_type": "code",
   "execution_count": null,
   "id": "8cd3b039",
   "metadata": {},
   "outputs": [],
   "source": [
    "box_len = traj[0].configuration.box[0] / 2."
   ]
  },
  {
   "cell_type": "code",
   "execution_count": null,
   "id": "0c3b10ad",
   "metadata": {},
   "outputs": [],
   "source": [
    "def check_boundary(x, l):\n",
    "    if x > l:\n",
    "        return x - l\n",
    "    elif x < -l:\n",
    "        return x + l\n",
    "    return x\n",
    "    "
   ]
  },
  {
   "cell_type": "code",
   "execution_count": null,
   "id": "106e0cef",
   "metadata": {},
   "outputs": [],
   "source": [
    "rel_positions = []\n",
    "rel_orientations = []\n",
    "forces = []\n",
    "torques = []\n",
    "for pos, orient, force, torque in zip(positions, orientations, net_force, net_torque):\n",
    "    dx, dy, dz = pos[0] - pos[1]\n",
    "    dx = check_boundary(dx, box_len)\n",
    "    dy = check_boundary(dy, box_len)\n",
    "    dz = check_boundary(dz, box_len)\n",
    "    rel_positions.append([dx, dy, dz])\n",
    "    rel_positions.append([-dx, -dy, -dz])\n",
    "    rel_orientations.append(rowan.multiply(orient[1], rowan.conjugate(orient[0])))\n",
    "    rel_orientations.append(rowan.multiply(orient[0],rowan.conjugate(orient[1])))\n",
    "    forces.append(force[0])\n",
    "    forces.append(force[1])\n",
    "    torques.append(torque[0])\n",
    "    torques.append(torque[1])"
   ]
  },
  {
   "cell_type": "code",
   "execution_count": null,
   "id": "bbac4bb4",
   "metadata": {},
   "outputs": [],
   "source": [
    "columns = [\n",
    "    \"position\",\n",
    "    \"orientation\",\n",
    "    \"net_force\",\n",
    "    \"net_torque\",\n",
    "]"
   ]
  },
  {
   "cell_type": "code",
   "execution_count": null,
   "id": "353c39f0",
   "metadata": {},
   "outputs": [],
   "source": [
    "new_traj_df = pd.DataFrame(columns=columns)\n",
    "new_traj_df[\"position\"] = rel_positions\n",
    "new_traj_df[\"orientation\"] = rel_orientations\n",
    "new_traj_df[\"net_force\"] = forces\n",
    "new_traj_df[\"net_torque\"] = torques"
   ]
  },
  {
   "cell_type": "code",
   "execution_count": null,
   "id": "ee09bece",
   "metadata": {},
   "outputs": [],
   "source": [
    "import os\n",
    "target_datapath = \"/home/marjanalbooyeh/code/ML_LJ/dimer-learner/CG_ML_workflow/dataset/dimerv2/\"\n",
    "if not os.path.exists(target_datapath):\n",
    "    os.mkdir(target_datapath)"
   ]
  },
  {
   "cell_type": "code",
   "execution_count": null,
   "id": "e8ea0e2b",
   "metadata": {},
   "outputs": [],
   "source": [
    "new_traj_df.to_pickle(os.path.join(target_datapath, \"raw.pkl\"))"
   ]
  },
  {
   "cell_type": "code",
   "execution_count": null,
   "id": "73039c08",
   "metadata": {},
   "outputs": [],
   "source": [
    "new_traj_df = new_traj_df.sample(frac=1).reset_index(drop=True)\n",
    "\n",
    "test_frac = 0.1\n",
    "val_frac = 0.1\n",
    "\n",
    "dataset_len = new_traj_df.shape[0]\n",
    "test_len = int(dataset_len * test_frac)\n",
    "val_len = int(dataset_len * val_frac)\n",
    "\n",
    "test_df = new_traj_df.loc[:test_len]\n",
    "\n",
    "val_df = new_traj_df.loc[test_len: test_len + val_len]\n",
    "\n",
    "train_df = new_traj_df.loc[test_len + val_len:]\n"
   ]
  },
  {
   "cell_type": "code",
   "execution_count": null,
   "id": "c521c5c6",
   "metadata": {},
   "outputs": [],
   "source": [
    "train_df.to_pickle(os.path.join(target_datapath, 'train.pkl'))\n",
    "val_df.to_pickle(os.path.join(target_datapath, 'val.pkl'))\n",
    "test_df.to_pickle(os.path.join(target_datapath, 'test.pkl'))"
   ]
  },
  {
   "cell_type": "markdown",
   "id": "eda67510",
   "metadata": {},
   "source": [
    "### Analyzing the data"
   ]
  },
  {
   "cell_type": "code",
   "execution_count": null,
   "id": "d6266c8e",
   "metadata": {},
   "outputs": [],
   "source": [
    "import gsd.hoomd"
   ]
  },
  {
   "cell_type": "code",
   "execution_count": null,
   "id": "578d44c2",
   "metadata": {},
   "outputs": [],
   "source": [
    "gsd_traj = gsd.hoomd.open(\"dimer_init_data/traj_v2.gsd\", \"rb\")"
   ]
  },
  {
   "cell_type": "code",
   "execution_count": null,
   "id": "9b8c2bff",
   "metadata": {},
   "outputs": [],
   "source": [
    "gsd_traj[0].log.keys()"
   ]
  },
  {
   "cell_type": "code",
   "execution_count": null,
   "id": "550b90b3",
   "metadata": {},
   "outputs": [],
   "source": [
    "import numpy as np\n",
    "import rowan"
   ]
  },
  {
   "cell_type": "code",
   "execution_count": null,
   "id": "0ffe6809",
   "metadata": {},
   "outputs": [],
   "source": [
    "box_len = gsd_traj[-1].configuration.box[0] / 2.\n",
    "box_len"
   ]
  },
  {
   "cell_type": "code",
   "execution_count": null,
   "id": "557a22eb",
   "metadata": {},
   "outputs": [],
   "source": [
    "positions_1 = []\n",
    "orient_dis = []\n",
    "r_1 = []\n",
    "energies_1 = []\n",
    "forces_1 = []\n",
    "\n",
    "for frame in gsd_traj:\n",
    "    pos = frame.particles.position\n",
    "    orient = frame.particles.orientation\n",
    "    positions_1.append(pos)\n",
    "    dx, dy, dz = pos[0] - pos[1]\n",
    "    dx = check_boundary(dx, box_len)\n",
    "    dy = check_boundary(dy, box_len)\n",
    "    dz = check_boundary(dz, box_len)\n",
    "    r_1.append(np.linalg.norm([dx, dy, dz]))\n",
    "    orient_dis.append(rowan.geometry.distance(orient[0], orient[1]))\n",
    "    energies_1.append(frame.log['md/pair/LJ/energy'])\n",
    "    forces_1.append(frame.log['particles/md/pair/LJ/forces'])\n"
   ]
  },
  {
   "cell_type": "code",
   "execution_count": null,
   "id": "eb488d15",
   "metadata": {
    "scrolled": true
   },
   "outputs": [],
   "source": [
    "import matplotlib.pyplot as plt\n",
    "plt.scatter(orient_dis, np.asarray(energies_1)/2)\n",
    "plt.xlabel(\"Orientation distance\")\n",
    "plt.ylabel(\"COM Energies\")"
   ]
  },
  {
   "cell_type": "code",
   "execution_count": null,
   "id": "b5d107cd",
   "metadata": {},
   "outputs": [],
   "source": [
    "plt.scatter(r_1, np.asarray(energies_1)/2)\n",
    "plt.xlabel(\"center-to-center distance\")\n",
    "plt.ylabel(\"COM Energies\")"
   ]
  },
  {
   "cell_type": "markdown",
   "id": "12cb9724",
   "metadata": {},
   "source": [
    "### trying to make sense of data with Gay-Berne distance"
   ]
  },
  {
   "cell_type": "code",
   "execution_count": null,
   "id": "095ca95f",
   "metadata": {},
   "outputs": [],
   "source": [
    "import rowan\n",
    "import torch\n",
    "def GB_compute(dr, lperp, lpar, qi, qj):\n",
    "    lperp = torch.tensor(lperp).unsqueeze(dim=0)\n",
    "    lpar = torch.tensor(lpar).unsqueeze(dim=0)\n",
    "    dr = torch.from_numpy(dr).unsqueeze(dim=0)\n",
    "    r_norm = torch.norm(dr, dim=-1)\n",
    "    unit_r = torch.einsum('ij, i -> ij', dr, 1/r_norm).to(torch.float32)\n",
    "\n",
    "    dr_dot =torch.einsum('ij, ij -> i', dr, dr)\n",
    "\n",
    "    \n",
    "    rot_A = rowan.to_matrix(rowan.conjugate(qi))\n",
    "    rot_B =  rowan.to_matrix(rowan.conjugate(qj))\n",
    "\n",
    "    a3 = torch.from_numpy(rot_A[:, 2]).unsqueeze(dim=0).to(torch.float32)\n",
    "    b3 = torch.from_numpy(rot_B[:, 2]).unsqueeze(dim=0).to(torch.float32)\n",
    "\n",
    "    ca=torch.einsum('ij, ij -> i', a3, unit_r )\n",
    "    cb=torch.einsum('ij, ij -> i', b3, unit_r )\n",
    "    cab=torch.einsum('ij, ij -> i', a3, b3 )\n",
    "\n",
    "    chi = (lpar**2 - lperp**2) / (lpar**2 + lperp**2)\n",
    "    chic = chi*cab\n",
    "\n",
    "    chi_fact = chi/(1-chic**2)\n",
    "    r_fact = (r_norm/(2*lperp**2))\n",
    "    par1 = torch.einsum('i, ij ->ij ', (ca-chic*cb), a3)\n",
    "    par2 = torch.einsum('i, ij ->ij ', (cb-chic*ca), b3)\n",
    "    inner_fact = par1 + par2\n",
    "\n",
    "\n",
    "    kappa = torch.einsum('i, ij ->ij', r_fact, (unit_r-torch.einsum('i, ij ->ij', chi_fact,inner_fact)))\n",
    "\n",
    "    phi = (1/2) * torch.einsum('ij, ij -> i', dr, kappa) / dr_dot\n",
    "\n",
    "\n",
    "    sigma = 1/torch.sqrt(phi)\n",
    "\n",
    "\n",
    "    sigma_min = 2*torch.min(torch.stack((lperp, lpar), dim=-1), dim=-1)[0]\n",
    "    sigma_max = 2*torch.max(torch.stack((lperp, lpar), dim=-1), dim=-1)[0]\n",
    "\n",
    "    zeta = (r_norm - sigma + sigma_min) / sigma_min\n",
    "    return zeta"
   ]
  },
  {
   "cell_type": "code",
   "execution_count": null,
   "id": "93f9e8d2",
   "metadata": {},
   "outputs": [],
   "source": [
    "gb_dist = []\n",
    "for dr, ori in zip(dists, orients):\n",
    "    gb_dist.append(GB_compute(dr, lperp=1, lpar=2.2, qi=ori[0], qj=ori[1]).item())"
   ]
  },
  {
   "cell_type": "code",
   "execution_count": null,
   "id": "f10bd195",
   "metadata": {
    "scrolled": true
   },
   "outputs": [],
   "source": [
    "import matplotlib.pyplot as plt\n",
    "plt.scatter(gb_dist, np.asarray(energies))[0].item()\n",
    "plt.xlabel(\"GB distance\")\n",
    "plt.ylabel(\"Energies\")"
   ]
  },
  {
   "cell_type": "code",
   "execution_count": null,
   "id": "3b8e6ca1",
   "metadata": {},
   "outputs": [],
   "source": []
  }
 ],
 "metadata": {
  "kernelspec": {
   "display_name": "Python 3 (ipykernel)",
   "language": "python",
   "name": "python3"
  },
  "language_info": {
   "codemirror_mode": {
    "name": "ipython",
    "version": 3
   },
   "file_extension": ".py",
   "mimetype": "text/x-python",
   "name": "python",
   "nbconvert_exporter": "python",
   "pygments_lexer": "ipython3",
   "version": "3.11.3"
  }
 },
 "nbformat": 4,
 "nbformat_minor": 5
}

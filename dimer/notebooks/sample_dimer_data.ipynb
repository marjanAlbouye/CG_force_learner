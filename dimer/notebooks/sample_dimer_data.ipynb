{
 "cells": [
  {
   "cell_type": "markdown",
   "id": "b5a20fce",
   "metadata": {},
   "source": [
    "## Part 1: preparing dimer particles snapshot "
   ]
  },
  {
   "cell_type": "markdown",
   "id": "f38a3551",
   "metadata": {},
   "source": [
    "You only need to run part 1 once."
   ]
  },
  {
   "cell_type": "code",
   "execution_count": 1,
   "id": "b8b72840",
   "metadata": {},
   "outputs": [],
   "source": [
    "import itertools\n",
    "import math\n",
    "\n",
    "\n",
    "import gsd.hoomd\n",
    "import hoomd\n",
    "import matplotlib\n",
    "import numpy\n",
    "\n",
    "import h5py\n",
    "import numpy as np\n",
    "\n",
    "\n",
    "%matplotlib inline\n",
    "matplotlib.style.use('ggplot')"
   ]
  },
  {
   "cell_type": "code",
   "execution_count": 135,
   "id": "d6488a08",
   "metadata": {},
   "outputs": [],
   "source": [
    "import os\n",
    "\n",
    "fn = os.path.join(os.getcwd(), 'dimer_centers.gsd')\n",
    "![ -e \"$fn\" ] && rm \"$fn\"\n",
    "\n",
    "fn = os.path.join(os.getcwd(), 'lattice.gsd')\n",
    "![ -e \"$fn\" ] && rm \"$fn\""
   ]
  },
  {
   "cell_type": "code",
   "execution_count": 136,
   "id": "00edbd06",
   "metadata": {},
   "outputs": [],
   "source": [
    "import warnings\n",
    "\n",
    "import fresnel\n",
    "import IPython\n",
    "import packaging.version\n",
    "\n",
    "device = fresnel.Device()\n",
    "tracer = fresnel.tracer.Path(device=device, w=300, h=300)\n",
    "\n",
    "FRESNEL_MIN_VERSION = packaging.version.parse(\"0.13.0\")\n",
    "FRESNEL_MAX_VERSION = packaging.version.parse(\"0.14.0\")\n",
    "\n",
    "\n",
    "def render(snapshot):\n",
    "    if ('version' not in dir(fresnel) or packaging.version.parse(\n",
    "            fresnel.version.version) < FRESNEL_MIN_VERSION\n",
    "            or packaging.version.parse(\n",
    "                fresnel.version.version) >= FRESNEL_MAX_VERSION):\n",
    "        warnings.warn(\n",
    "            f\"Unsupported fresnel version {fresnel.version.version} - expect errors.\"\n",
    "        )\n",
    "    central_color = fresnel.color.linear([252 / 255, 41 / 255, 0 / 255])\n",
    "    constituent_color = fresnel.color.linear([93 / 255, 210 / 255, 252 / 255])\n",
    "\n",
    "    L = snapshot.configuration.box[0]\n",
    "    scene = fresnel.Scene(device)\n",
    "    geometry = fresnel.geometry.Sphere(scene,\n",
    "                                       N=len(snapshot.particles.position),\n",
    "                                       radius=0.5)\n",
    "    geometry.material = fresnel.material.Material(color=[0, 0, 0],\n",
    "                                                  roughness=0.5,\n",
    "                                                  primitive_color_mix=1.0)\n",
    "    geometry.position[:] = snapshot.particles.position[:]\n",
    "    geometry.color[snapshot.particles.typeid[:] == 0] = central_color\n",
    "    geometry.radius[snapshot.particles.typeid[:] == 0] = 0.3\n",
    "    geometry.color[snapshot.particles.typeid[:] == 1] = constituent_color\n",
    "    geometry.outline_width = 0.04\n",
    "    box = fresnel.geometry.Box(scene, [L, L, L, 0, 0, 0], box_radius=.02)\n",
    "\n",
    "    scene.lights = [\n",
    "        fresnel.light.Light(direction=(0, 0, 1),\n",
    "                            color=(0.8, 0.8, 0.8),\n",
    "                            theta=math.pi),\n",
    "        fresnel.light.Light(direction=(1, 1, 1),\n",
    "                            color=(1.1, 1.1, 1.1),\n",
    "                            theta=math.pi / 3)\n",
    "    ]\n",
    "    scene.camera = fresnel.camera.Orthographic(position=(L * 2, L, L * 2),\n",
    "                                               look_at=(0, 0, 0),\n",
    "                                               up=(0, 1, 0),\n",
    "                                               height=L * 1.4 + 1)\n",
    "    scene.background_color = (1, 1, 1)\n",
    "    return IPython.display.Image(tracer.sample(scene, samples=500)._repr_png_())"
   ]
  },
  {
   "cell_type": "code",
   "execution_count": 137,
   "id": "c4396f2a",
   "metadata": {},
   "outputs": [],
   "source": [
    "dimer_positions = [[-0.6, 0, 0], [0.6, 0, 0]]\n",
    "central_position = [10, 5, 0]\n",
    "central_rotation = 0.9\n",
    "cos_theta = math.cos(central_rotation)\n",
    "sin_theta = math.sin(central_rotation)\n",
    "\n",
    "global_positions = []\n",
    "for i in range(len(dimer_positions)):\n",
    "    x, y = dimer_positions[i][:2]\n",
    "\n",
    "    global_positions.append(\n",
    "        [[central_position[0] + (x * cos_theta - y * sin_theta)],\n",
    "         [central_position[1] + (y * cos_theta + x * sin_theta)]])"
   ]
  },
  {
   "cell_type": "code",
   "execution_count": 138,
   "id": "0b925016",
   "metadata": {},
   "outputs": [
    {
     "data": {
      "text/plain": [
       "[[[9.627034019037602], [4.53000385422351]],\n",
       " [[10.372965980962398], [5.46999614577649]]]"
      ]
     },
     "execution_count": 138,
     "metadata": {},
     "output_type": "execute_result"
    }
   ],
   "source": [
    "global_positions"
   ]
  },
  {
   "cell_type": "code",
   "execution_count": 139,
   "id": "470420d1",
   "metadata": {},
   "outputs": [
    {
     "data": {
      "image/png": "[encoded data removed]",
      "text/plain": [
       "<Figure size 1000x618 with 1 Axes>"
      ]
     },
     "execution_count": 139,
     "metadata": {},
     "output_type": "execute_result"
    }
   ],
   "source": [
    "fig = matplotlib.figure.Figure(figsize=(10, 6.18), dpi=100)\n",
    "ax = fig.add_subplot(aspect='equal')\n",
    "\n",
    "ax.plot([central_position[0], central_position[0] - 3 * sin_theta],\n",
    "        [central_position[1], central_position[1] + 3 * cos_theta],\n",
    "        color='k')\n",
    "\n",
    "ax.plot([central_position[0], central_position[0] + 3 * cos_theta],\n",
    "        [central_position[1], central_position[1] + 3 * sin_theta],\n",
    "        color='k')\n",
    "\n",
    "ax.text(central_position[0] + 1.5 * cos_theta,\n",
    "        central_position[1] + 1.5 * sin_theta,\n",
    "        'Body X',\n",
    "        rotation=central_rotation * 180 / math.pi,\n",
    "        verticalalignment='center')\n",
    "\n",
    "ax.text(central_position[0] - 2 * sin_theta,\n",
    "        central_position[1] + 2 * cos_theta,\n",
    "        'Body Y',\n",
    "        rotation=central_rotation * 180 / math.pi + 90,\n",
    "        verticalalignment='center')\n",
    "\n",
    "ax.add_patch(\n",
    "    matplotlib.patches.Circle((central_position[0], central_position[1]),\n",
    "                              0.1,\n",
    "                              color='C0'))\n",
    "\n",
    "for position in global_positions:\n",
    "    ax.add_patch(\n",
    "        matplotlib.patches.Circle((position[0], position[1]), 1.0, color='C1'))\n",
    "\n",
    "ax.set_xlim(0, 20)\n",
    "ax.set_ylim(0, 12)\n",
    "\n",
    "ax.set_xlabel('Global X')\n",
    "ax.set_ylabel('Global Y')\n",
    "\n",
    "fig"
   ]
  },
  {
   "cell_type": "code",
   "execution_count": 140,
   "id": "8901d6fb",
   "metadata": {},
   "outputs": [
    {
     "name": "stderr",
     "output_type": "stream",
     "text": [
      "/home/marjanalbooyeh/mambaforge/envs/LJ-ML/lib/python3.11/site-packages/gsd/hoomd.py:420: FutureWarning: Snapshot is deprecated, use Frame\n",
      "  warnings.warn(\"Snapshot is deprecated, use Frame\", FutureWarning)\n"
     ]
    }
   ],
   "source": [
    "snapshot = gsd.hoomd.Snapshot()\n",
    "snapshot.particles.types = ['dimer', 'A']"
   ]
  },
  {
   "cell_type": "code",
   "execution_count": 141,
   "id": "cc31a923",
   "metadata": {},
   "outputs": [],
   "source": [
    "N_particles = 2\n",
    "spacing = 5\n",
    "K = math.ceil(N_particles**(1 / 3))\n",
    "L = K * spacing\n",
    "x = numpy.linspace(-L / 2, L / 2, K, endpoint=False)\n",
    "position = list(itertools.product(x, repeat=3))\n",
    "position = numpy.array(position) + [spacing / 2, spacing / 2, spacing / 2]\n",
    "snapshot.particles.N = N_particles\n",
    "snapshot.particles.position = position[0:N_particles, :]\n",
    "snapshot.particles.typeid = [0] * N_particles\n",
    "snapshot.configuration.box = [L, L, L, 0, 0, 0]"
   ]
  },
  {
   "cell_type": "code",
   "execution_count": 142,
   "id": "ae2f5a2c",
   "metadata": {},
   "outputs": [],
   "source": [
    "snapshot.particles.mass = [2] * N_particles"
   ]
  },
  {
   "cell_type": "code",
   "execution_count": 143,
   "id": "5d98e1d3",
   "metadata": {},
   "outputs": [
    {
     "data": {
      "text/plain": [
       "array([[0.  , 0.  , 0.  ],\n",
       "       [0.  , 0.72, 0.  ],\n",
       "       [0.  , 0.  , 0.72]])"
      ]
     },
     "execution_count": 143,
     "metadata": {},
     "output_type": "execute_result"
    }
   ],
   "source": [
    "mass = 1\n",
    "I = numpy.zeros(shape=(3, 3))\n",
    "for r in dimer_positions:\n",
    "    I += mass * (numpy.dot(r, r) * numpy.identity(3) - numpy.outer(r, r))\n",
    "I"
   ]
  },
  {
   "cell_type": "code",
   "execution_count": 144,
   "id": "3dac9779",
   "metadata": {},
   "outputs": [],
   "source": [
    "\n",
    "snapshot.particles.moment_inertia = [I[0, 0], I[1, 1], I[2, 2]] * N_particles"
   ]
  },
  {
   "cell_type": "code",
   "execution_count": 145,
   "id": "278ca2c6",
   "metadata": {},
   "outputs": [],
   "source": [
    "snapshot.particles.orientation = [(1, 0, 0, 0)] * N_particles"
   ]
  },
  {
   "cell_type": "code",
   "execution_count": 146,
   "id": "6d6662ee",
   "metadata": {},
   "outputs": [],
   "source": [
    "snapshot.particles.position = [[-2.5, -2.5, -1, -2.5, -2.5, 1]]\n"
   ]
  },
  {
   "cell_type": "code",
   "execution_count": 147,
   "id": "ecc271a9",
   "metadata": {},
   "outputs": [
    {
     "name": "stderr",
     "output_type": "stream",
     "text": [
      "/home/marjanalbooyeh/mambaforge/envs/LJ-ML/lib/python3.11/site-packages/gsd/hoomd.py:1125: FutureWarning: The 'wb' mode is deprecated, use 'w'\n",
      "  gsdfileobj = fl.open(name=str(name),\n"
     ]
    }
   ],
   "source": [
    "with gsd.hoomd.open(name='dimer_centers.gsd', mode='wb') as f:\n",
    "    f.append(snapshot)"
   ]
  },
  {
   "cell_type": "code",
   "execution_count": 148,
   "id": "aefd15b9",
   "metadata": {},
   "outputs": [
    {
     "name": "stderr",
     "output_type": "stream",
     "text": [
      "/home/marjanalbooyeh/mambaforge/envs/LJ-ML/lib/python3.11/site-packages/hoomd/md/constrain.py:44: FutureWarning: The charges key is deprecated and will be removed in hoomd 4.0.\n",
      "  warnings.warn(msg, FutureWarning)\n",
      "/home/marjanalbooyeh/mambaforge/envs/LJ-ML/lib/python3.11/site-packages/hoomd/md/constrain.py:44: FutureWarning: The diameters key is deprecated and will be removed in hoomd 4.0.\n",
      "  warnings.warn(msg, FutureWarning)\n"
     ]
    }
   ],
   "source": [
    "rigid = hoomd.md.constrain.Rigid()\n",
    "rigid.body['dimer'] = {\n",
    "    \"constituent_types\": ['A', 'A'],\n",
    "    \"positions\": dimer_positions,\n",
    "    \"orientations\": [(1.0, 0.0, 0.0, 0.0), (1.0, 0.0, 0.0, 0.0)],\n",
    "    \"charges\": [0.0, 0.0],\n",
    "    \"diameters\": [1., 1.]\n",
    "}"
   ]
  },
  {
   "cell_type": "code",
   "execution_count": 149,
   "id": "f0f8fe75",
   "metadata": {},
   "outputs": [],
   "source": [
    "sim = hoomd.Simulation(device=hoomd.device.GPU(), seed=4)\n",
    "sim.create_state_from_gsd(filename='dimer_centers.gsd')"
   ]
  },
  {
   "cell_type": "code",
   "execution_count": 150,
   "id": "08987d45",
   "metadata": {},
   "outputs": [],
   "source": [
    "rigid.create_bodies(sim.state)"
   ]
  },
  {
   "cell_type": "code",
   "execution_count": 151,
   "id": "5ecfbd78",
   "metadata": {},
   "outputs": [],
   "source": [
    "hoomd.write.GSD.write(state=sim.state, mode='wb', filename='lattice.gsd')"
   ]
  },
  {
   "cell_type": "markdown",
   "id": "1fea2d7d",
   "metadata": {},
   "source": [
    "## Part2 : Run rigid body simulation"
   ]
  },
  {
   "cell_type": "code",
   "execution_count": 2,
   "id": "76847579",
   "metadata": {},
   "outputs": [],
   "source": [
    "dimer_positions = [[-0.6, 0, 0], [0.6, 0, 0]]"
   ]
  },
  {
   "cell_type": "code",
   "execution_count": 3,
   "id": "d49ea8ff",
   "metadata": {},
   "outputs": [],
   "source": [
    "\n",
    "gpu = hoomd.device.GPU()\n",
    "sim = hoomd.Simulation(device=gpu, seed=1)\n",
    "sim.create_state_from_gsd(filename='lattice.gsd')"
   ]
  },
  {
   "cell_type": "code",
   "execution_count": 4,
   "id": "0f0ae5c6",
   "metadata": {},
   "outputs": [],
   "source": [
    "\n",
    "rigid = hoomd.md.constrain.Rigid()"
   ]
  },
  {
   "cell_type": "code",
   "execution_count": 5,
   "id": "8dab08b8",
   "metadata": {},
   "outputs": [
    {
     "name": "stderr",
     "output_type": "stream",
     "text": [
      "/home/marjanalbooyeh/mambaforge/envs/LJ-ML/lib/python3.11/site-packages/hoomd/md/constrain.py:44: FutureWarning: The charges key is deprecated and will be removed in hoomd 4.0.\n",
      "  warnings.warn(msg, FutureWarning)\n",
      "/home/marjanalbooyeh/mambaforge/envs/LJ-ML/lib/python3.11/site-packages/hoomd/md/constrain.py:44: FutureWarning: The diameters key is deprecated and will be removed in hoomd 4.0.\n",
      "  warnings.warn(msg, FutureWarning)\n"
     ]
    }
   ],
   "source": [
    "rigid.body['dimer'] = {\n",
    "    \"constituent_types\": ['A', 'A'],\n",
    "    \"positions\": dimer_positions,\n",
    "    \"orientations\": [(1.0, 0.0, 0.0, 0.0), (1.0, 0.0, 0.0, 0.0)],\n",
    "    \"charges\": [0.0, 0.0],\n",
    "    \"diameters\": [1., 1.]\n",
    "}"
   ]
  },
  {
   "cell_type": "code",
   "execution_count": 6,
   "id": "2466fd0d",
   "metadata": {},
   "outputs": [],
   "source": [
    "integrator = hoomd.md.Integrator(dt=0.005, integrate_rotational_dof=True)\n",
    "sim.operations.integrator = integrator"
   ]
  },
  {
   "cell_type": "code",
   "execution_count": 7,
   "id": "25c52b94",
   "metadata": {},
   "outputs": [],
   "source": [
    "\n",
    "integrator.rigid = rigid"
   ]
  },
  {
   "cell_type": "code",
   "execution_count": 8,
   "id": "c6bc6405",
   "metadata": {},
   "outputs": [
    {
     "name": "stderr",
     "output_type": "stream",
     "text": [
      "/home/marjanalbooyeh/mambaforge/envs/LJ-ML/lib/python3.11/site-packages/hoomd/md/methods/methods.py:102: FutureWarning: NVT is deprecated and wil be removed in hoomd 4.0. In version 4.0, use the ConstantVolume method with the desired thermostat from hoomd.md.methods.thermostats.\n",
      "  warnings.warn(\n"
     ]
    }
   ],
   "source": [
    "kT = 1.5\n",
    "rigid_centers_and_free = hoomd.filter.Rigid((\"center\", \"free\"))\n",
    "nvt = hoomd.md.methods.NVT(kT=kT, tau=1., filter=rigid_centers_and_free)\n",
    "integrator.methods.append(nvt)\n",
    "# cap = hoomd.md.methods.DisplacementCapped(filter=rigid_centers_and_free, maximum_displacement=1e-2)\n",
    "# integrator.methods.append(cap)"
   ]
  },
  {
   "cell_type": "code",
   "execution_count": 9,
   "id": "00d48f6c",
   "metadata": {},
   "outputs": [],
   "source": [
    "cell = hoomd.md.nlist.Cell(buffer=0, exclusions=['body'])"
   ]
  },
  {
   "cell_type": "code",
   "execution_count": 10,
   "id": "ea3e7583",
   "metadata": {},
   "outputs": [],
   "source": [
    "lj = hoomd.md.pair.LJ(nlist=cell)\n",
    "lj.params[('A', 'A')] = dict(epsilon=1, sigma=1)\n",
    "lj.r_cut[('A', 'A')] = 2.5\n",
    "\n",
    "lj.params[('dimer', ['dimer', 'A'])] = dict(epsilon=0, sigma=0)\n",
    "lj.r_cut[('dimer', ['dimer', 'A'])] = 0"
   ]
  },
  {
   "cell_type": "code",
   "execution_count": 11,
   "id": "e51b0071",
   "metadata": {},
   "outputs": [],
   "source": [
    "integrator.forces.append(lj)"
   ]
  },
  {
   "cell_type": "code",
   "execution_count": 12,
   "id": "aea0fb8a",
   "metadata": {},
   "outputs": [],
   "source": [
    "thermodynamic_quantities = hoomd.md.compute.ThermodynamicQuantities(\n",
    "    filter=hoomd.filter.All())\n",
    "\n",
    "sim.operations.computes.append(thermodynamic_quantities)"
   ]
  },
  {
   "cell_type": "code",
   "execution_count": 13,
   "id": "fdf96ad6",
   "metadata": {},
   "outputs": [],
   "source": [
    "sim.state.thermalize_particle_momenta(filter=rigid_centers_and_free, kT=kT)\n",
    "sim.run(0)\n"
   ]
  },
  {
   "cell_type": "code",
   "execution_count": 14,
   "id": "2f2652cf",
   "metadata": {},
   "outputs": [],
   "source": [
    "nvt.thermalize_thermostat_dof()"
   ]
  },
  {
   "cell_type": "code",
   "execution_count": 15,
   "id": "d6fcb41a",
   "metadata": {},
   "outputs": [
    {
     "data": {
      "text/plain": [
       "hoomd.box.Box(Lx=10.0, Ly=10.0, Lz=10.0, xy=0.0, xz=0.0, yz=0.0)"
      ]
     },
     "execution_count": 15,
     "metadata": {},
     "output_type": "execute_result"
    }
   ],
   "source": [
    "sim.state.box"
   ]
  },
  {
   "cell_type": "markdown",
   "id": "3e24a466",
   "metadata": {},
   "source": [
    "#### Shrink the box"
   ]
  },
  {
   "cell_type": "code",
   "execution_count": 16,
   "id": "6edc7142",
   "metadata": {},
   "outputs": [],
   "source": [
    "initial_box = sim.state.box\n",
    "final_box = hoomd.Box.from_box(initial_box)  # make a copy of initial_box\n",
    "final_box.volume = initial_box.volume / 7\n",
    "box_resize_trigger = hoomd.trigger.Periodic(10)\n",
    "ramp = hoomd.variant.Ramp(A=0, B=1, t_start=sim.timestep, t_ramp=20000)\n",
    "box_resize = hoomd.update.BoxResize(box1=initial_box,\n",
    "                                    box2=final_box,\n",
    "                                    variant=ramp,\n",
    "                                    trigger=box_resize_trigger)\n",
    "sim.operations.updaters.append(box_resize)"
   ]
  },
  {
   "cell_type": "code",
   "execution_count": 17,
   "id": "f7f3f16f",
   "metadata": {},
   "outputs": [],
   "source": [
    "sim.run(30000)"
   ]
  },
  {
   "cell_type": "code",
   "execution_count": 18,
   "id": "df358f39",
   "metadata": {},
   "outputs": [
    {
     "data": {
      "text/plain": [
       "hoomd.box.Box(Lx=5.227579585747102, Ly=5.227579585747102, Lz=5.227579585747102, xy=0.0, xz=0.0, yz=0.0)"
      ]
     },
     "execution_count": 18,
     "metadata": {},
     "output_type": "execute_result"
    }
   ],
   "source": [
    "sim.state.box"
   ]
  },
  {
   "cell_type": "code",
   "execution_count": 19,
   "id": "adf82b73",
   "metadata": {},
   "outputs": [
    {
     "data": {
      "text/plain": [
       "2.7366191894907135"
      ]
     },
     "execution_count": 19,
     "metadata": {},
     "output_type": "execute_result"
    }
   ],
   "source": [
    "thermodynamic_quantities.translational_kinetic_energy"
   ]
  },
  {
   "cell_type": "code",
   "execution_count": 20,
   "id": "72bea45e",
   "metadata": {},
   "outputs": [
    {
     "data": {
      "text/plain": [
       "4.106848669693349"
      ]
     },
     "execution_count": 20,
     "metadata": {},
     "output_type": "execute_result"
    }
   ],
   "source": [
    "thermodynamic_quantities.rotational_kinetic_energy"
   ]
  },
  {
   "cell_type": "code",
   "execution_count": 21,
   "id": "e0b4a0d1",
   "metadata": {},
   "outputs": [],
   "source": [
    "sim.operations.updaters.clear()"
   ]
  },
  {
   "cell_type": "markdown",
   "id": "dee36894",
   "metadata": {},
   "source": [
    "### shrinking is done, let's log properties."
   ]
  },
  {
   "cell_type": "code",
   "execution_count": 22,
   "id": "62b8392b",
   "metadata": {},
   "outputs": [],
   "source": [
    "import os\n",
    "if not os.path.exists(\"dimer_init_data\"):\n",
    "    os.mkdir(\"dimer_init_data\")"
   ]
  },
  {
   "cell_type": "code",
   "execution_count": 23,
   "id": "0ec0a9ae",
   "metadata": {},
   "outputs": [],
   "source": [
    "import h5py\n",
    "import numpy as np\n",
    "class RigidDataWriter(hoomd.custom.Action):\n",
    "    def __init__(self, filename, mode, N_rigids):\n",
    "        self.filename = filename\n",
    "        self.N_rigids = N_rigids\n",
    "        self.properties = ['position', 'orientation', 'net_force', 'net_torque']\n",
    "        if mode not in {'w', 'w-', 'x', 'a', 'r+'}:\n",
    "            raise ValueError(\"mode must be writtable\")\n",
    "        self.file = h5py.File(filename, mode)\n",
    "        self.write_metadata()\n",
    "        frames = list(self.file.keys())\n",
    "        if frames:\n",
    "            self._cur_frame = max(map(int, frames)) + 1\n",
    "        else:\n",
    "            self._cur_frame = 1\n",
    "\n",
    "    def write_metadata(self):\n",
    "        \"\"\"Write the file metadata that defines the type of hdf5 file\"\"\"\n",
    "        if 'app' in self.file.attrs:\n",
    "            if self.file.attrs.app != 'hoomd-v3':\n",
    "                raise RuntimeError(\n",
    "                    'HDF5 file metadata \"app\" is not \"hoomd-v3\".')\n",
    "        else:\n",
    "            self.file.attrs.app = 'hoomd-v3'\n",
    "\n",
    "        if 'version' not in self.file.attrs:\n",
    "            self.file.attrs.version = '1.0'\n",
    "\n",
    "    def act(self, timestep):\n",
    "        new_frame = self.file.create_group(str(self._cur_frame))\n",
    "        self._cur_frame += 1\n",
    "        with self._state.cpu_local_snapshot as snap:\n",
    "            rtag = np.array(snap.particles.rtag, copy=True)\n",
    "            for prop in self.properties:\n",
    "                data = np.array(getattr(snap.particles, prop), copy=True)\n",
    "                data = data[rtag][:self.N_rigids]\n",
    "                dataset = new_frame.create_dataset(prop, data.shape, dtype=str(data.dtype))\n",
    "                dataset[:] = data\n",
    "\n",
    "        new_frame.attrs['timestep'] = timestep\n",
    "\n",
    "    def __del__(self):\n",
    "        self.file.close()\n",
    "\n",
    "\n",
    "h5_writer = hoomd.write.CustomWriter(action=RigidDataWriter(filename=\"dimer_init_data/rigid_traj_v2.h5\",\n",
    "                                                            mode=\"w\", N_rigids=2),\n",
    "                                     trigger=int(100))\n",
    "\n",
    "\n",
    "# Logging \n",
    "log_quantities = [\n",
    "            \"kinetic_temperature\",\n",
    "            \"potential_energy\",\n",
    "            \"kinetic_energy\",\n",
    "            \"volume\",\n",
    "            \"pressure\",\n",
    "            \"pressure_tensor\",\n",
    "        ]\n",
    "logger = hoomd.logging.Logger(categories=[\"scalar\", \"string\", \"particle\"])\n",
    "logger.add(sim, quantities=[\"timestep\", \"tps\"])\n",
    "thermo_props = hoomd.md.compute.ThermodynamicQuantities(filter=hoomd.filter.All())\n",
    "sim.operations.computes.append(thermo_props)\n",
    "logger.add(thermo_props, quantities=log_quantities)\n",
    "\n",
    "for f in integrator.forces:\n",
    "    \n",
    "    logger.add(f, quantities=[\"energy\", \"forces\", \"energies\"])\n",
    "\n",
    "gsd_writer = hoomd.write.GSD(\n",
    "    filename=\"dimer_init_data/traj_v2.gsd\",\n",
    "    trigger=hoomd.trigger.Periodic(int(100)),\n",
    "    mode=\"wb\",\n",
    "    logger=logger,\n",
    "    dynamic=[\"momentum\"]\n",
    "    )\n",
    "\n",
    "sim.operations.writers.append(gsd_writer)\n",
    "sim.operations.writers.append(h5_writer)\n"
   ]
  },
  {
   "cell_type": "code",
   "execution_count": 24,
   "id": "be24e3ed",
   "metadata": {},
   "outputs": [],
   "source": [
    "sim.run(500000)"
   ]
  },
  {
   "cell_type": "code",
   "execution_count": 25,
   "id": "88e8453e",
   "metadata": {},
   "outputs": [
    {
     "data": {
      "text/plain": [
       "530000"
      ]
     },
     "execution_count": 25,
     "metadata": {},
     "output_type": "execute_result"
    }
   ],
   "source": [
    "sim.timestep"
   ]
  },
  {
   "cell_type": "markdown",
   "id": "413d667c",
   "metadata": {},
   "source": [
    "In order to collect more data samples with energy >0, we manually change rigid center positions and bring them closer to eachother using capped distance integrator."
   ]
  },
  {
   "cell_type": "code",
   "execution_count": 71,
   "id": "0bc83cef",
   "metadata": {},
   "outputs": [
    {
     "name": "stdout",
     "output_type": "stream",
     "text": [
      "[[ 1.14717759 -0.79931423 -2.15829307]\n",
      " [ 0.9306745  -0.15112745 -2.46456633]\n",
      " [ 1.55824965 -0.52503408 -1.81801354]\n",
      " [ 0.73610552 -1.07359439 -2.49857259]\n",
      " [ 0.49357891 -0.11984679 -2.05472616]\n",
      " [ 1.36777009 -0.18240811  2.35317308]]\n"
     ]
    }
   ],
   "source": [
    "with sim._state.cpu_local_snapshot as data:\n",
    "    rtag = data.particles.rtag\n",
    "    print(data.particles.position[rtag])\n",
    "    first_rigid_pos = data.particles.position[rtag][0]"
   ]
  },
  {
   "cell_type": "code",
   "execution_count": 72,
   "id": "48560d4b",
   "metadata": {},
   "outputs": [
    {
     "data": {
      "text/plain": [
       "array([ 1.44717759, -0.49931423, -1.85829307])"
      ]
     },
     "execution_count": 72,
     "metadata": {},
     "output_type": "execute_result"
    }
   ],
   "source": [
    "second_rigid_pos = first_rigid_pos + [0.3 , 0.3, 0.3]\n",
    "second_rigid_pos"
   ]
  },
  {
   "cell_type": "code",
   "execution_count": 73,
   "id": "f41621a2",
   "metadata": {},
   "outputs": [],
   "source": [
    "with sim._state.cpu_local_snapshot as data:\n",
    "    second_rigid_idx = data.particles.rtag[1]\n",
    "    data.particles.position[second_rigid_idx] = second_rigid_pos\n",
    "    "
   ]
  },
  {
   "cell_type": "code",
   "execution_count": 74,
   "id": "6d1f2bab",
   "metadata": {},
   "outputs": [],
   "source": [
    "sim.run(0)"
   ]
  },
  {
   "cell_type": "code",
   "execution_count": 75,
   "id": "d4ebd029",
   "metadata": {},
   "outputs": [
    {
     "name": "stdout",
     "output_type": "stream",
     "text": [
      "[[ 1.14717759 -0.79931423 -2.15829307]\n",
      " [ 1.44717759 -0.49931423 -1.85829307]\n",
      " [ 1.55824965 -0.52503408 -1.81801354]\n",
      " [ 0.73610552 -1.07359439 -2.49857259]\n",
      " [ 1.010082   -0.46803357 -1.4484529 ]\n",
      " [ 1.88427318 -0.53059489 -2.26813324]]\n"
     ]
    }
   ],
   "source": [
    "with sim._state.cpu_local_snapshot as data:\n",
    "    rtag = data.particles.rtag\n",
    "    print(data.particles.position[rtag])"
   ]
  },
  {
   "cell_type": "code",
   "execution_count": 76,
   "id": "1409ad0c",
   "metadata": {},
   "outputs": [],
   "source": [
    "#remove nvt integrator\n",
    "integrator.methods.clear()"
   ]
  },
  {
   "cell_type": "code",
   "execution_count": 77,
   "id": "e78142f4",
   "metadata": {},
   "outputs": [],
   "source": [
    "cap = hoomd.md.methods.DisplacementCapped(filter=rigid_centers_and_free, maximum_displacement=1e-3)\n",
    "integrator.methods.append(cap)\n"
   ]
  },
  {
   "cell_type": "code",
   "execution_count": 78,
   "id": "41e6e40c",
   "metadata": {},
   "outputs": [],
   "source": [
    "sim.run(60000)"
   ]
  },
  {
   "cell_type": "code",
   "execution_count": 79,
   "id": "2c8c8bcb",
   "metadata": {},
   "outputs": [
    {
     "name": "stdout",
     "output_type": "stream",
     "text": [
      "[[ 1.5119932  -1.04241452  2.32834842]\n",
      " [ 1.08236197 -0.25621395 -1.11735497]\n",
      " [ 1.22591914 -0.92856333 -2.38425589]\n",
      " [ 1.79806726 -1.1562657   1.81337314]\n",
      " [ 1.19691364 -0.4242378  -1.68184225]\n",
      " [ 0.9678103  -0.08819009 -0.55286768]]\n"
     ]
    }
   ],
   "source": [
    "with sim._state.cpu_local_snapshot as data:\n",
    "    rtag = data.particles.rtag\n",
    "    print(data.particles.position[rtag])"
   ]
  },
  {
   "cell_type": "code",
   "execution_count": null,
   "id": "065635d4",
   "metadata": {},
   "outputs": [],
   "source": []
  },
  {
   "cell_type": "code",
   "execution_count": 211,
   "id": "8628c49c",
   "metadata": {},
   "outputs": [],
   "source": [
    "h5_writer.file.flush()"
   ]
  },
  {
   "cell_type": "code",
   "execution_count": 212,
   "id": "b094d6b0",
   "metadata": {},
   "outputs": [],
   "source": [
    "h5_writer.file.close()"
   ]
  },
  {
   "cell_type": "markdown",
   "id": "8d0f4d7d",
   "metadata": {},
   "source": [
    "## Part 3: Collect data after finishing simulation (preparing ML datasets)"
   ]
  },
  {
   "cell_type": "code",
   "execution_count": 213,
   "id": "f5acf3cc",
   "metadata": {},
   "outputs": [
    {
     "name": "stdout",
     "output_type": "stream",
     "text": [
      "0\n"
     ]
    }
   ],
   "source": [
    "import pandas as pd\n",
    "import h5py\n",
    "import numpy as np\n",
    "f = h5py.File(\"dimer_init_data/rigid_traj_v2.h5\", 'r')\n",
    "traj_df = pd.DataFrame()\n",
    "for i, frame in enumerate(f.keys()):\n",
    "    if i % 10000 == 0:\n",
    "        print(i)\n",
    "    dset = dict(f[frame])\n",
    "    dset = {key: np.array(value) for key, value in dset.items()}\n",
    "    dset['timestep'] = f[frame].attrs['timestep']\n",
    "    traj_df = pd.concat([traj_df,pd.DataFrame([dset])], ignore_index=True)\n",
    "\n",
    "f.close()\n",
    "\n",
    "\n",
    "positions = np.asarray(traj_df[\"position\"].tolist())\n",
    "orientations = np.asarray(traj_df[\"orientation\"].tolist())\n",
    "net_force = np.asarray(traj_df[\"net_force\"].tolist())\n",
    "net_torque = np.asarray(traj_df['net_torque'].tolist())"
   ]
  },
  {
   "cell_type": "code",
   "execution_count": 214,
   "id": "9d573dc2",
   "metadata": {},
   "outputs": [],
   "source": [
    "import rowan"
   ]
  },
  {
   "cell_type": "code",
   "execution_count": 215,
   "id": "32dbbf3c",
   "metadata": {},
   "outputs": [],
   "source": [
    "import gsd.hoomd\n",
    "\n",
    "traj = gsd.hoomd.open(\"dimer_init_data/traj_v2.gsd\")"
   ]
  },
  {
   "cell_type": "code",
   "execution_count": 216,
   "id": "8cd3b039",
   "metadata": {},
   "outputs": [],
   "source": [
    "box_len = traj[0].configuration.box[0] / 2."
   ]
  },
  {
   "cell_type": "code",
   "execution_count": 217,
   "id": "f2a8b0d1",
   "metadata": {},
   "outputs": [
    {
     "data": {
      "text/plain": [
       "2.6137897968292236"
      ]
     },
     "execution_count": 217,
     "metadata": {},
     "output_type": "execute_result"
    }
   ],
   "source": [
    "box_len"
   ]
  },
  {
   "cell_type": "code",
   "execution_count": 35,
   "id": "0c3b10ad",
   "metadata": {},
   "outputs": [],
   "source": [
    "def check_boundary(x, l):\n",
    "    if x > l:\n",
    "        return x - l\n",
    "    elif x < -l:\n",
    "        return x + l\n",
    "    return x\n",
    "    "
   ]
  },
  {
   "cell_type": "code",
   "execution_count": 219,
   "id": "106e0cef",
   "metadata": {},
   "outputs": [],
   "source": [
    "rel_positions = []\n",
    "rel_orientations = []\n",
    "forces = []\n",
    "torques = []\n",
    "for pos, orient, force, torque in zip(positions, orientations, net_force, net_torque):\n",
    "    dx, dy, dz = pos[0] - pos[1]\n",
    "    dx = check_boundary(dx, box_len)\n",
    "    dy = check_boundary(dy, box_len)\n",
    "    dz = check_boundary(dz, box_len)\n",
    "    rel_positions.append([dx, dy, dz])\n",
    "    rel_positions.append([-dx, -dy, -dz])\n",
    "    rel_orientations.append(rowan.multiply(orient[1], rowan.conjugate(orient[0])))\n",
    "    rel_orientations.append(rowan.multiply(orient[0],rowan.conjugate(orient[1])))\n",
    "    forces.append(force[0])\n",
    "    forces.append(force[1])\n",
    "    torques.append(torque[0])\n",
    "    torques.append(torque[1])"
   ]
  },
  {
   "cell_type": "code",
   "execution_count": 220,
   "id": "bbac4bb4",
   "metadata": {},
   "outputs": [],
   "source": [
    "columns = [\n",
    "    \"position\",\n",
    "    \"orientation\",\n",
    "    \"net_force\",\n",
    "    \"net_torque\",\n",
    "]"
   ]
  },
  {
   "cell_type": "code",
   "execution_count": 221,
   "id": "353c39f0",
   "metadata": {},
   "outputs": [],
   "source": [
    "new_traj_df = pd.DataFrame(columns=columns)\n",
    "new_traj_df[\"position\"] = rel_positions\n",
    "new_traj_df[\"orientation\"] = rel_orientations\n",
    "new_traj_df[\"net_force\"] = forces\n",
    "new_traj_df[\"net_torque\"] = torques"
   ]
  },
  {
   "cell_type": "code",
   "execution_count": 222,
   "id": "ee09bece",
   "metadata": {},
   "outputs": [],
   "source": [
    "import os\n",
    "target_datapath = \"/home/erjank_project/caesreu/datasets/dimer/\"\n",
    "if not os.path.exists(target_datapath):\n",
    "    os.mkdir(target_datapath)"
   ]
  },
  {
   "cell_type": "code",
   "execution_count": 223,
   "id": "e8ea0e2b",
   "metadata": {},
   "outputs": [],
   "source": [
    "new_traj_df.to_pickle(os.path.join(target_datapath, \"raw.pkl\"))"
   ]
  },
  {
   "cell_type": "code",
   "execution_count": 226,
   "id": "409e2629",
   "metadata": {},
   "outputs": [
    {
     "data": {
      "text/plain": [
       "(11000, 4)"
      ]
     },
     "execution_count": 226,
     "metadata": {},
     "output_type": "execute_result"
    }
   ],
   "source": [
    "new_traj_df.shape"
   ]
  },
  {
   "cell_type": "code",
   "execution_count": 224,
   "id": "73039c08",
   "metadata": {},
   "outputs": [],
   "source": [
    "new_traj_df = new_traj_df.sample(frac=1).reset_index(drop=True)\n",
    "\n",
    "test_frac = 0.1\n",
    "val_frac = 0.1\n",
    "\n",
    "dataset_len = new_traj_df.shape[0]\n",
    "test_len = int(dataset_len * test_frac)\n",
    "val_len = int(dataset_len * val_frac)\n",
    "\n",
    "test_df = new_traj_df.loc[:test_len]\n",
    "\n",
    "val_df = new_traj_df.loc[test_len: test_len + val_len]\n",
    "\n",
    "train_df = new_traj_df.loc[test_len + val_len:]\n"
   ]
  },
  {
   "cell_type": "code",
   "execution_count": 225,
   "id": "c521c5c6",
   "metadata": {},
   "outputs": [],
   "source": [
    "train_df.to_pickle(os.path.join(target_datapath, 'train.pkl'))\n",
    "val_df.to_pickle(os.path.join(target_datapath, 'val.pkl'))\n",
    "test_df.to_pickle(os.path.join(target_datapath, 'test.pkl'))"
   ]
  },
  {
   "cell_type": "markdown",
   "id": "eda67510",
   "metadata": {},
   "source": [
    "### Analyzing the data"
   ]
  },
  {
   "cell_type": "code",
   "execution_count": 80,
   "id": "d6266c8e",
   "metadata": {},
   "outputs": [],
   "source": [
    "import gsd.hoomd"
   ]
  },
  {
   "cell_type": "code",
   "execution_count": 81,
   "id": "578d44c2",
   "metadata": {},
   "outputs": [],
   "source": [
    "gsd_traj = gsd.hoomd.open(\"dimer_init_data/traj_v2.gsd\", \"rb\")"
   ]
  },
  {
   "cell_type": "code",
   "execution_count": 82,
   "id": "9b8c2bff",
   "metadata": {},
   "outputs": [
    {
     "data": {
      "text/plain": [
       "dict_keys(['Simulation/timestep', 'Simulation/tps', 'md/compute/ThermodynamicQuantities/kinetic_temperature', 'md/compute/ThermodynamicQuantities/potential_energy', 'md/compute/ThermodynamicQuantities/kinetic_energy', 'md/compute/ThermodynamicQuantities/volume', 'md/compute/ThermodynamicQuantities/pressure', 'md/pair/LJ/energy', 'particles/md/pair/LJ/forces', 'particles/md/pair/LJ/energies'])"
      ]
     },
     "execution_count": 82,
     "metadata": {},
     "output_type": "execute_result"
    }
   ],
   "source": [
    "gsd_traj[0].log.keys()"
   ]
  },
  {
   "cell_type": "code",
   "execution_count": 83,
   "id": "c180224a",
   "metadata": {},
   "outputs": [
    {
     "data": {
      "text/plain": [
       "6200"
      ]
     },
     "execution_count": 83,
     "metadata": {},
     "output_type": "execute_result"
    }
   ],
   "source": [
    "len(gsd_traj)"
   ]
  },
  {
   "cell_type": "code",
   "execution_count": 84,
   "id": "550b90b3",
   "metadata": {},
   "outputs": [],
   "source": [
    "import numpy as np\n",
    "import rowan"
   ]
  },
  {
   "cell_type": "code",
   "execution_count": 85,
   "id": "0ffe6809",
   "metadata": {},
   "outputs": [
    {
     "data": {
      "text/plain": [
       "2.6137897968292236"
      ]
     },
     "execution_count": 85,
     "metadata": {},
     "output_type": "execute_result"
    }
   ],
   "source": [
    "box_len = gsd_traj[-1].configuration.box[0] / 2.\n",
    "box_len"
   ]
  },
  {
   "cell_type": "code",
   "execution_count": 86,
   "id": "557a22eb",
   "metadata": {},
   "outputs": [],
   "source": [
    "positions_1 = []\n",
    "orient_dis = []\n",
    "r_1 = []\n",
    "energies_1 = []\n",
    "\n",
    "for frame in gsd_traj:\n",
    "    pos = frame.particles.position\n",
    "    orient = frame.particles.orientation\n",
    "    positions_1.append(pos)\n",
    "    dx, dy, dz = pos[0] - pos[1]\n",
    "    dx = check_boundary(dx, box_len)\n",
    "    dy = check_boundary(dy, box_len)\n",
    "    dz = check_boundary(dz, box_len)\n",
    "    r_1.append(np.linalg.norm([dx, dy, dz]))\n",
    "    orient_dis.append(rowan.geometry.distance(orient[0], orient[1]))\n",
    "    energies_1.append(frame.log['md/pair/LJ/energy'])\n"
   ]
  },
  {
   "cell_type": "code",
   "execution_count": 65,
   "id": "eb488d15",
   "metadata": {
    "scrolled": true
   },
   "outputs": [],
   "source": [
    "import matplotlib.pyplot as plt"
   ]
  },
  {
   "cell_type": "code",
   "execution_count": 42,
   "id": "b5d107cd",
   "metadata": {},
   "outputs": [
    {
     "data": {
      "text/plain": [
       "Text(0, 0.5, 'COM Energies')"
      ]
     },
     "execution_count": 42,
     "metadata": {},
     "output_type": "execute_result"
    },
    {
     "data": {
      "image/png": "[encoded data removed]",
      "text/plain": [
       "<Figure size 640x480 with 1 Axes>"
      ]
     },
     "metadata": {},
     "output_type": "display_data"
    }
   ],
   "source": [
    "plt.scatter(r_1, np.asarray(energies_1)/2)\n",
    "plt.xlabel(\"center-to-center distance\")\n",
    "plt.ylabel(\"COM Energies\")"
   ]
  },
  {
   "cell_type": "code",
   "execution_count": 87,
   "id": "5da05bd5",
   "metadata": {},
   "outputs": [
    {
     "data": {
      "text/plain": [
       "6200"
      ]
     },
     "execution_count": 87,
     "metadata": {},
     "output_type": "execute_result"
    }
   ],
   "source": [
    "len(energies_1)"
   ]
  },
  {
   "cell_type": "code",
   "execution_count": 88,
   "id": "3d1feb51",
   "metadata": {},
   "outputs": [],
   "source": [
    "energies_1 = np.asarray(energies_1)"
   ]
  },
  {
   "cell_type": "code",
   "execution_count": 89,
   "id": "4f5c796b",
   "metadata": {},
   "outputs": [
    {
     "data": {
      "text/plain": [
       "array([-3.99653689])"
      ]
     },
     "execution_count": 89,
     "metadata": {},
     "output_type": "execute_result"
    }
   ],
   "source": [
    "min(energies_1)"
   ]
  },
  {
   "cell_type": "code",
   "execution_count": 90,
   "id": "4597ae16",
   "metadata": {},
   "outputs": [
    {
     "data": {
      "text/plain": [
       "array([1709411.70185598])"
      ]
     },
     "execution_count": 90,
     "metadata": {},
     "output_type": "execute_result"
    }
   ],
   "source": [
    "max(energies_1)"
   ]
  },
  {
   "cell_type": "code",
   "execution_count": 91,
   "id": "97763608",
   "metadata": {},
   "outputs": [
    {
     "data": {
      "text/plain": [
       "0.005967741935483871"
      ]
     },
     "execution_count": 91,
     "metadata": {},
     "output_type": "execute_result"
    }
   ],
   "source": [
    "np.where(energies_1>0)[0].shape[0] / energies_1.shape[0]"
   ]
  },
  {
   "cell_type": "code",
   "execution_count": 92,
   "id": "fc29d272",
   "metadata": {},
   "outputs": [
    {
     "data": {
      "text/plain": [
       "(6200, 1)"
      ]
     },
     "execution_count": 92,
     "metadata": {},
     "output_type": "execute_result"
    }
   ],
   "source": [
    "energies_1.shape"
   ]
  },
  {
   "cell_type": "markdown",
   "id": "12cb9724",
   "metadata": {},
   "source": [
    "### trying to make sense of data with Gay-Berne distance"
   ]
  },
  {
   "cell_type": "code",
   "execution_count": 167,
   "id": "095ca95f",
   "metadata": {},
   "outputs": [],
   "source": [
    "import rowan\n",
    "import torch\n",
    "def GB_compute(dr, lperp, lpar, qi, qj):\n",
    "    lperp = torch.tensor(lperp).unsqueeze(dim=0)\n",
    "    lpar = torch.tensor(lpar).unsqueeze(dim=0)\n",
    "    dr = torch.from_numpy(dr).unsqueeze(dim=0)\n",
    "    r_norm = torch.norm(dr, dim=-1)\n",
    "    unit_r = torch.einsum('ij, i -> ij', dr, 1/r_norm).to(torch.float32)\n",
    "\n",
    "    dr_dot =torch.einsum('ij, ij -> i', dr, dr)\n",
    "\n",
    "    \n",
    "    rot_A = rowan.to_matrix(rowan.conjugate(qi))\n",
    "    rot_B =  rowan.to_matrix(rowan.conjugate(qj))\n",
    "\n",
    "    a3 = torch.from_numpy(rot_A[:, 2]).unsqueeze(dim=0).to(torch.float32)\n",
    "    b3 = torch.from_numpy(rot_B[:, 2]).unsqueeze(dim=0).to(torch.float32)\n",
    "\n",
    "    ca=torch.einsum('ij, ij -> i', a3, unit_r )\n",
    "    cb=torch.einsum('ij, ij -> i', b3, unit_r )\n",
    "    cab=torch.einsum('ij, ij -> i', a3, b3 )\n",
    "\n",
    "    chi = (lpar**2 - lperp**2) / (lpar**2 + lperp**2)\n",
    "    chic = chi*cab\n",
    "\n",
    "    chi_fact = chi/(1-chic**2)\n",
    "    r_fact = (r_norm/(2*lperp**2))\n",
    "    par1 = torch.einsum('i, ij ->ij ', (ca-chic*cb), a3)\n",
    "    par2 = torch.einsum('i, ij ->ij ', (cb-chic*ca), b3)\n",
    "    inner_fact = par1 + par2\n",
    "\n",
    "\n",
    "    kappa = torch.einsum('i, ij ->ij', r_fact, (unit_r-torch.einsum('i, ij ->ij', chi_fact,inner_fact)))\n",
    "\n",
    "    phi = (1/2) * torch.einsum('ij, ij -> i', dr, kappa) / dr_dot\n",
    "\n",
    "\n",
    "    sigma = 1/torch.sqrt(phi)\n",
    "\n",
    "\n",
    "    sigma_min = 2*torch.min(torch.stack((lperp, lpar), dim=-1), dim=-1)[0]\n",
    "    sigma_max = 2*torch.max(torch.stack((lperp, lpar), dim=-1), dim=-1)[0]\n",
    "\n",
    "    zeta = (r_norm - sigma + sigma_min) / sigma_min\n",
    "    return zeta"
   ]
  },
  {
   "cell_type": "code",
   "execution_count": 169,
   "id": "614596b8",
   "metadata": {},
   "outputs": [],
   "source": [
    "dists = []\n",
    "orients = []\n",
    "\n",
    "energies = []\n",
    "\n",
    "for frame in gsd_traj:\n",
    "    pos = frame.particles.position\n",
    "    orients.append(frame.particles.orientation[:2])\n",
    "    dx, dy, dz = pos[0] - pos[1]\n",
    "    dx = check_boundary(dx, box_len)\n",
    "    dy = check_boundary(dy, box_len)\n",
    "    dz = check_boundary(dz, box_len)\n",
    "    dists.append(np.array([dx, dy, dz]))\n",
    "    energies.append(frame.log['md/pair/LJ/energy'])\n"
   ]
  },
  {
   "cell_type": "code",
   "execution_count": 168,
   "id": "f7114522",
   "metadata": {},
   "outputs": [
    {
     "data": {
      "text/plain": [
       "array([[-0.7280176 , -0.4852165 ,  0.35743287,  0.32679817],\n",
       "       [ 0.71418107,  0.5043004 ,  0.43180066,  0.22175361],\n",
       "       [-0.7280176 , -0.4852165 ,  0.35743287,  0.32679817],\n",
       "       [-0.7280176 , -0.4852165 ,  0.35743287,  0.32679817],\n",
       "       [ 0.71418107,  0.5043004 ,  0.43180066,  0.22175361],\n",
       "       [ 0.71418107,  0.5043004 ,  0.43180066,  0.22175361]],\n",
       "      dtype=float32)"
      ]
     },
     "execution_count": 168,
     "metadata": {},
     "output_type": "execute_result"
    }
   ],
   "source": [
    "frame.particles.orientation"
   ]
  },
  {
   "cell_type": "code",
   "execution_count": 170,
   "id": "93f9e8d2",
   "metadata": {},
   "outputs": [],
   "source": [
    "gb_dist = []\n",
    "for dr, ori in zip(dists, orients):\n",
    "    gb_dist.append(GB_compute(dr, lperp=1, lpar=2.2, qi=ori[0], qj=ori[1]).item())"
   ]
  },
  {
   "cell_type": "code",
   "execution_count": 173,
   "id": "461d8c85",
   "metadata": {},
   "outputs": [
    {
     "data": {
      "text/plain": [
       "[0.616293722758438,\n",
       " 0.387572088639503,\n",
       " 0.8774644136428833,\n",
       " 0.9559428691864014,\n",
       " 0.7163451910018921,\n",
       " 1.012283205986023,\n",
       " 1.4795509576797485,\n",
       " 1.0683842897415161,\n",
       " 0.8841855525970459,\n",
       " 0.5116630792617798,\n",
       " 1.0203505754470825,\n",
       " 1.2044363021850586,\n",
       " 0.9279711246490479,\n",
       " 0.45097869634628296,\n",
       " 0.1168680191040039,\n",
       " 0.5736730694770813,\n",
       " 0.6785297989845276,\n",
       " 0.6894955635070801,\n",
       " 0.8630417585372925,\n",
       " 1.0877156257629395,\n",
       " 0.9456881284713745,\n",
       " 0.9184277057647705,\n",
       " 1.5577143430709839,\n",
       " 1.6447941064834595,\n",
       " 1.043586434611421,\n",
       " 1.1705152063150168,\n",
       " 0.7650448801583195,\n",
       " 0.30459684716757673,\n",
       " 0.5512691899266979,\n",
       " 1.0862904970220484,\n",
       " 1.5577517450987415,\n",
       " 1.3669843517235298,\n",
       " 0.6153123117339783,\n",
       " 0.4753361646360812,\n",
       " 0.06047255393425077,\n",
       " 1.0559861660003662,\n",
       " -0.024112939834594727,\n",
       " 0.731060266494751,\n",
       " 1.1246846914291382,\n",
       " 1.0762722701507723,\n",
       " 1.0071738515918098,\n",
       " 1.2006983544149248,\n",
       " 1.2913202078782473,\n",
       " 0.9704332616099713,\n",
       " 1.2710546255111694,\n",
       " 0.997205376625061,\n",
       " 0.7167773246765137,\n",
       " 1.0054383277893066,\n",
       " 1.3199338912963867,\n",
       " 1.146498765347091,\n",
       " 1.0095027667949523,\n",
       " 1.435680281787162,\n",
       " 1.0148449983547152,\n",
       " 0.6731068621803691,\n",
       " 0.59236741065979,\n",
       " 0.8450287580490112,\n",
       " 1.0295929908752441,\n",
       " 1.0925672054290771,\n",
       " 0.5582731394660334,\n",
       " 0.14595307404373403,\n",
       " 0.813998174176112,\n",
       " 1.2872050756019757,\n",
       " 1.4884079667637318,\n",
       " 1.0768060025492883,\n",
       " 1.300708293914795,\n",
       " 1.0312892198562622,\n",
       " 0.7303594350814819,\n",
       " 0.5198199152946472,\n",
       " 1.0686554908752441,\n",
       " 1.0533688150227674,\n",
       " 0.7723031128241566,\n",
       " 1.1483604585693763,\n",
       " 1.1631336380173805,\n",
       " 0.6169307567216054,\n",
       " 1.169005317857965,\n",
       " 1.2599447240652817,\n",
       " 1.4779979593310897,\n",
       " 1.2477330285254367,\n",
       " 1.5050645437927042,\n",
       " 0.918160491282825,\n",
       " 0.36813995006121714,\n",
       " -0.22046358332438576,\n",
       " -0.135807580427882,\n",
       " 0.6678074367967688,\n",
       " 1.0490177283927087,\n",
       " 0.9428509057914038,\n",
       " 0.974766924681971,\n",
       " 0.9808716773986816,\n",
       " 1.196948766708374,\n",
       " 1.263369083404541,\n",
       " 1.0609874725341797,\n",
       " 1.2749487161636353,\n",
       " 1.0256470821544126,\n",
       " 0.3483840713064159,\n",
       " 0.887194972839711,\n",
       " 0.943699639846797,\n",
       " 0.8845482984363195,\n",
       " 0.6634480953216553,\n",
       " 0.615263044834137,\n",
       " 1.3511947393417358,\n",
       " 0.36555659770965576,\n",
       " 0.1948692798614502,\n",
       " 0.37882351875305176,\n",
       " 0.9792205095291138,\n",
       " 1.3358798027038574,\n",
       " 1.6264461278915405,\n",
       " 0.22959917783737183,\n",
       " 0.28084230422973633,\n",
       " 1.4227514266967773,\n",
       " 1.9565229415893555,\n",
       " 1.4441043055636342,\n",
       " 1.016612125834521,\n",
       " 0.13330489650562338,\n",
       " 0.9576627421463928,\n",
       " 0.9714017497000698,\n",
       " 1.016852130315904,\n",
       " 1.4780396223068237,\n",
       " 0.7431701421737671,\n",
       " 1.0576494932174683,\n",
       " 1.2537661790847778,\n",
       " 1.1640031337738037,\n",
       " 0.8960099220275879,\n",
       " 0.901015533976621,\n",
       " 1.0575378853889765,\n",
       " 0.6860059340823137,\n",
       " 0.7975831106798873,\n",
       " -0.1453556087320642,\n",
       " 0.42878868195185094,\n",
       " 1.0335430593647608,\n",
       " 0.8062540766895965,\n",
       " 0.6958503105973091,\n",
       " 0.07680329185276924,\n",
       " 0.29377320225565584,\n",
       " 1.259644285171875,\n",
       " 0.8512108325958252,\n",
       " 0.6810351610183716,\n",
       " 0.6774721741676331,\n",
       " 0.3420444130897522,\n",
       " 1.006775140762329,\n",
       " 1.0120004415512085,\n",
       " 0.9195758104324341,\n",
       " 0.40617823600769043,\n",
       " 0.11866235733032227,\n",
       " 0.7167630195617676,\n",
       " 0.6679373383522034,\n",
       " 0.597902238368988,\n",
       " 0.7936531901359558,\n",
       " 0.4361410140991211,\n",
       " 0.9526954889297485,\n",
       " 1.3019031286239624,\n",
       " 1.5400581359863281,\n",
       " 0.9271789789199829,\n",
       " 1.0713191032409668,\n",
       " 0.7465049028396606,\n",
       " 0.9918708801269531,\n",
       " 0.813812255859375,\n",
       " 0.7353975176811218,\n",
       " 0.5755264759063721,\n",
       " 1.0575908422470093,\n",
       " 1.2352335453033447,\n",
       " 0.8440418243408203,\n",
       " 1.4251033067703247,\n",
       " 0.8094370031932614,\n",
       " 0.7744962075899622,\n",
       " 0.8365765276938031,\n",
       " 1.1672230769782934,\n",
       " 1.347182133400163,\n",
       " 0.8867916151500277,\n",
       " 0.8863492470451126,\n",
       " 0.9489168907458272,\n",
       " 0.848048210144043,\n",
       " 0.8877283334732056,\n",
       " 0.8612900376319885,\n",
       " 0.6212378740310669,\n",
       " 0.7822314500808716,\n",
       " 1.2569060325622559,\n",
       " 1.021880480213927,\n",
       " 1.0604979173461757,\n",
       " 1.2157461608859104,\n",
       " 1.439618865900486,\n",
       " 1.5533146224268588,\n",
       " 1.1538969123627838,\n",
       " 1.104034829300163,\n",
       " 1.4505329132080078,\n",
       " 0.9765276908874512,\n",
       " 0.0970417857170105,\n",
       " 0.05559259653091431,\n",
       " 0.06013578176498413,\n",
       " 1.1842842102050781,\n",
       " 0.4742515632014793,\n",
       " 0.5758790863958148,\n",
       " 1.0875886383500415,\n",
       " 0.6072769246383454,\n",
       " 0.695079660417561,\n",
       " 1.2167260646820068,\n",
       " 0.7793766260147095,\n",
       " 0.7777320146560669,\n",
       " 0.878380537033081,\n",
       " 1.7703644037246704,\n",
       " 1.0873730164984434,\n",
       " 1.7902429003649747,\n",
       " 1.6454275091994202,\n",
       " 1.034309546472792,\n",
       " 1.644619107246399,\n",
       " 1.3217964172363281,\n",
       " 0.895389199256897,\n",
       " 0.7596733570098877,\n",
       " 0.774856448173523,\n",
       " 0.7906133983882949,\n",
       " 0.6611415576344128,\n",
       " 0.9756218706310609,\n",
       " 0.7176855364286977,\n",
       " 0.2030047383601844,\n",
       " 0.5908254384994507,\n",
       " -0.26442742347717285,\n",
       " 0.5936074256896973,\n",
       " 1.0592083930969238,\n",
       " 0.07286405563354492,\n",
       " 0.5442140102386475,\n",
       " 0.4966367483139038,\n",
       " -0.11948084831237793,\n",
       " 0.5816704034805298,\n",
       " 0.8149664998054504,\n",
       " -0.1145208337120156,\n",
       " 0.31794739820990603,\n",
       " 0.33701381419810206,\n",
       " 0.6305542706268412,\n",
       " 0.2125768797173162,\n",
       " -0.23448953866635613,\n",
       " -0.31633927816990015,\n",
       " 0.9919970035552979,\n",
       " 0.9844064712524414,\n",
       " 1.6187889575958252,\n",
       " 1.0375863313674927,\n",
       " 0.43136680126190186,\n",
       " 1.1362684965133667,\n",
       " 0.3654242157936096,\n",
       " -0.24973046779632568,\n",
       " -0.19110894203186035,\n",
       " 0.21419334411621094,\n",
       " 0.31271636486053467,\n",
       " 0.31555378437042236,\n",
       " 0.798406183719635,\n",
       " 1.23032808303833,\n",
       " 1.0126875638961792,\n",
       " 0.4518778324127197,\n",
       " 1.2491072416305542,\n",
       " 1.3444874286651611,\n",
       " 0.858006477355957,\n",
       " 0.5474815368652344,\n",
       " 0.7043638825416565,\n",
       " 0.8652169108390808,\n",
       " 0.6995540857315063,\n",
       " 1.1872252970854043,\n",
       " 0.29410685919984614,\n",
       " 0.5288361339327307,\n",
       " 1.0731781879384916,\n",
       " 0.8509834094907098,\n",
       " 1.6202839842319958,\n",
       " 1.5120162939567847,\n",
       " 1.1130986797981044,\n",
       " 0.15547430425891495,\n",
       " 0.6951467990875244,\n",
       " 1.2370860576629639,\n",
       " 0.5741735696792603,\n",
       " 0.44178617000579834,\n",
       " 0.22668802738189697,\n",
       " 1.0707333087921143,\n",
       " 1.273452639579773,\n",
       " 1.2264925241470337,\n",
       " 0.9739443063735962,\n",
       " 1.6574703454971313,\n",
       " 0.4979219037656327,\n",
       " 1.0300230630124199,\n",
       " 1.3251506090164185,\n",
       " 0.8020826578140259,\n",
       " 0.14406853914260864,\n",
       " 0.5080610513687134,\n",
       " 0.4150359630584717,\n",
       " 0.4928431510925293,\n",
       " 0.5240066051483154,\n",
       " 0.5503249168395996,\n",
       " 1.0069994926452637,\n",
       " 1.4072312116622925,\n",
       " 0.9445590335266623,\n",
       " 1.26063839426481,\n",
       " 0.9355928524440451,\n",
       " 1.0410731861931999,\n",
       " 0.7516260220332036,\n",
       " 0.2530721428784337,\n",
       " 0.9789520728596386,\n",
       " 1.1812602661811609,\n",
       " 0.6902385686931687,\n",
       " 0.737028134586345,\n",
       " 1.1004828214645386,\n",
       " 1.336086392402649,\n",
       " 1.51127028465271,\n",
       " 0.9466291816921846,\n",
       " 0.5041627505360147,\n",
       " 0.8036223085099115,\n",
       " 0.826132774980801,\n",
       " 1.1663543701250498,\n",
       " 1.2719743090177023,\n",
       " 1.2215686256337417,\n",
       " 1.0503344534846186,\n",
       " 1.1196528410315791,\n",
       " 1.2334744018388535,\n",
       " 1.2467065880696198,\n",
       " 1.1522560529002703,\n",
       " 0.7753276824951172,\n",
       " -0.2058696746826172,\n",
       " -0.1413862705230713,\n",
       " 0.4687287211418152,\n",
       " 0.055506348609924316,\n",
       " 0.30136704444885254,\n",
       " 0.0467456579208374,\n",
       " 0.7285585403442383,\n",
       " -0.42442198178116564,\n",
       " 0.12488574964054056,\n",
       " 0.8669397106688237,\n",
       " 1.3182366759596869,\n",
       " 1.429689645767212,\n",
       " 1.4733695983886719,\n",
       " 1.361236810684204,\n",
       " 1.0479487180709839,\n",
       " 0.5049657821655273,\n",
       " 0.0969853401184082,\n",
       " 0.42392122745513916,\n",
       " 0.8594512939453125,\n",
       " 1.2687438050046709,\n",
       " 0.8708946206175279,\n",
       " 0.7958114454772434,\n",
       " 1.265015033828018,\n",
       " 1.0069952871845391,\n",
       " 1.1884018638193374,\n",
       " 0.7103633599645907,\n",
       " 1.069575309753418,\n",
       " 0.6001178026199341,\n",
       " 1.1824815273284912,\n",
       " 0.28061509132385254,\n",
       " 0.5052980184555054,\n",
       " 0.8500275611877441,\n",
       " 0.8508148193359375,\n",
       " 0.981476902961731,\n",
       " 0.752467155456543,\n",
       " 1.22312331199646,\n",
       " 1.5830191373825073,\n",
       " 1.2131491899490356,\n",
       " 0.8330780267715454,\n",
       " 0.6902415752410889,\n",
       " 0.4357166290283203,\n",
       " 1.2856365442276,\n",
       " 1.1710890531539917,\n",
       " 0.7188224792480469,\n",
       " 0.31880223751068115,\n",
       " 1.0586016178131104,\n",
       " 1.432438611984253,\n",
       " 0.6100105047225952,\n",
       " 0.8088175654411316,\n",
       " 0.1752716302871704,\n",
       " 0.2809659242630005,\n",
       " 1.4478920698165894,\n",
       " 0.8492062091827393,\n",
       " 1.0764278173446655,\n",
       " 0.42517542839050293,\n",
       " 0.6536961793899536,\n",
       " 1.0123728513717651,\n",
       " 1.243326187133789,\n",
       " 1.150099754333496,\n",
       " 1.2104637622833252,\n",
       " -0.024349689483642578,\n",
       " 0.7309800982475281,\n",
       " 0.4905894994735718,\n",
       " 1.0766775608062744,\n",
       " 1.0233829021453857,\n",
       " 0.6340847015380859,\n",
       " 0.5014199614524841,\n",
       " 1.1577072143554688,\n",
       " 1.5146126747131348,\n",
       " 0.9016900323066317,\n",
       " 1.3421908455856806,\n",
       " 1.6277897612325956,\n",
       " 1.8395542123723392,\n",
       " 1.2437935938419973,\n",
       " 0.8868536395706916,\n",
       " 0.9485684037208557,\n",
       " 0.38163524866104126,\n",
       " 0.5413583517074585,\n",
       " 0.7964882850646973,\n",
       " 0.7340823411941528,\n",
       " 1.0672471523284912,\n",
       " 1.6919186115264893,\n",
       " 0.5148590865967086,\n",
       " 1.3596392802496033,\n",
       " 1.0065711040327172,\n",
       " 1.4161667823791504,\n",
       " 0.857923150062561,\n",
       " 0.43269801139831543,\n",
       " 0.8524211645126343,\n",
       " 1.1181856393814087,\n",
       " 1.1978347301483154,\n",
       " 1.273254632949829,\n",
       " 0.4693384771013769,\n",
       " 1.03773137809221,\n",
       " 1.430393536596516,\n",
       " 0.9868805809925318,\n",
       " 1.14932382106781,\n",
       " 0.7639158964157104,\n",
       " 0.5265772342681885,\n",
       " 0.7359200716018677,\n",
       " 0.7768504619598389,\n",
       " 1.0773818492889404,\n",
       " 1.706723690032959,\n",
       " 1.1836903095245361,\n",
       " 1.1501678228378296,\n",
       " 1.4497822523117065,\n",
       " 1.4925148487091064,\n",
       " 1.4998674392700195,\n",
       " 1.1400115489959717,\n",
       " 0.9012648343271106,\n",
       " 0.9283211369105944,\n",
       " 0.41668876019017165,\n",
       " 0.4370907532156285,\n",
       " 0.7091941046101016,\n",
       " 0.18565304895559864,\n",
       " 0.500867895867813,\n",
       " 0.5802283864303135,\n",
       " 1.185242495480774,\n",
       " 1.345603307637517,\n",
       " 1.2657603608881243,\n",
       " 1.188436265202224,\n",
       " 1.3441189527511597,\n",
       " 0.5024036765098572,\n",
       " -0.21915363583477587,\n",
       " 0.04524163270389525,\n",
       " 0.2881762492797556,\n",
       " 0.5986307114997687,\n",
       " 0.7876159485239522,\n",
       " 1.045634150505066,\n",
       " 1.686234474182129,\n",
       " 1.217200517654419,\n",
       " 1.2652082443237305,\n",
       " 0.6375417811776811,\n",
       " 0.692289480686455,\n",
       " 1.0580158538256899,\n",
       " 0.5332519246298637,\n",
       " 1.321841738655343,\n",
       " 1.2534760384443457,\n",
       " 1.2346929785157752,\n",
       " 0.9007053893610302,\n",
       " 0.6907168993163006,\n",
       " 1.5253292801252698,\n",
       " 0.9386804335126402,\n",
       " 1.4978932794210396,\n",
       " 1.295713279637413,\n",
       " 0.7893735873306917,\n",
       " 0.27731528821024065,\n",
       " 0.4139211819275802,\n",
       " 0.4389874692749174,\n",
       " 0.6583707961596579,\n",
       " 1.077124368119411,\n",
       " 0.754964279942435,\n",
       " 1.2416398525238037,\n",
       " 1.2636809349060059,\n",
       " 1.3289726972579956,\n",
       " 1.3570661544799805,\n",
       " 1.1857296228408813,\n",
       " 0.7182595729827881,\n",
       " 1.415382742881775,\n",
       " 1.3180795907974243,\n",
       " 0.08890873193740845,\n",
       " 0.17461568117141724,\n",
       " 0.8253194093704224,\n",
       " 0.6635030508041382,\n",
       " 1.0291199684143066,\n",
       " 1.2129923105239868,\n",
       " 0.9527002573013306,\n",
       " 1.3737696409225464,\n",
       " 1.0813084840774536,\n",
       " 0.9294457667429525,\n",
       " 1.083984108895902,\n",
       " 0.8702034515538479,\n",
       " 0.4572005607502434,\n",
       " -0.4416222105370391,\n",
       " 0.31971636834826533,\n",
       " 1.2349722513823893,\n",
       " 1.6399251221147786,\n",
       " 1.6397734937417223,\n",
       " 1.3906119374990742,\n",
       " 0.8971915245056152,\n",
       " 0.529674768447876,\n",
       " 0.8908651471138,\n",
       " 1.1565494537353516,\n",
       " 1.17499577999115,\n",
       " 1.1424516439437866,\n",
       " 0.3733413384751315,\n",
       " 0.06795461333077502,\n",
       " 0.6282643548611533,\n",
       " 1.0520748984359958,\n",
       " 0.08252733993492845,\n",
       " 0.13720900994368423,\n",
       " 0.44319602736744323,\n",
       " 1.0469847917556763,\n",
       " 1.214396595954895,\n",
       " 0.07554465532302856,\n",
       " 0.29817497730255127,\n",
       " 0.7841939926147461,\n",
       " 1.5531164407730103,\n",
       " 1.4710251092910767,\n",
       " 0.7362949252128601,\n",
       " 0.08399683237075806,\n",
       " 0.38513946533203125,\n",
       " 1.3780577182769775,\n",
       " 0.6696208715438843,\n",
       " 0.3638354539871216,\n",
       " 0.708149254322052,\n",
       " 0.6660888195037842,\n",
       " 0.5544909834861755,\n",
       " 0.7610136866569519,\n",
       " 1.162050485610962,\n",
       " -0.550723405198176,\n",
       " 0.43495637360276296,\n",
       " 1.1725773040282081,\n",
       " 0.8672446173656274,\n",
       " 0.42453340974087206,\n",
       " 0.8806649331001308,\n",
       " 1.6438717580270388,\n",
       " 0.9242791488977382,\n",
       " 0.43873531453647274,\n",
       " 0.42697298604874423,\n",
       " 1.0055780410766602,\n",
       " 1.123041033744812,\n",
       " 1.2710082530975342,\n",
       " 0.37200987339019775,\n",
       " 0.7730497717857361,\n",
       " 0.4967108964920044,\n",
       " 0.6521169716971635,\n",
       " 0.8489964659184173,\n",
       " 1.171590378739836,\n",
       " 0.8555060159202659,\n",
       " 1.2516553606826575,\n",
       " 1.5028462411994186,\n",
       " 0.8572055324201648,\n",
       " 0.8027090128107459,\n",
       " 0.5824336490212386,\n",
       " 0.6754895448684692,\n",
       " 0.6713435649871826,\n",
       " 0.9034996032714844,\n",
       " 1.0444344282150269,\n",
       " 0.8436144590377808,\n",
       " 1.1494823694229126,\n",
       " 0.7175554037094116,\n",
       " 0.990669846534729,\n",
       " 0.8749392032623291,\n",
       " 0.5575547218322754,\n",
       " 0.6271170377731323,\n",
       " 0.6258591413497925,\n",
       " 0.7242976427078247,\n",
       " 0.7763029336929321,\n",
       " 0.12787103652954102,\n",
       " 0.5583212375640869,\n",
       " 0.5862891911359003,\n",
       " 0.9747271728047425,\n",
       " 1.3270548048257162,\n",
       " 0.6967119853785717,\n",
       " 0.5407246255482374,\n",
       " 0.4435741402861033,\n",
       " 0.7588435411453247,\n",
       " 0.8144901990890503,\n",
       " 0.8535047769546509,\n",
       " 1.411209225654602,\n",
       " 0.3618141529610672,\n",
       " 1.2069988405165064,\n",
       " 1.2680618973872362,\n",
       " 1.0475812563939577,\n",
       " 0.37014922326046784,\n",
       " 0.6575266122817993,\n",
       " 0.4436425566673279,\n",
       " 0.5968230962753296,\n",
       " 1.2077648639678955,\n",
       " 1.1438953876495361,\n",
       " 0.6958048343658447,\n",
       " 0.17702990770339966,\n",
       " 0.3856932520866394,\n",
       " 0.707277774810791,\n",
       " 0.9518847465515137,\n",
       " 1.6399755477905273,\n",
       " 1.173138976097107,\n",
       " 0.7750635147094727,\n",
       " 0.1248738169670105,\n",
       " 1.1934648752212524,\n",
       " 0.36942788408045524,\n",
       " 0.5953501751288537,\n",
       " 0.7379050355641597,\n",
       " 1.6509306761723326,\n",
       " 1.262577726686769,\n",
       " 1.0867597767339883,\n",
       " 0.9012848819986159,\n",
       " 1.6208104810783484,\n",
       " 1.5419587505021322,\n",
       " 1.018424003147195,\n",
       " 1.0548703037488574,\n",
       " 1.123239894645041,\n",
       " 1.3148588449569036,\n",
       " 1.008418110393262,\n",
       " 0.46912091885877705,\n",
       " 0.3692005529494198,\n",
       " 1.4692895412445068,\n",
       " 0.5916053056716919,\n",
       " 1.1236257553100586,\n",
       " 0.5265517234802246,\n",
       " 0.23871076107025146,\n",
       " 0.5228601098060608,\n",
       " 0.6098315715789795,\n",
       " 0.7794556617736816,\n",
       " 0.9472661196125431,\n",
       " 1.1415637076173166,\n",
       " 1.006537060952266,\n",
       " 0.7144101655303197,\n",
       " 0.6128864288330078,\n",
       " 0.7068057060241699,\n",
       " 0.84358811378479,\n",
       " 1.0212808847427368,\n",
       " 1.00235121983222,\n",
       " 1.0072875172892735,\n",
       " 0.778822436536643,\n",
       " 1.1210397932966367,\n",
       " 0.568795919418335,\n",
       " 0.23299109935760498,\n",
       " 0.41246843338012695,\n",
       " 0.9332869052886963,\n",
       " 1.4308832883834839,\n",
       " 0.8621152160752614,\n",
       " 1.0029037719997766,\n",
       " 1.4272327661254869,\n",
       " 1.2368535482537615,\n",
       " 1.1428416221296327,\n",
       " 0.9275431632995605,\n",
       " 1.057552695274353,\n",
       " 0.8549906015396118,\n",
       " 1.1219782829284668,\n",
       " 1.5150552988052368,\n",
       " 1.2143727422958064,\n",
       " 0.9546788222201135,\n",
       " 1.3564716243722754,\n",
       " 1.0412481142621668,\n",
       " 1.3814869192747752,\n",
       " 1.3766508102416992,\n",
       " 1.3492190837860107,\n",
       " 1.2125394344329834,\n",
       " 1.062274694442749,\n",
       " 1.1820615530014038,\n",
       " 1.2221765518188477,\n",
       " 0.31540140737772604,\n",
       " 0.6613953977438041,\n",
       " 1.0970967167872716,\n",
       " 1.2146528077405863,\n",
       " 0.5078388983072111,\n",
       " 0.0955606194772487,\n",
       " 1.1262952089309692,\n",
       " 1.029049038887024,\n",
       " 0.9141483306884766,\n",
       " 1.1695114374160767,\n",
       " 1.5144790410995483,\n",
       " 0.8079323217724571,\n",
       " 0.5705540486475166,\n",
       " 0.06640133383640678,\n",
       " 0.8239759206771851,\n",
       " 1.4288066625595093,\n",
       " 1.29366135597229,\n",
       " 0.5654926300048828,\n",
       " 0.041974425315856934,\n",
       " 0.4722028970718384,\n",
       " 0.5570124387741089,\n",
       " 0.18336272239685059,\n",
       " 0.39555907249450684,\n",
       " 0.9771801233291626,\n",
       " 0.6891778111457825,\n",
       " 0.7459604144096375,\n",
       " 0.8113633394241333,\n",
       " 0.9999567270278931,\n",
       " 1.232374668121338,\n",
       " 1.7772105932235718,\n",
       " 1.019310101309903,\n",
       " 1.135204666756578,\n",
       " 1.7916889652605024,\n",
       " 1.4508029420337958,\n",
       " 1.2913697125552912,\n",
       " 1.0870181715587468,\n",
       " 0.8669483784799203,\n",
       " 0.9253926900944691,\n",
       " 1.728659274477263,\n",
       " 1.267779091681172,\n",
       " 0.5253686012150267,\n",
       " 0.8980196534985734,\n",
       " 1.1836321797894302,\n",
       " 2.136007308959961,\n",
       " 1.6492500305175781,\n",
       " 1.1014528274536133,\n",
       " 1.1123756170272827,\n",
       " 1.0741854906082153,\n",
       " 1.113657832145691,\n",
       " 0.3564882278442383,\n",
       " 0.9859462976455688,\n",
       " 0.6154116951039379,\n",
       " 1.1068345981471424,\n",
       " 0.960215074241842,\n",
       " 0.4342321758401634,\n",
       " 1.0566179752349854,\n",
       " 0.7145994305610657,\n",
       " -0.1887747049331665,\n",
       " 1.0486218929290771,\n",
       " 1.3293720483779907,\n",
       " 1.7121341228485107,\n",
       " 1.2552555799484253,\n",
       " 0.3111971839547434,\n",
       " 0.33634363433620407,\n",
       " 1.2660968932252121,\n",
       " 1.1580081979986685,\n",
       " 1.118551510811547,\n",
       " 1.3735469855564588,\n",
       " 0.7850061280070268,\n",
       " 1.2649706432893493,\n",
       " 1.1040212720553937,\n",
       " 0.7286920853509529,\n",
       " 0.6945219039916992,\n",
       " 0.320060670375824,\n",
       " 0.9903982877731323,\n",
       " 0.9856792688369751,\n",
       " 1.02074134349823,\n",
       " 0.8888223171234131,\n",
       " 1.2470145225524902,\n",
       " 1.472560167312622,\n",
       " 1.0187121629714966,\n",
       " 0.8808248043060303,\n",
       " 1.0895146131515503,\n",
       " 0.9612820148468018,\n",
       " 1.4983693361282349,\n",
       " 1.048924207687378,\n",
       " 0.6195405721664429,\n",
       " 0.9532127380371094,\n",
       " 1.4611021280288696,\n",
       " 1.113513708114624,\n",
       " 0.9583455324172974,\n",
       " 0.7105646729469299,\n",
       " 0.7851345539093018,\n",
       " 0.5937888622283936,\n",
       " 0.9472782015800476,\n",
       " 0.5847907066345215,\n",
       " 0.1600624918937683,\n",
       " 0.17811483144760132,\n",
       " 0.9532122015953064,\n",
       " 0.2971254587173462,\n",
       " 0.9001463651657104,\n",
       " 1.3298393487930298,\n",
       " 0.7388969750562122,\n",
       " 1.372688972589688,\n",
       " 0.9803025648605264,\n",
       " 0.14996223601838343,\n",
       " 1.3960851430892944,\n",
       " 1.3178967237472534,\n",
       " 0.9425866603851318,\n",
       " 0.7315549850463867,\n",
       " 0.7559925317764282,\n",
       " 1.3028291463851929,\n",
       " 0.36552595858505077,\n",
       " 1.2906854877852771,\n",
       " 1.6653806894940397,\n",
       " 0.9681500698487735,\n",
       " 0.9229499363306104,\n",
       " 1.3729299306869507,\n",
       " 1.3333239555358887,\n",
       " 0.25077176094055176,\n",
       " 0.9150356650352478,\n",
       " 0.9209710359573364,\n",
       " 0.8094342645204042,\n",
       " 1.0663467748402076,\n",
       " 1.4211473463255406,\n",
       " 1.0586639944320555,\n",
       " 0.5953977219776114,\n",
       " 0.45591318967475525,\n",
       " 1.3408509492874146,\n",
       " 1.0961371660232544,\n",
       " 1.055201530456543,\n",
       " 0.6334823369979858,\n",
       " 1.0283002853393555,\n",
       " 1.191251801645641,\n",
       " 0.652623236521956,\n",
       " 0.4185583758145659,\n",
       " 0.34836923932385955,\n",
       " 0.6376680623722466,\n",
       " 0.8548013998872922,\n",
       " 1.3840410996088208,\n",
       " 1.4885945320129395,\n",
       " 1.2369157075881958,\n",
       " 1.2440625429153442,\n",
       " 1.1101964712142944,\n",
       " 0.6802048683166504,\n",
       " 0.40488553047180176,\n",
       " 0.9360091686248779,\n",
       " 1.7407317161560059,\n",
       " 1.2587399391386311,\n",
       " 0.9250630930369492,\n",
       " 1.0606790877346737,\n",
       " 1.1956133812196135,\n",
       " 1.1909031182002097,\n",
       " 2.1235070096907265,\n",
       " 1.8530711049562671,\n",
       " 1.305159740574399,\n",
       " 0.6005705463240947,\n",
       " 0.40642106533050537,\n",
       " 0.7351174354553223,\n",
       " 0.9398550987243652,\n",
       " 0.8392432928085327,\n",
       " 0.6610523462295532,\n",
       " 0.447404146194458,\n",
       " 0.48815906047821045,\n",
       " 1.301098108291626,\n",
       " 1.1715279278913016,\n",
       " 1.0897794570507262,\n",
       " 0.6106489102244872,\n",
       " 1.0758260340308192,\n",
       " 0.87723160552251,\n",
       " 0.953167226452431,\n",
       " 0.7839654684066772,\n",
       " 1.0882915258407593,\n",
       " 1.2341113090515137,\n",
       " 0.7451530694609609,\n",
       " 1.4803533246183298,\n",
       " 1.8782732417137817,\n",
       " 1.040741256496544,\n",
       " 1.2129577696163831,\n",
       " 1.3998558521270752,\n",
       " 1.3693379163742065,\n",
       " 1.3961668014526367,\n",
       " 1.7055081129074097,\n",
       " 1.4187552094799283,\n",
       " 1.1553483679468899,\n",
       " 1.4921409041169653,\n",
       " 1.4388185935719955,\n",
       " 0.8786161734029201,\n",
       " 1.3549660444259644,\n",
       " 1.2165651321411133,\n",
       " 1.3342067003250122,\n",
       " 1.524336338043213,\n",
       " 0.7923391185736848,\n",
       " 1.2827794916842084,\n",
       " 0.9546815358244178,\n",
       " 0.2590263749458357,\n",
       " 0.7627591717697082,\n",
       " 0.6942790746688843,\n",
       " 0.22075337171554565,\n",
       " 0.7632380127906799,\n",
       " 1.4398469924926758,\n",
       " 0.9648043207888471,\n",
       " 1.2510732767640584,\n",
       " 0.9605787491876585,\n",
       " 0.4240299290356071,\n",
       " 1.0081642497088206,\n",
       " 1.1767261028289795,\n",
       " 0.5528370141983032,\n",
       " 0.8595211505889893,\n",
       " 0.7926462888717651,\n",
       " 1.2269771099090576,\n",
       " 1.053651187829905,\n",
       " 0.7002156008429958,\n",
       " 0.39083851914525614,\n",
       " 0.5466055824831637,\n",
       " 0.947410803100921,\n",
       " 0.4487667759181444,\n",
       " 0.02165644256230015,\n",
       " 0.5392581097918265,\n",
       " 1.2529603342249978,\n",
       " 0.6665855354353543,\n",
       " 0.3138066123371417,\n",
       " 0.8222936827814791,\n",
       " 1.1733516330787832,\n",
       " 1.2597124271961668,\n",
       " 0.9644361429455093,\n",
       " 0.7371307730409217,\n",
       " 1.0482516288757324,\n",
       " 0.7021467685699463,\n",
       " 0.774527907371521,\n",
       " 1.0182934999465942,\n",
       " 0.6112821102142334,\n",
       " 0.8438646793365479,\n",
       " 1.1299710273742676,\n",
       " 0.8850017786026001,\n",
       " 0.24466756073280416,\n",
       " 0.8560086641665472,\n",
       " 1.9660747083650882,\n",
       " 1.4669345222614243,\n",
       " 1.297361244867773,\n",
       " 0.6272966512306843,\n",
       " 1.1324297954660152,\n",
       " 0.9610178668034254,\n",
       " 1.1874510049819946,\n",
       " 0.697392463684082,\n",
       " 0.5869879126548767,\n",
       " 1.0773980617523193,\n",
       " 0.312466025352478,\n",
       " 0.25689470767974854,\n",
       " 0.1702812910079956,\n",
       " 0.1862383484840393,\n",
       " 0.11255985498428345,\n",
       " 0.48621994256973267,\n",
       " 0.7088620066642761,\n",
       " 1.009560465812683,\n",
       " 0.9552633762359619,\n",
       " 1.124376893043518,\n",
       " 1.1249464750289917,\n",
       " 0.6188161373138428,\n",
       " 1.3932170867919922,\n",
       " 1.1118963956832886,\n",
       " 0.723331868648529,\n",
       " 1.2456704378128052,\n",
       " 1.1298346512600093,\n",
       " 1.7292818344423455,\n",
       " 1.2505329304598303,\n",
       " 1.0972218929759519,\n",
       " 1.0287146461180332,\n",
       " 1.467268943786621,\n",
       " 1.2514607906341553,\n",
       " 1.0960861444473267,\n",
       " 1.1893370151519775,\n",
       " 1.8503330945968628,\n",
       " 0.9019007161639199,\n",
       " 1.103392899166262,\n",
       " 1.6627055773145227,\n",
       " 1.0433556245511393,\n",
       " 1.0596026537734229,\n",
       " 0.8023699570309422,\n",
       " 0.25088955263176027,\n",
       " 0.4018157720565796,\n",
       " 1.0155178308486938,\n",
       " 0.8586724400520325,\n",
       " 1.141569972038269,\n",
       " 1.0661016702651978,\n",
       " 0.32107336316304713,\n",
       " 0.1361094260227499,\n",
       " -0.021437425717527603,\n",
       " 0.43499535277933443,\n",
       " 1.3843540477145082,\n",
       " 0.36404984143593366,\n",
       " 1.3464754819869995,\n",
       " 1.2330851554870605,\n",
       " 0.9095461368560791,\n",
       " 1.0453389883041382,\n",
       " 1.125773310661316,\n",
       " 0.6830910100187462,\n",
       " 1.0640820684903407,\n",
       " 1.420153701272031,\n",
       " 0.9820600138584348,\n",
       " 0.04797954178110242,\n",
       " 0.48711901903152466,\n",
       " 0.7229254245758057,\n",
       " 1.1658713817596436,\n",
       " 1.0644965171813965,\n",
       " 0.8283966779708862,\n",
       " 0.7769694924354553,\n",
       " 0.7320777773857117,\n",
       " 0.639079213142395,\n",
       " 0.8129553198814392,\n",
       " 1.0385093688964844,\n",
       " 1.5454789400100708,\n",
       " 1.1450645923614502,\n",
       " 0.9315601587295532,\n",
       " 0.803753137588501,\n",
       " 0.7137068510055542,\n",
       " 0.923970639705658,\n",
       " 0.6030431985855103,\n",
       " 0.555974006652832,\n",
       " 0.04349637031555176,\n",
       " 0.3719959259033203,\n",
       " 0.6505966074150155,\n",
       " 0.8774997242152635,\n",
       " 0.6450202514925703,\n",
       " 0.6891733870879264,\n",
       " 0.7323223960002627,\n",
       " 0.569502774761256,\n",
       " 0.6380013119675692,\n",
       " 0.8499932840649849,\n",
       " 1.6502947807312012,\n",
       " 0.7225384712219238,\n",
       " 0.64020836353302,\n",
       " 0.5615817904472351,\n",
       " 0.9627740383148193,\n",
       " 1.372200608253479,\n",
       " 1.4365233182907104,\n",
       " 0.47211289541997425,\n",
       " 0.5781923235150523,\n",
       " 0.757905961793497,\n",
       " 0.8493515262693738,\n",
       " 0.6733958567141007,\n",
       " 1.3397761901847909,\n",
       " 0.8447429066206955,\n",
       " 1.0447353459081559,\n",
       " 1.0288197166128206,\n",
       " 0.8478786778444323,\n",
       " 1.2035580274261344,\n",
       " ...]"
      ]
     },
     "execution_count": 173,
     "metadata": {},
     "output_type": "execute_result"
    }
   ],
   "source": [
    "gb_dist"
   ]
  },
  {
   "cell_type": "code",
   "execution_count": 174,
   "id": "f10bd195",
   "metadata": {
    "scrolled": true
   },
   "outputs": [
    {
     "data": {
      "text/plain": [
       "Text(0, 0.5, 'Energies')"
      ]
     },
     "execution_count": 174,
     "metadata": {},
     "output_type": "execute_result"
    },
    {
     "data": {
      "image/png": "[encoded data removed]",
      "text/plain": [
       "<Figure size 640x480 with 1 Axes>"
      ]
     },
     "metadata": {},
     "output_type": "display_data"
    }
   ],
   "source": [
    "import matplotlib.pyplot as plt\n",
    "plt.scatter(gb_dist, energies)\n",
    "plt.xlabel(\"GB distance (zeta)\")\n",
    "plt.ylabel(\"Energies\")"
   ]
  },
  {
   "cell_type": "code",
   "execution_count": null,
   "id": "3b8e6ca1",
   "metadata": {},
   "outputs": [],
   "source": []
  }
 ],
 "metadata": {
  "kernelspec": {
   "display_name": "Python 3 (ipykernel)",
   "language": "python",
   "name": "python3"
  },
  "language_info": {
   "codemirror_mode": {
    "name": "ipython",
    "version": 3
   },
   "file_extension": ".py",
   "mimetype": "text/x-python",
   "name": "python",
   "nbconvert_exporter": "python",
   "pygments_lexer": "ipython3",
   "version": "3.11.3"
  }
 },
 "nbformat": 4,
 "nbformat_minor": 5
}

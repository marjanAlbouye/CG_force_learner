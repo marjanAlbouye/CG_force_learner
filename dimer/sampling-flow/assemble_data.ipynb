{
 "cells": [
  {
   "cell_type": "code",
   "execution_count": 1,
   "id": "d247dd68",
   "metadata": {},
   "outputs": [],
   "source": [
    "import signac\n",
    "import pandas as pd\n",
    "import numpy as np\n",
    "import gsd.hoomd\n",
    "import rowan"
   ]
  },
  {
   "cell_type": "code",
   "execution_count": 2,
   "id": "92caf5d2",
   "metadata": {},
   "outputs": [],
   "source": [
    "project = signac.get_project()\n",
    "jobs = list(project.find_jobs())"
   ]
  },
  {
   "cell_type": "code",
   "execution_count": 3,
   "id": "85bcddca",
   "metadata": {},
   "outputs": [],
   "source": [
    "positions = []\n",
    "orientations = []\n",
    "energies = []\n",
    "net_force = []\n",
    "net_torque = []\n",
    "for j in jobs:\n",
    "    data = pd.read_pickle(j.fn(\"raw_data.pkl\"))\n",
    "    positions.extend(data['position'].tolist())\n",
    "    orientations.extend(data['orientation'].tolist())\n",
    "    net_force.extend(data['net_force'].tolist())\n",
    "    net_torque.extend(data['net_torque'].tolist())\n",
    "    energies.extend(data['energy'].tolist())"
   ]
  },
  {
   "cell_type": "code",
   "execution_count": 4,
   "id": "ba64681f",
   "metadata": {},
   "outputs": [],
   "source": [
    "lattice = gsd.hoomd.open(\"lattice_init.gsd\")"
   ]
  },
  {
   "cell_type": "code",
   "execution_count": 5,
   "id": "517f469f",
   "metadata": {},
   "outputs": [
    {
     "data": {
      "text/plain": [
       "array([10., 10., 10.,  0.,  0.,  0.], dtype=float32)"
      ]
     },
     "execution_count": 5,
     "metadata": {},
     "output_type": "execute_result"
    }
   ],
   "source": [
    "lattice[0].configuration.box"
   ]
  },
  {
   "cell_type": "code",
   "execution_count": 6,
   "id": "23a793b0",
   "metadata": {},
   "outputs": [],
   "source": [
    "positions = np.asarray(positions)\n",
    "orientations = np.asarray(orientations)\n",
    "net_force = np.asarray(net_force)\n",
    "net_torque = np.asarray(net_torque)\n",
    "energies = np.asarray(energies)\n"
   ]
  },
  {
   "cell_type": "code",
   "execution_count": 7,
   "id": "3b129796",
   "metadata": {},
   "outputs": [],
   "source": [
    "from functools import reduce\n",
    "\n",
    "keep_f_00 = np.where(np.logical_and(net_force[:, 0, 0] > -10, net_force[:, 0, 0] < 10))[0]\n",
    "keep_f_01 = np.where(np.logical_and(net_force[:, 0, 1] > -10, net_force[:, 0, 1] < 10))[0]\n",
    "keep_f_02 = np.where(np.logical_and(net_force[:, 0, 2] > -10, net_force[:, 0, 2] < 10))[0]\n",
    "\n",
    "keep_f_10 = np.where(np.logical_and(net_force[:, 1, 0] > -10, net_force[:, 1, 0] < 10))[0]\n",
    "keep_f_11 = np.where(np.logical_and(net_force[:, 1, 1] > -10, net_force[:, 1, 1] < 10))[0]\n",
    "keep_f_12 = np.where(np.logical_and(net_force[:, 1, 2] > -10, net_force[:, 1, 2] < 10))[0]\n",
    "keep_idx = reduce(np.intersect1d, (keep_f_00, keep_f_01, keep_f_02, keep_f_10, keep_f_11, keep_f_12))"
   ]
  },
  {
   "cell_type": "code",
   "execution_count": 8,
   "id": "2dc60dab",
   "metadata": {},
   "outputs": [
    {
     "data": {
      "text/plain": [
       "(73400,)"
      ]
     },
     "execution_count": 8,
     "metadata": {},
     "output_type": "execute_result"
    }
   ],
   "source": [
    "keep_idx.shape"
   ]
  },
  {
   "cell_type": "code",
   "execution_count": 9,
   "id": "3cf9d537",
   "metadata": {},
   "outputs": [],
   "source": [
    "keep_force = net_force[keep_idx]\n",
    "keep_energy = energies[keep_idx]\n",
    "keep_pos = positions[keep_idx]\n",
    "keep_orient = orientations[keep_idx]\n",
    "keep_torque = net_torque[keep_idx]"
   ]
  },
  {
   "cell_type": "code",
   "execution_count": 10,
   "id": "7b5a6d4f-ad5e-4c35-a718-8cd622c6724a",
   "metadata": {},
   "outputs": [
    {
     "data": {
      "text/plain": [
       "-2.1393925253592956"
      ]
     },
     "execution_count": 10,
     "metadata": {},
     "output_type": "execute_result"
    }
   ],
   "source": [
    "min(keep_energy)"
   ]
  },
  {
   "cell_type": "code",
   "execution_count": 11,
   "id": "7424e587",
   "metadata": {},
   "outputs": [],
   "source": [
    "particle_pos = []\n",
    "neighbor_pos = []\n",
    "# rel_pos = []\n",
    "# particle_orient = []\n",
    "# neighbor_orient = []\n",
    "# rel_orient = []\n",
    "# particle_orient_rotated = []\n",
    "# neighbor_orient_rotated = []\n",
    "features = []\n",
    "particle_force = []\n",
    "particle_torque = []\n",
    "particle_energy = []\n",
    "for pos, orient, force, torque, energy in zip(keep_pos, keep_orient, keep_force, keep_torque, keep_energy):\n",
    "    particle_pos.extend([pos[0], pos[1]])\n",
    "    neighbor_pos.extend([pos[1], pos[0]])\n",
    "    dr_1 = pos[0] - pos[1]\n",
    "    dr_2 = pos[1] - pos[0]\n",
    "\n",
    "    # r = np.linalg.norm(dr_1, keepdims=True)\n",
    "    \n",
    "    q1 = orient[0]\n",
    "    q2 = orient[1]\n",
    "    \n",
    "    dr_1_q = np.concatenate([[0], dr_1])\n",
    "    dr_2_q = np.concatenate([[0], dr_2])\n",
    "\n",
    "    # calculate q1 applied to q2 and vice versa\n",
    "    q1q2 = rowan.multiply(q1, rowan.conjugate(q2))\n",
    "    q2q1 = rowan.multiply(q2, rowan.conjugate(q1))\n",
    "\n",
    "    # rotate q1 and q2 based on vector dr_1\n",
    "    q1_dr1_rotated = rowan.multiply(dr_1_q, rowan.multiply(q1, rowan.conjugate(dr_1_q)))\n",
    "    q2_dr1_rotated = rowan.multiply(dr_1_q, rowan.multiply(q2, rowan.conjugate(dr_1_q)))\n",
    "\n",
    "    # rotated q2 and q1 based on vector dr_2\n",
    "    q2_dr2_rotated = rowan.multiply(dr_2_q, rowan.multiply(q2, rowan.conjugate(dr_2_q)))\n",
    "    q1_dr2_rotated = rowan.multiply(dr_2_q, rowan.multiply(q1, rowan.conjugate(dr_2_q)))\n",
    "                                    \n",
    "\n",
    "    features_1 = np.concatenate([dr_1, q1, q2, q1q2, q2q1, q1_dr1_rotated, q2_dr1_rotated])\n",
    "    features_2 = np.concatenate([dr_2, q2, q1, q2q1, q1q2, q2_dr2_rotated, q1_dr2_rotated])\n",
    "\n",
    "    features.extend([features_1, features_2])\n",
    "    particle_force.extend([force[0], force[1]])\n",
    "    particle_torque.extend([torque[0], torque[1]])\n",
    "    particle_energy.extend([energy/2, energy/2])"
   ]
  },
  {
   "cell_type": "code",
   "execution_count": 12,
   "id": "8393359c-f171-4286-96c8-a8ea3a6f8fac",
   "metadata": {},
   "outputs": [
    {
     "data": {
      "text/plain": [
       "(27,)"
      ]
     },
     "execution_count": 12,
     "metadata": {},
     "output_type": "execute_result"
    }
   ],
   "source": [
    "features_1.shape"
   ]
  },
  {
   "cell_type": "code",
   "execution_count": 13,
   "id": "c20c40bb-78d2-41e5-a212-3355ba15dea7",
   "metadata": {},
   "outputs": [
    {
     "data": {
      "text/plain": [
       "146800"
      ]
     },
     "execution_count": 13,
     "metadata": {},
     "output_type": "execute_result"
    }
   ],
   "source": [
    "len(particle_energy)"
   ]
  },
  {
   "cell_type": "code",
   "execution_count": 14,
   "id": "0df128e8",
   "metadata": {},
   "outputs": [],
   "source": [
    "columns = [\n",
    "    \"particle_pos\",\n",
    "    \"neighbor_pos\",\n",
    "    \"features\",\n",
    "    \"force\",\n",
    "    \"torque\",\n",
    "    \"energy\"\n",
    "]"
   ]
  },
  {
   "cell_type": "code",
   "execution_count": 15,
   "id": "4085fa79",
   "metadata": {},
   "outputs": [],
   "source": [
    "new_traj_df = pd.DataFrame(columns=columns)\n",
    "new_traj_df[\"particle_pos\"] = particle_pos\n",
    "new_traj_df[\"neighbor_pos\"] = neighbor_pos\n",
    "new_traj_df[\"features\"] = features\n",
    "new_traj_df[\"force\"] = particle_force\n",
    "new_traj_df[\"torque\"] = particle_torque\n",
    "new_traj_df[\"energy\"] = particle_energy"
   ]
  },
  {
   "cell_type": "code",
   "execution_count": 16,
   "id": "ed1aacd9",
   "metadata": {},
   "outputs": [],
   "source": [
    "import os\n",
    "target_datapath = \"/home/erjank_project/caesreu/datasets/dimer_Aug16/\"\n",
    "if not os.path.exists(target_datapath):\n",
    "    os.mkdir(target_datapath)"
   ]
  },
  {
   "cell_type": "code",
   "execution_count": 17,
   "id": "e43df615",
   "metadata": {},
   "outputs": [],
   "source": [
    "new_traj_df.to_pickle(os.path.join(target_datapath, \"raw.pkl\"))"
   ]
  },
  {
   "cell_type": "code",
   "execution_count": 18,
   "id": "ecd35e40",
   "metadata": {},
   "outputs": [],
   "source": [
    "new_traj_df = new_traj_df.sample(frac=1).reset_index(drop=True)\n",
    "\n",
    "test_frac = 0.1\n",
    "val_frac = 0.1\n",
    "\n",
    "dataset_len = new_traj_df.shape[0]\n",
    "test_len = int(dataset_len * test_frac)\n",
    "val_len = int(dataset_len * val_frac)\n",
    "\n",
    "test_df = new_traj_df.loc[:test_len]\n",
    "\n",
    "val_df = new_traj_df.loc[test_len: test_len + val_len]\n",
    "\n",
    "train_df = new_traj_df.loc[test_len + val_len:]"
   ]
  },
  {
   "cell_type": "code",
   "execution_count": 19,
   "id": "1df40da8",
   "metadata": {},
   "outputs": [],
   "source": [
    "train_df.to_pickle(os.path.join(target_datapath, 'train.pkl'))\n",
    "val_df.to_pickle(os.path.join(target_datapath, 'val.pkl'))\n",
    "test_df.to_pickle(os.path.join(target_datapath, 'test.pkl'))"
   ]
  },
  {
   "cell_type": "code",
   "execution_count": 20,
   "id": "b1610efd",
   "metadata": {},
   "outputs": [
    {
     "data": {
      "text/plain": [
       "(117440, 6)"
      ]
     },
     "execution_count": 20,
     "metadata": {},
     "output_type": "execute_result"
    }
   ],
   "source": [
    "train_df.shape"
   ]
  },
  {
   "cell_type": "code",
   "execution_count": 21,
   "id": "33ea5b41-39cf-4031-a515-308a06166025",
   "metadata": {},
   "outputs": [
    {
     "data": {
      "text/plain": [
       "1174.4"
      ]
     },
     "execution_count": 21,
     "metadata": {},
     "output_type": "execute_result"
    }
   ],
   "source": [
    "117440 * 0.01"
   ]
  },
  {
   "cell_type": "code",
   "execution_count": null,
   "id": "39bd0a9a-3efd-4013-9603-501c2bfa429e",
   "metadata": {},
   "outputs": [],
   "source": []
  }
 ],
 "metadata": {
  "kernelspec": {
   "display_name": "Python 3 (ipykernel)",
   "language": "python",
   "name": "python3"
  },
  "language_info": {
   "codemirror_mode": {
    "name": "ipython",
    "version": 3
   },
   "file_extension": ".py",
   "mimetype": "text/x-python",
   "name": "python",
   "nbconvert_exporter": "python",
   "pygments_lexer": "ipython3",
   "version": "3.11.6"
  }
 },
 "nbformat": 4,
 "nbformat_minor": 5
}

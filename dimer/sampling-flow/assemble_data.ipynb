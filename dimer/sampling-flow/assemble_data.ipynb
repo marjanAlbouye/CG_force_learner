{
 "cells": [
  {
   "cell_type": "code",
   "execution_count": 1,
   "id": "d247dd68",
   "metadata": {},
   "outputs": [],
   "source": [
    "import signac\n",
    "import pandas as pd\n",
    "import numpy as np\n",
    "import gsd.hoomd\n",
    "import rowan"
   ]
  },
  {
   "cell_type": "code",
   "execution_count": 2,
   "id": "92caf5d2",
   "metadata": {},
   "outputs": [],
   "source": [
    "project = signac.get_project()\n",
    "jobs = list(project.find_jobs())"
   ]
  },
  {
   "cell_type": "code",
   "execution_count": 3,
   "id": "85bcddca",
   "metadata": {},
   "outputs": [],
   "source": [
    "positions = []\n",
    "orientations = []\n",
    "energies = []\n",
    "net_force = []\n",
    "net_torque = []\n",
    "for j in jobs:\n",
    "    data = pd.read_pickle(j.fn(\"raw_data.pkl\"))\n",
    "    positions.extend(data['position'].tolist())\n",
    "    orientations.extend(data['orientation'].tolist())\n",
    "    net_force.extend(data['net_force'].tolist())\n",
    "    net_torque.extend(data['net_torque'].tolist())\n",
    "    energies.extend(data['energy'].tolist())"
   ]
  },
  {
   "cell_type": "code",
   "execution_count": 4,
   "id": "ba64681f",
   "metadata": {},
   "outputs": [],
   "source": [
    "lattice = gsd.hoomd.open(\"lattice_init.gsd\")"
   ]
  },
  {
   "cell_type": "code",
   "execution_count": 5,
   "id": "517f469f",
   "metadata": {},
   "outputs": [
    {
     "data": {
      "text/plain": [
       "array([10., 10., 10.,  0.,  0.,  0.], dtype=float32)"
      ]
     },
     "execution_count": 5,
     "metadata": {},
     "output_type": "execute_result"
    }
   ],
   "source": [
    "lattice[0].configuration.box"
   ]
  },
  {
   "cell_type": "code",
   "execution_count": 6,
   "id": "23a793b0",
   "metadata": {},
   "outputs": [],
   "source": [
    "positions = np.asarray(positions)\n",
    "orientations = np.asarray(orientations)\n",
    "net_force = np.asarray(net_force)\n",
    "net_torque = np.asarray(net_torque)\n",
    "energies = np.asarray(energies)\n"
   ]
  },
  {
   "cell_type": "code",
   "execution_count": 27,
   "id": "3b129796",
   "metadata": {},
   "outputs": [],
   "source": [
    "from functools import reduce\n",
    "keep_f_00 = np.where(np.logical_and(net_force[:, 0, 0] > -1000, net_force[:, 0, 0] < 1000))[0]\n",
    "keep_f_01 = np.where(np.logical_and(net_force[:, 0, 1] > -1000, net_force[:, 0, 1] < 1000))[0]\n",
    "keep_f_02 = np.where(np.logical_and(net_force[:, 0, 2] > -1000, net_force[:, 0, 2] < 1000))[0]\n",
    "\n",
    "keep_f_10 = np.where(np.logical_and(net_force[:, 1, 0] > -1000, net_force[:, 1, 0] < 1000))[0]\n",
    "keep_f_11 = np.where(np.logical_and(net_force[:, 1, 1] > -1000, net_force[:, 1, 1] < 1000))[0]\n",
    "keep_f_12 = np.where(np.logical_and(net_force[:, 1, 2] > -1000, net_force[:, 1, 2] < 1000))[0]\n",
    "keep_idx = reduce(np.intersect1d, (keep_f_00, keep_f_01, keep_f_02, keep_f_10, keep_f_11, keep_f_12))"
   ]
  },
  {
   "cell_type": "code",
   "execution_count": 28,
   "id": "2dc60dab",
   "metadata": {},
   "outputs": [
    {
     "data": {
      "text/plain": [
       "(143538,)"
      ]
     },
     "execution_count": 28,
     "metadata": {},
     "output_type": "execute_result"
    }
   ],
   "source": [
    "keep_idx.shape"
   ]
  },
  {
   "cell_type": "code",
   "execution_count": 29,
   "id": "3cf9d537",
   "metadata": {},
   "outputs": [],
   "source": [
    "keep_force = net_force[keep_idx]\n",
    "keep_energy = energies[keep_idx]\n",
    "keep_pos = positions[keep_idx]\n",
    "keep_orient = orientations[keep_idx]\n",
    "keep_torque = net_torque[keep_idx]"
   ]
  },
  {
   "cell_type": "code",
   "execution_count": 30,
   "id": "7424e587",
   "metadata": {},
   "outputs": [],
   "source": [
    "particle_pos = []\n",
    "neighbor_pos = []\n",
    "particle_orient = []\n",
    "neighbor_orient = []\n",
    "particle_force = []\n",
    "particle_torque = []\n",
    "particle_energy = []\n",
    "for pos, orient, force, torque, energy in zip(keep_pos, keep_orient, keep_force, keep_torque, keep_energy):\n",
    "    particle_pos.extend([pos[0], pos[1]])\n",
    "    neighbor_pos.extend([pos[1], pos[0]])\n",
    "    particle_orient.extend([orient[0], orient[1]])\n",
    "    neighbor_orient.extend([orient[1], orient[0]])\n",
    "    particle_force.extend([force[0], force[1]])\n",
    "    particle_torque.extend([torque[0], torque[1]])\n",
    "    particle_energy.extend([energy/2, energy/2])"
   ]
  },
  {
   "cell_type": "code",
   "execution_count": 31,
   "id": "5591218f",
   "metadata": {},
   "outputs": [
    {
     "data": {
      "text/plain": [
       "287076"
      ]
     },
     "execution_count": 31,
     "metadata": {},
     "output_type": "execute_result"
    }
   ],
   "source": [
    "len(particle_energy)"
   ]
  },
  {
   "cell_type": "code",
   "execution_count": 10,
   "id": "1d970fb1",
   "metadata": {},
   "outputs": [
    {
     "data": {
      "text/plain": [
       "array([0.11585982, 0.23649178, 0.01719318, 0.96454784])"
      ]
     },
     "execution_count": 10,
     "metadata": {},
     "output_type": "execute_result"
    }
   ],
   "source": [
    "neighbor_orient[0]"
   ]
  },
  {
   "cell_type": "code",
   "execution_count": 32,
   "id": "0df128e8",
   "metadata": {},
   "outputs": [],
   "source": [
    "columns = [\n",
    "    \"particle_pos\",\n",
    "    \"neighbor_pos\",\n",
    "    \"particle_orient\",\n",
    "    \"neighbor_orient\"\n",
    "    \"force\",\n",
    "    \"torque\",\n",
    "    \"energy\"\n",
    "]"
   ]
  },
  {
   "cell_type": "code",
   "execution_count": 33,
   "id": "4085fa79",
   "metadata": {},
   "outputs": [],
   "source": [
    "new_traj_df = pd.DataFrame(columns=columns)\n",
    "\n",
    "new_traj_df[\"particle_pos\"] = particle_pos\n",
    "new_traj_df[\"neighbor_pos\"] = neighbor_pos\n",
    "\n",
    "new_traj_df[\"particle_orient\"] = particle_orient\n",
    "new_traj_df[\"neighbor_orient\"] = neighbor_orient\n",
    "\n",
    "new_traj_df[\"force\"] = particle_force\n",
    "new_traj_df[\"torque\"] = particle_torque\n",
    "new_traj_df[\"energy\"] = particle_energy"
   ]
  },
  {
   "cell_type": "code",
   "execution_count": 34,
   "id": "ed1aacd9",
   "metadata": {},
   "outputs": [],
   "source": [
    "import os\n",
    "target_datapath = \"/home/erjank_project/caesreu/datasets/dimer_Jul27/\"\n",
    "if not os.path.exists(target_datapath):\n",
    "    os.mkdir(target_datapath)"
   ]
  },
  {
   "cell_type": "code",
   "execution_count": 35,
   "id": "e43df615",
   "metadata": {},
   "outputs": [],
   "source": [
    "new_traj_df.to_pickle(os.path.join(target_datapath, \"raw.pkl\"))"
   ]
  },
  {
   "cell_type": "code",
   "execution_count": 36,
   "id": "ecd35e40",
   "metadata": {},
   "outputs": [],
   "source": [
    "new_traj_df = new_traj_df.sample(frac=1).reset_index(drop=True)\n",
    "\n",
    "test_frac = 0.1\n",
    "val_frac = 0.1\n",
    "\n",
    "dataset_len = new_traj_df.shape[0]\n",
    "test_len = int(dataset_len * test_frac)\n",
    "val_len = int(dataset_len * val_frac)\n",
    "\n",
    "test_df = new_traj_df.loc[:test_len]\n",
    "\n",
    "val_df = new_traj_df.loc[test_len: test_len + val_len]\n",
    "\n",
    "train_df = new_traj_df.loc[test_len + val_len:]"
   ]
  },
  {
   "cell_type": "code",
   "execution_count": 37,
   "id": "1df40da8",
   "metadata": {},
   "outputs": [],
   "source": [
    "train_df.to_pickle(os.path.join(target_datapath, 'train.pkl'))\n",
    "val_df.to_pickle(os.path.join(target_datapath, 'val.pkl'))\n",
    "test_df.to_pickle(os.path.join(target_datapath, 'test.pkl'))"
   ]
  },
  {
   "cell_type": "code",
   "execution_count": null,
   "id": "b1610efd",
   "metadata": {},
   "outputs": [],
   "source": []
  }
 ],
 "metadata": {
  "kernelspec": {
   "display_name": "Python 3 (ipykernel)",
   "language": "python",
   "name": "python3"
  },
  "language_info": {
   "codemirror_mode": {
    "name": "ipython",
    "version": 3
   },
   "file_extension": ".py",
   "mimetype": "text/x-python",
   "name": "python",
   "nbconvert_exporter": "python",
   "pygments_lexer": "ipython3",
   "version": "3.11.3"
  }
 },
 "nbformat": 4,
 "nbformat_minor": 5
}

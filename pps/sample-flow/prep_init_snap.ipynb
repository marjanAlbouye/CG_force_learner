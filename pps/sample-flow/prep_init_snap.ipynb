{
 "cells": [
  {
   "cell_type": "code",
   "execution_count": 1,
   "id": "68ae1f81-27dd-4cc2-8d59-5adf8bd0e82d",
   "metadata": {},
   "outputs": [],
   "source": [
    "import warnings\n",
    "warnings.filterwarnings('ignore')\n",
    "\n",
    "import numpy as np\n",
    "import gsd"
   ]
  },
  {
   "cell_type": "code",
   "execution_count": 2,
   "id": "27e10ced-a401-4617-9c6b-85c64bfa1225",
   "metadata": {},
   "outputs": [],
   "source": [
    "# This is not intended as a full tutorial on fresnel - see the\n",
    "# fresnel user documentation (https://fresnel.readthedocs.io/) if you would like to learn more.\n",
    "\n",
    "import warnings\n",
    "import math\n",
    "import fresnel\n",
    "import IPython\n",
    "import packaging.version\n",
    "\n",
    "device = fresnel.Device()\n",
    "tracer = fresnel.tracer.Path(device=device, w=300, h=300)\n",
    "\n",
    "FRESNEL_MIN_VERSION = packaging.version.parse(\"0.13.0\")\n",
    "FRESNEL_MAX_VERSION = packaging.version.parse(\"0.14.0\")\n",
    "\n",
    "\n",
    "def render(snapshot):\n",
    "    if ('version' not in dir(fresnel) or packaging.version.parse(\n",
    "            fresnel.version.version) < FRESNEL_MIN_VERSION\n",
    "            or packaging.version.parse(\n",
    "                fresnel.version.version) >= FRESNEL_MAX_VERSION):\n",
    "        warnings.warn(\n",
    "            f\"Unsupported fresnel version {fresnel.version.version} - expect errors.\"\n",
    "        )\n",
    "    central_color = fresnel.color.linear([252 / 255, 41 / 255, 0 / 255])\n",
    "    constituent_color = fresnel.color.linear([93 / 255, 210 / 255, 252 / 255])\n",
    "\n",
    "    L = snapshot.configuration.box[0]\n",
    "    scene = fresnel.Scene(device)\n",
    "    geometry = fresnel.geometry.Sphere(scene,\n",
    "                                       N=len(snapshot.particles.position),\n",
    "                                       radius=0.5)\n",
    "    geometry.material = fresnel.material.Material(color=[0, 0, 0],\n",
    "                                                  roughness=0.5,\n",
    "                                                  primitive_color_mix=1.0)\n",
    "    geometry.position[:] = snapshot.particles.position[:]\n",
    "    geometry.color[snapshot.particles.typeid[:] == 0] = central_color\n",
    "    geometry.radius[snapshot.particles.typeid[:] == 0] = 0.3\n",
    "    geometry.color[snapshot.particles.typeid[:] == 1] = constituent_color\n",
    "    geometry.outline_width = 0.04\n",
    "    box = fresnel.geometry.Box(scene, [L, L, L, 0, 0, 0], box_radius=.02)\n",
    "\n",
    "    scene.lights = [\n",
    "        fresnel.light.Light(direction=(0, 0, 1),\n",
    "                            color=(0.8, 0.8, 0.8),\n",
    "                            theta=math.pi),\n",
    "        fresnel.light.Light(direction=(1, 1, 1),\n",
    "                            color=(1.1, 1.1, 1.1),\n",
    "                            theta=math.pi / 3)\n",
    "    ]\n",
    "    scene.camera = fresnel.camera.Orthographic(position=(L * 2, L, L * 2),\n",
    "                                               look_at=(0, 0, 0),\n",
    "                                               up=(0, 1, 0),\n",
    "                                               height=L * 1.4 + 1)\n",
    "    scene.background_alpha = 1\n",
    "    scene.background_color = (1, 1, 1)\n",
    "    return IPython.display.Image(tracer.sample(scene, samples=500)._repr_png_())"
   ]
  },
  {
   "cell_type": "code",
   "execution_count": 3,
   "id": "e92c332e-032c-44d7-b4a1-61ae410ab708",
   "metadata": {},
   "outputs": [
    {
     "name": "stderr",
     "output_type": "stream",
     "text": [
      "/home/marjanalbooyeh/miniconda3/envs/ml-pps/lib/python3.9/site-packages/numexpr/expressions.py:21: DeprecationWarning: distutils Version classes are deprecated. Use packaging.version instead.\n",
      "  _np_version_forbids_neg_powint = LooseVersion(numpy.__version__) >= LooseVersion('1.12.0b1')\n",
      "/home/marjanalbooyeh/miniconda3/envs/ml-pps/lib/python3.9/site-packages/numexpr/expressions.py:21: DeprecationWarning: distutils Version classes are deprecated. Use packaging.version instead.\n",
      "  _np_version_forbids_neg_powint = LooseVersion(numpy.__version__) >= LooseVersion('1.12.0b1')\n"
     ]
    }
   ],
   "source": [
    "from flowermd.library import PPS, OPLS_AA_PPS\n",
    "from flowermd.base import Pack, Simulation"
   ]
  },
  {
   "cell_type": "code",
   "execution_count": 4,
   "id": "0c5cccf0-b3a6-47d7-a5c8-6460a2231ad8",
   "metadata": {},
   "outputs": [],
   "source": [
    "pps = PPS(num_mols=2, lengths=1)\n",
    "system = Pack(molecules=pps, density=0.2)"
   ]
  },
  {
   "cell_type": "code",
   "execution_count": null,
   "id": "231d2ef6-4909-4419-8caa-5a6832eb0513",
   "metadata": {},
   "outputs": [],
   "source": []
  },
  {
   "cell_type": "code",
   "execution_count": 5,
   "id": "5c4d8199-c032-42e3-b01d-01869b94a816",
   "metadata": {},
   "outputs": [
    {
     "name": "stderr",
     "output_type": "stream",
     "text": [
      "/home/marjanalbooyeh/miniconda3/envs/ml-pps/lib/python3.9/site-packages/gmso/core/topology.py:818: DeprecationWarning: Conversion of an array with ndim > 0 to a scalar is deprecated, and will error in future. Ensure you extract a single element from your array before performing this operation. (Deprecated NumPy 1.25.)\n",
      "  all_scales[index][scaling_interaction_idxes[interaction]] = value\n",
      "/home/marjanalbooyeh/miniconda3/envs/ml-pps/lib/python3.9/site-packages/gmso/core/topology.py:818: DeprecationWarning: Conversion of an array with ndim > 0 to a scalar is deprecated, and will error in future. Ensure you extract a single element from your array before performing this operation. (Deprecated NumPy 1.25.)\n",
      "  all_scales[index][scaling_interaction_idxes[interaction]] = value\n"
     ]
    },
    {
     "name": "stdout",
     "output_type": "stream",
     "text": [
      "No charged group detected, skipping electrostatics.\n"
     ]
    }
   ],
   "source": [
    "system.apply_forcefield(r_cut=2.5, force_field=OPLS_AA_PPS(), auto_scale=True, remove_charges=True, scale_charges=True, remove_hydrogens=True)"
   ]
  },
  {
   "cell_type": "code",
   "execution_count": 6,
   "id": "9405f0c7-01e6-442f-bc6f-1083be65788f",
   "metadata": {},
   "outputs": [],
   "source": [
    "snapshot = system.hoomd_snapshot"
   ]
  },
  {
   "cell_type": "code",
   "execution_count": 7,
   "id": "290a946b-c061-4822-8c51-fb27fda02333",
   "metadata": {},
   "outputs": [
    {
     "name": "stdout",
     "output_type": "stream",
     "text": [
      "Initializing simulation state from a gsd.hoomd.Frame.\n"
     ]
    }
   ],
   "source": [
    "pps_aa_simulation = Simulation.from_system(system)"
   ]
  },
  {
   "cell_type": "code",
   "execution_count": 8,
   "id": "da8e6894-4482-4550-9ec1-4dc05f29634a",
   "metadata": {},
   "outputs": [],
   "source": [
    "frame = pps_aa_simulation.state.get_snapshot()"
   ]
  },
  {
   "cell_type": "code",
   "execution_count": 10,
   "id": "06251420-f9e0-4312-9727-58c10228f09e",
   "metadata": {},
   "outputs": [
    {
     "data": {
      "text/plain": [
       "{'energy': unyt_quantity(1.7782, 'kJ/mol'),\n",
       " 'length': unyt_quantity(0.36, 'nm'),\n",
       " 'mass': unyt_quantity(32.06, 'amu')}"
      ]
     },
     "execution_count": 10,
     "metadata": {},
     "output_type": "execute_result"
    }
   ],
   "source": [
    "pps_aa_simulation.reference_values"
   ]
  },
  {
   "cell_type": "code",
   "execution_count": 22,
   "id": "57b64cc1-80a2-4ea0-82d0-86d55b5feca4",
   "metadata": {},
   "outputs": [],
   "source": [
    "import pickle\n",
    "with open(\"pps_ref_units.pkl\", \"wb\") as f:\n",
    "    pickle.dump(pps_aa_simulation.reference_values, f)"
   ]
  },
  {
   "cell_type": "markdown",
   "id": "014fcf45-9d85-4991-bcd3-2729c58f7c37",
   "metadata": {},
   "source": [
    "## error_units "
   ]
  },
  {
   "cell_type": "code",
   "execution_count": 11,
   "id": "7014798f-229d-4c02-b30a-223548600a59",
   "metadata": {},
   "outputs": [],
   "source": [
    "import unyt as u\n"
   ]
  },
  {
   "cell_type": "code",
   "execution_count": 17,
   "id": "92713a0b-60a3-4c62-bbc9-c0cbfb89e329",
   "metadata": {},
   "outputs": [
    {
     "data": {
      "text/plain": [
       "unyt_quantity(3.6, 'Å')"
      ]
     },
     "execution_count": 17,
     "metadata": {},
     "output_type": "execute_result"
    }
   ],
   "source": [
    "pps_aa_simulation.reference_length.to(\"angstrom\")"
   ]
  },
  {
   "cell_type": "code",
   "execution_count": 23,
   "id": "7b02c85b-5a7b-4d7d-a2b8-4f2a32100f79",
   "metadata": {},
   "outputs": [
    {
     "name": "stdout",
     "output_type": "stream",
     "text": [
      "0.11805555555555557 kcal/(mol*Å)\n"
     ]
    }
   ],
   "source": [
    "energy_kcal_mol = pps_aa_simulation.reference_energy.to(\"kcal/mol\")\n",
    "length_ang = pps_aa_simulation.reference_length.to(\"angstrom\")\n",
    "print(energy_kcal_mol/length_ang)"
   ]
  },
  {
   "cell_type": "code",
   "execution_count": 19,
   "id": "a2bae540-bfae-4836-bb33-c40a83a5f036",
   "metadata": {},
   "outputs": [
    {
     "data": {
      "text/plain": [
       "unyt_quantity(0.94444444, 'kcal/(mol*Å)')"
      ]
     },
     "execution_count": 19,
     "metadata": {},
     "output_type": "execute_result"
    }
   ],
   "source": [
    "(8 * energy_kcal_mol )/length_ang"
   ]
  },
  {
   "cell_type": "markdown",
   "id": "cf199380-6aea-4a1e-94b8-15c100ceabee",
   "metadata": {},
   "source": [
    "## Create rigid body initial frame"
   ]
  },
  {
   "cell_type": "code",
   "execution_count": 78,
   "id": "61b61cc3-c432-421c-8873-3dd1e24cabb5",
   "metadata": {},
   "outputs": [],
   "source": [
    "masses = frame.particles.mass\n",
    "positions = frame.particles.position\n",
    "N = frame.particles.N\n",
    "box = frame.configuration.box\n",
    "types = frame.particles.types\n",
    "typeid = frame.particles.typeid"
   ]
  },
  {
   "cell_type": "code",
   "execution_count": 79,
   "id": "0c661cf0-17ed-4b60-a1ae-d466e6d788f9",
   "metadata": {},
   "outputs": [],
   "source": [
    "# indices of constituent particles\n",
    "constituent_indx = [[0, 1, 2, 3, 4, 5, 6], [7, 8, 9, 10, 11, 12, 13]]"
   ]
  },
  {
   "cell_type": "code",
   "execution_count": 80,
   "id": "c9640b15-4920-4db8-8f98-9ca2f605c9e8",
   "metadata": {},
   "outputs": [],
   "source": [
    "\n",
    "com_mass = []\n",
    "com_positions = []\n",
    "\n",
    "for indx in constituent_indx:\n",
    "    total_mass = np.sum(frame.particles.mass[indx])\n",
    "    com_mass.append(total_mass)\n",
    "    com_positions.append(\n",
    "                np.sum(\n",
    "                    frame.particles.position[indx]\n",
    "                    * snapshot.particles.mass[indx, np.newaxis],\n",
    "                    axis=0,\n",
    "                )\n",
    "                / total_mass\n",
    "            )"
   ]
  },
  {
   "cell_type": "code",
   "execution_count": 81,
   "id": "483b35d1-742d-4e8c-b366-80410e1d14d1",
   "metadata": {},
   "outputs": [],
   "source": [
    "rigid_frame = gsd.hoomd.Frame()\n",
    "rigid_frame.particles.types = ['rigid']+types\n",
    "rigid_frame.particles.N = 2\n",
    "rigid_frame.particles.typeid = [0, 0]\n",
    "\n",
    "rigid_frame.particles.position = com_positions\n",
    "rigid_frame.particles.mass = com_mass\n",
    "rigid_frame.configuration.box = box"
   ]
  },
  {
   "cell_type": "code",
   "execution_count": 82,
   "id": "81944dfc-326e-4ff5-bc41-5264275c5a24",
   "metadata": {},
   "outputs": [
    {
     "data": {
      "text/plain": [
       "array([[ 0.08849504,  0.07669724,  0.64043651],\n",
       "       [-0.02556489, -0.26707529,  0.49990807],\n",
       "       [-0.07843468, -0.31309532,  0.11771188],\n",
       "       [-0.01726601, -0.01489721, -0.12452878],\n",
       "       [-0.08479617, -0.07348143, -0.61360397],\n",
       "       [ 0.09703805,  0.32916023,  0.01655017],\n",
       "       [ 0.14977624,  0.3746983 ,  0.39882241]])"
      ]
     },
     "execution_count": 82,
     "metadata": {},
     "output_type": "execute_result"
    }
   ],
   "source": [
    "## calculate moment of inertia (https://en.wikipedia.org/wiki/Moment_of_inertia#Definition_2)\n",
    "# first, need to get the relative positions of constituent particles wrt com\n",
    "rel_const_pos =  positions[constituent_indx[0]] - com_positions[0]\n",
    "rel_const_pos"
   ]
  },
  {
   "cell_type": "code",
   "execution_count": 83,
   "id": "543b8bf3-f3b5-4205-9e91-185b03c11ed9",
   "metadata": {},
   "outputs": [],
   "source": [
    "const_mass = masses[constituent_indx[0]]"
   ]
  },
  {
   "cell_type": "code",
   "execution_count": 84,
   "id": "67a6c842-6ccd-49c7-9af2-fdf88aac506f",
   "metadata": {},
   "outputs": [
    {
     "name": "stdout",
     "output_type": "stream",
     "text": [
      "I_xx:  0.9103535961372244\n",
      "I_yy:  0.7589334877928963\n",
      "I_zz:  0.20423089114544785\n"
     ]
    }
   ],
   "source": [
    "# using the code from hoomd blue rigid tutorial\n",
    "I = np.zeros(shape=(3,3))\n",
    "for (r, m) in zip(rel_const_pos, const_mass):\n",
    "    I += m * (np.dot(r, r) * np.identity(3) - np.outer(r, r))\n",
    "print('I_xx: ',  I[0, 0])\n",
    "print('I_yy: ',  I[1, 1])\n",
    "print('I_zz: ',  I[2, 2])"
   ]
  },
  {
   "cell_type": "code",
   "execution_count": 85,
   "id": "9229d096-6357-4cfa-8acc-7e708fae05ca",
   "metadata": {},
   "outputs": [
    {
     "name": "stdout",
     "output_type": "stream",
     "text": [
      "I_xx:  0.9103535961372244\n",
      "I_yy:  0.7589334877928963\n",
      "I_zz:  0.2042308911454478\n"
     ]
    }
   ],
   "source": [
    "# manually calculating moment of inertial diagonal\n",
    "I_xx = 0\n",
    "I_yy = 0\n",
    "I_zz = 0\n",
    "for i in constituent_indx[0]:\n",
    "    m_k = masses[i]\n",
    "    r = positions[i] - com_positions[0]\n",
    "    I_xx += m_k * (r[1]**2 + r[2]**2)\n",
    "    I_yy += m_k * (r[0]**2 + r[2]**2)\n",
    "    I_zz += m_k * (r[0]**2 + r[1]**2)\n",
    "print('I_xx: ',  I_xx)\n",
    "print('I_yy: ',  I_yy)\n",
    "print('I_zz: ',  I_zz)"
   ]
  },
  {
   "cell_type": "code",
   "execution_count": 86,
   "id": "f30e262b-dcd3-4154-8ddc-0ba65b25a3b9",
   "metadata": {},
   "outputs": [],
   "source": [
    "rigid_frame.particles.moment_inertia = [I_xx, I_yy, I_zz]*2\n",
    "rigid_frame.particles.orientation = [(1, 0, 0, 0)] * 2"
   ]
  },
  {
   "cell_type": "code",
   "execution_count": 89,
   "id": "a1af5dc5-698a-40ed-8a27-e27f6bbcbdc8",
   "metadata": {},
   "outputs": [],
   "source": [
    "import gsd.hoomd\n",
    "with gsd.hoomd.open(name='pps_only_rigid_centers.gsd', mode='x') as f:\n",
    "    f.append(rigid_frame)"
   ]
  },
  {
   "cell_type": "code",
   "execution_count": 133,
   "id": "bc678d59-6a21-4c97-b49e-a09d45275580",
   "metadata": {},
   "outputs": [],
   "source": [
    "import hoomd\n",
    "rigid = hoomd.md.constrain.Rigid()\n",
    "rigid.body['rigid'] = {\n",
    "    \"constituent_types\":list(np.asarray(types)[list(frame.particles.typeid)][constituent_indx[0]]),\n",
    "    \"positions\": rel_const_pos,\n",
    "    \"orientations\": [(1.0, 0.0, 0.0, 0.0)]* len(rel_const_pos),\n",
    "}"
   ]
  },
  {
   "cell_type": "code",
   "execution_count": 91,
   "id": "2e267268-5584-4e9f-9689-9d6c7df63b01",
   "metadata": {},
   "outputs": [
    {
     "data": {
      "text/plain": [
       "['ca', 'ca', 'ca', 'ca', 'sh', 'ca', 'ca']"
      ]
     },
     "execution_count": 91,
     "metadata": {},
     "output_type": "execute_result"
    }
   ],
   "source": [
    "list(np.asarray(types)[list(frame.particles.typeid)][constituent_indx[0]])"
   ]
  },
  {
   "cell_type": "code",
   "execution_count": 134,
   "id": "6859f9b1-539f-4cfd-b383-abce4c76f693",
   "metadata": {},
   "outputs": [],
   "source": [
    "# first placing the rigid centers\n",
    "simulation = hoomd.Simulation(device=hoomd.device.GPU(), seed=4)\n",
    "simulation.create_state_from_gsd(filename='pps_only_rigid_centers.gsd')\n",
    "# render(simulation.state.get_snapshot())"
   ]
  },
  {
   "cell_type": "code",
   "execution_count": 135,
   "id": "5c3b2652-1e07-4b88-9683-95af0bbd5670",
   "metadata": {},
   "outputs": [],
   "source": [
    "# Now adding the constituent particles\n",
    "\n",
    "rigid.create_bodies(simulation.state)\n"
   ]
  },
  {
   "cell_type": "code",
   "execution_count": 94,
   "id": "ae4f0a26-17e5-4d3c-95af-0abf9f2d4ecd",
   "metadata": {},
   "outputs": [
    {
     "data": {
      "image/png": "[encoded data removed]",
      "text/plain": [
       "<IPython.core.display.Image object>"
      ]
     },
     "execution_count": 94,
     "metadata": {},
     "output_type": "execute_result"
    }
   ],
   "source": [
    "render(simulation.state.get_snapshot())"
   ]
  },
  {
   "cell_type": "code",
   "execution_count": 136,
   "id": "c33a1a19-0bd5-4949-8b77-79afe1896023",
   "metadata": {},
   "outputs": [],
   "source": [
    "integrator = hoomd.md.Integrator(dt=0.005, integrate_rotational_dof=True)\n",
    "integrator.rigid = rigid\n",
    "simulation.operations.integrator = integrator\n",
    "simulation.run(0)\n",
    "# render(simulation.state.get_snapshot())"
   ]
  },
  {
   "cell_type": "code",
   "execution_count": 96,
   "id": "da139c3b-26f0-449a-9fd6-becb1db40684",
   "metadata": {},
   "outputs": [],
   "source": [
    "hoomd.write.GSD.write(state=simulation.state, mode='xb', filename='pps_rigid_lattice.gsd')"
   ]
  },
  {
   "cell_type": "markdown",
   "id": "be17c2f1-82d5-480f-9da5-9d0212fe6571",
   "metadata": {},
   "source": [
    "## Define the forces"
   ]
  },
  {
   "cell_type": "code",
   "execution_count": 254,
   "id": "cbef1b3c-a9e5-49ae-8158-d1a7fe5e5fb9",
   "metadata": {},
   "outputs": [],
   "source": [
    "\n",
    "rigid_simulation = hoomd.Simulation(device=hoomd.device.GPU(), seed=1)\n",
    "rigid_simulation.create_state_from_gsd(filename='pps_rigid_lattice.gsd')"
   ]
  },
  {
   "cell_type": "code",
   "execution_count": 255,
   "id": "f9d62656-7342-4b32-a542-46dd8d4f6320",
   "metadata": {},
   "outputs": [],
   "source": [
    "rigid = hoomd.md.constrain.Rigid()\n",
    "rigid.body['rigid'] = {\n",
    "    \"constituent_types\":list(np.asarray(types)[list(frame.particles.typeid)][constituent_indx[0]]),\n",
    "    \"positions\": rel_const_pos,\n",
    "    \"orientations\": [(1.0, 0.0, 0.0, 0.0)]* len(rel_const_pos),\n",
    "}"
   ]
  },
  {
   "cell_type": "code",
   "execution_count": 256,
   "id": "e9db4074-4b92-4bf4-8b7a-047762fe0533",
   "metadata": {},
   "outputs": [],
   "source": [
    "integrator = hoomd.md.Integrator(dt=0.005, integrate_rotational_dof=True)\n",
    "rigid_simulation.operations.integrator = integrator\n",
    "integrator.rigid = rigid\n",
    "kT = 1.5\n",
    "rigid_centers_and_free = hoomd.filter.Rigid((\"center\", \"free\"))\n",
    "nvt = hoomd.md.methods.ConstantVolume(\n",
    "    filter=rigid_centers_and_free,\n",
    "    thermostat=hoomd.md.methods.thermostats.Bussi(kT=kT))\n",
    "integrator.methods.append(nvt)"
   ]
  },
  {
   "cell_type": "code",
   "execution_count": 257,
   "id": "32cd1751-0507-4f84-ad11-9ea24f664a72",
   "metadata": {},
   "outputs": [],
   "source": [
    "cell = hoomd.md.nlist.Cell(buffer=0, exclusions=['body'])"
   ]
  },
  {
   "cell_type": "code",
   "execution_count": 258,
   "id": "05d20f84-7954-4364-a7ab-4e986dc24653",
   "metadata": {},
   "outputs": [
    {
     "data": {
      "text/plain": [
       "['rigid', 'ca', 'sh']"
      ]
     },
     "execution_count": 258,
     "metadata": {},
     "output_type": "execute_result"
    }
   ],
   "source": [
    "rigid_simulation.state.get_snapshot().particles.types"
   ]
  },
  {
   "cell_type": "code",
   "execution_count": 259,
   "id": "3d55dfaf-bd74-4a95-9b87-31590d09589f",
   "metadata": {},
   "outputs": [
    {
     "data": {
      "text/plain": [
       "<hoomd.md.special_pair.LJ at 0x7ff970b463d0>"
      ]
     },
     "execution_count": 259,
     "metadata": {},
     "output_type": "execute_result"
    }
   ],
   "source": [
    "pps_aa_simulation.forces[1]"
   ]
  },
  {
   "cell_type": "code",
   "execution_count": 260,
   "id": "c8c31ce7-c8e2-4f92-a499-9eb6f2dd9c50",
   "metadata": {},
   "outputs": [],
   "source": [
    "lj = hoomd.md.pair.LJ(nlist=cell)\n",
    "\n",
    "# use aa pps simulation to define lj and special lj forces between constituent particles\n",
    "for k, v in dict(pps_aa_simulation.forces[0].params).items():\n",
    "    lj.params[k] = v\n",
    "    lj.r_cut[k] = 2.5\n",
    "\n",
    "lj.params[('rigid', ['rigid', 'ca', 'sh'])]= dict(epsilon=0, sigma=0)\n",
    "lj.r_cut[('rigid', ['rigid', 'ca', 'sh'])] = 0"
   ]
  },
  {
   "cell_type": "code",
   "execution_count": 261,
   "id": "4a143ce9-a56d-42fd-889a-71546eea7500",
   "metadata": {},
   "outputs": [],
   "source": [
    "integrator.forces.append(lj)\n",
    "# integrator.forces.append(special_lj)"
   ]
  },
  {
   "cell_type": "code",
   "execution_count": 262,
   "id": "81d27d06-4f3b-479d-92e0-d033e8e62445",
   "metadata": {},
   "outputs": [],
   "source": [
    "rigid_simulation.state.thermalize_particle_momenta(filter=rigid_centers_and_free,\n",
    "                                             kT=kT)\n",
    "\n",
    "rigid_simulation.run(0)"
   ]
  },
  {
   "cell_type": "code",
   "execution_count": 263,
   "id": "6a7930be-b75c-49c0-acfe-c1a9aaf1f88b",
   "metadata": {},
   "outputs": [],
   "source": [
    "log_quantities = [\n",
    "                    \"kinetic_temperature\",\n",
    "                    \"potential_energy\",\n",
    "                    \"kinetic_energy\",\n",
    "                    \"volume\",\n",
    "                    \"pressure\",\n",
    "                    \"pressure_tensor\",\n",
    "                ]\n",
    "logger = hoomd.logging.Logger(categories=[\"scalar\", \"string\", \"particle\"])\n",
    "logger.add(rigid_simulation, quantities=[\"timestep\", \"tps\"])\n",
    "thermo_props = hoomd.md.compute.ThermodynamicQuantities(filter=hoomd.filter.All())\n",
    "rigid_simulation.operations.computes.append(thermo_props)\n",
    "logger.add(thermo_props, quantities=log_quantities)\n",
    "\n",
    "for f in integrator.forces:\n",
    "\n",
    "    logger.add(f, quantities=[\"energy\", \"forces\", \"energies\"])\n",
    "\n",
    "gsd_writer = hoomd.write.GSD(\n",
    "    filename=\"pps_trajectory.gsd\",\n",
    "    trigger=hoomd.trigger.Periodic(int(1)),\n",
    "    mode=\"wb\",\n",
    "    logger=logger,\n",
    "    filter=hoomd.filter.All(),\n",
    "    dynamic=[\"momentum\", \"property\"]\n",
    "    )\n",
    "\n",
    "rigid_simulation.operations.writers.append(gsd_writer)"
   ]
  },
  {
   "cell_type": "code",
   "execution_count": 264,
   "id": "15009477-2854-47d0-adcf-1a03bcafbe79",
   "metadata": {},
   "outputs": [],
   "source": [
    "rigid_simulation.run(3000)"
   ]
  },
  {
   "cell_type": "code",
   "execution_count": 265,
   "id": "693baaeb-2527-4e38-99cf-0379ec56772c",
   "metadata": {},
   "outputs": [],
   "source": [
    "rigid_simulation.operations.writers[0].flush()"
   ]
  },
  {
   "cell_type": "code",
   "execution_count": 266,
   "id": "8ca84c5d-4e59-4701-bc2f-c8e63e0dfcc8",
   "metadata": {},
   "outputs": [],
   "source": [
    "hoomd.write.GSD.write(state=rigid_simulation.state, mode='xb', filename='pps_rigid_initial_run.gsd')"
   ]
  },
  {
   "cell_type": "code",
   "execution_count": 268,
   "id": "49430a7d-6b4b-4d38-92f5-4181a4fef3a2",
   "metadata": {},
   "outputs": [],
   "source": [
    "import pickle\n",
    "f = open('pps_rigid_ff.pickle', \"wb\")\n",
    "pickle.dump(integrator.forces, f)"
   ]
  },
  {
   "cell_type": "code",
   "execution_count": 269,
   "id": "296124a3-5cec-4d68-a2ae-e7327b2feae2",
   "metadata": {},
   "outputs": [],
   "source": [
    "rigid_simulation.run(10000)"
   ]
  },
  {
   "cell_type": "code",
   "execution_count": 270,
   "id": "939de725-a303-44b3-bd44-0050814944e2",
   "metadata": {},
   "outputs": [],
   "source": [
    "rigid_simulation.operations.writers[0].flush()"
   ]
  },
  {
   "cell_type": "code",
   "execution_count": null,
   "id": "21b8a0f8-f045-419e-b4ae-518d563bcf41",
   "metadata": {},
   "outputs": [],
   "source": []
  }
 ],
 "metadata": {
  "kernelspec": {
   "display_name": "Python 3 (ipykernel)",
   "language": "python",
   "name": "python3"
  },
  "language_info": {
   "codemirror_mode": {
    "name": "ipython",
    "version": 3
   },
   "file_extension": ".py",
   "mimetype": "text/x-python",
   "name": "python",
   "nbconvert_exporter": "python",
   "pygments_lexer": "ipython3",
   "version": "3.9.18"
  }
 },
 "nbformat": 4,
 "nbformat_minor": 5
}

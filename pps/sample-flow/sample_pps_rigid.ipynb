{
 "cells": [
  {
   "cell_type": "code",
   "execution_count": 1,
   "id": "865d9668-60b3-4425-ab27-675d95a32d62",
   "metadata": {},
   "outputs": [],
   "source": [
    "import hoomd\n",
    "import pickle\n",
    "import gsd.hoomd\n",
    "import numpy as np\n",
    "\n",
    "import warnings\n",
    "warnings.filterwarnings('ignore')\n"
   ]
  },
  {
   "cell_type": "markdown",
   "id": "e9e2a8a8-34fd-4cd3-9d2e-d6ae0b8da261",
   "metadata": {},
   "source": [
    "### Create pps atomistic simulation to collect positions of constituent particles and COM "
   ]
  },
  {
   "cell_type": "code",
   "execution_count": 2,
   "id": "59871480-f29b-45fd-9432-13970d2a8aa5",
   "metadata": {},
   "outputs": [
    {
     "name": "stderr",
     "output_type": "stream",
     "text": [
      "/home/marjanalbooyeh/miniconda3/envs/ml-pps/lib/python3.9/site-packages/numexpr/expressions.py:21: DeprecationWarning: distutils Version classes are deprecated. Use packaging.version instead.\n",
      "  _np_version_forbids_neg_powint = LooseVersion(numpy.__version__) >= LooseVersion('1.12.0b1')\n",
      "/home/marjanalbooyeh/miniconda3/envs/ml-pps/lib/python3.9/site-packages/numexpr/expressions.py:21: DeprecationWarning: distutils Version classes are deprecated. Use packaging.version instead.\n",
      "  _np_version_forbids_neg_powint = LooseVersion(numpy.__version__) >= LooseVersion('1.12.0b1')\n"
     ]
    }
   ],
   "source": [
    "from flowermd.library import PPS, OPLS_AA_PPS\n",
    "from flowermd.base import Pack,  Simulation"
   ]
  },
  {
   "cell_type": "code",
   "execution_count": 3,
   "id": "e5a2ff48-cb63-4703-9776-c382db144afc",
   "metadata": {},
   "outputs": [],
   "source": [
    "pps = PPS(num_mols=2, lengths=1)\n",
    "system = Pack(molecules=pps, density=0.2)"
   ]
  },
  {
   "cell_type": "code",
   "execution_count": 4,
   "id": "a40bf6bc-7532-4d72-b53e-f7d6ae9a39c4",
   "metadata": {},
   "outputs": [
    {
     "name": "stderr",
     "output_type": "stream",
     "text": [
      "/home/marjanalbooyeh/miniconda3/envs/ml-pps/lib/python3.9/site-packages/gmso/core/topology.py:818: DeprecationWarning: Conversion of an array with ndim > 0 to a scalar is deprecated, and will error in future. Ensure you extract a single element from your array before performing this operation. (Deprecated NumPy 1.25.)\n",
      "  all_scales[index][scaling_interaction_idxes[interaction]] = value\n",
      "/home/marjanalbooyeh/miniconda3/envs/ml-pps/lib/python3.9/site-packages/gmso/core/topology.py:818: DeprecationWarning: Conversion of an array with ndim > 0 to a scalar is deprecated, and will error in future. Ensure you extract a single element from your array before performing this operation. (Deprecated NumPy 1.25.)\n",
      "  all_scales[index][scaling_interaction_idxes[interaction]] = value\n"
     ]
    },
    {
     "name": "stdout",
     "output_type": "stream",
     "text": [
      "No charged group detected, skipping electrostatics.\n"
     ]
    }
   ],
   "source": [
    "system.apply_forcefield(r_cut=2.5, force_field=OPLS_AA_PPS(), auto_scale=True, remove_charges=True, scale_charges=True, remove_hydrogens=True)"
   ]
  },
  {
   "cell_type": "code",
   "execution_count": 5,
   "id": "0e09c2bf-3483-40e6-ab53-93cb61133d97",
   "metadata": {},
   "outputs": [
    {
     "name": "stdout",
     "output_type": "stream",
     "text": [
      "Initializing simulation state from a gsd.hoomd.Frame.\n"
     ]
    }
   ],
   "source": [
    "pps_aa_simulation = Simulation.from_system(system)"
   ]
  },
  {
   "cell_type": "code",
   "execution_count": 6,
   "id": "b8a8f3a0-3dc7-484e-aac9-dfa5d79ba3f8",
   "metadata": {},
   "outputs": [],
   "source": [
    "frame = pps_aa_simulation.state.get_snapshot()"
   ]
  },
  {
   "cell_type": "code",
   "execution_count": 7,
   "id": "ef5cbe32-760b-41a2-9f67-08eae60b74a1",
   "metadata": {},
   "outputs": [],
   "source": [
    "positions = frame.particles.position\n",
    "# indices of constituent particles\n",
    "constituent_indx = [[0, 1, 2, 3, 4, 5, 6], [7, 8, 9, 10, 11, 12, 13]]"
   ]
  },
  {
   "cell_type": "code",
   "execution_count": 8,
   "id": "e829a85e-5e9e-4880-8f72-7068beeb0d0c",
   "metadata": {},
   "outputs": [],
   "source": [
    "\n",
    "com_mass = []\n",
    "com_positions = []\n",
    "\n",
    "for indx in constituent_indx:\n",
    "    total_mass = np.sum(frame.particles.mass[indx])\n",
    "    com_mass.append(total_mass)\n",
    "    com_positions.append(\n",
    "                np.sum(\n",
    "                    frame.particles.position[indx]\n",
    "                    * frame.particles.mass[indx, np.newaxis],\n",
    "                    axis=0,\n",
    "                )\n",
    "                / total_mass\n",
    "            )"
   ]
  },
  {
   "cell_type": "code",
   "execution_count": 9,
   "id": "bd5796a8-2e69-4a15-b214-03557b863b90",
   "metadata": {},
   "outputs": [
    {
     "data": {
      "text/plain": [
       "array([[ 0.08849504,  0.07669724,  0.64043651],\n",
       "       [-0.02556489, -0.26707529,  0.49990807],\n",
       "       [-0.07843468, -0.31309532,  0.11771188],\n",
       "       [-0.01726601, -0.01489721, -0.12452878],\n",
       "       [-0.08479617, -0.07348143, -0.61360397],\n",
       "       [ 0.09703805,  0.32916023,  0.01655017],\n",
       "       [ 0.14977624,  0.3746983 ,  0.39882241]])"
      ]
     },
     "execution_count": 9,
     "metadata": {},
     "output_type": "execute_result"
    }
   ],
   "source": [
    "rel_const_pos =  positions[constituent_indx[0]] - com_positions[0]\n",
    "rel_const_pos"
   ]
  },
  {
   "cell_type": "markdown",
   "id": "491e50d6-0c81-4ee3-9286-d169d05750b2",
   "metadata": {},
   "source": [
    "### Create rigid body simulation"
   ]
  },
  {
   "cell_type": "code",
   "execution_count": 36,
   "id": "5c664d52-766f-433e-b434-b271ffec23c2",
   "metadata": {},
   "outputs": [],
   "source": [
    "\n",
    "rigid_simulation = hoomd.Simulation(device=hoomd.device.GPU(), seed=1)\n",
    "rigid_simulation.create_state_from_gsd(filename='pps_rigid_initial_run.gsd')"
   ]
  },
  {
   "cell_type": "code",
   "execution_count": 37,
   "id": "afec7d0e-97ee-40ea-b2fc-46438d9b6c7b",
   "metadata": {},
   "outputs": [],
   "source": [
    "const_particle_types = list(np.asarray(frame.particles.types)[list(frame.particles.typeid)][constituent_indx[0]])"
   ]
  },
  {
   "cell_type": "code",
   "execution_count": 38,
   "id": "5a6a6aeb-55b7-4498-9da1-68de5931caef",
   "metadata": {},
   "outputs": [],
   "source": [
    "rigid = hoomd.md.constrain.Rigid()\n",
    "rigid.body['rigid'] = {\n",
    "    \"constituent_types\":const_particle_types,\n",
    "    \"positions\": rel_const_pos,\n",
    "    \"orientations\": [(1.0, 0.0, 0.0, 0.0)]* len(rel_const_pos),\n",
    "}"
   ]
  },
  {
   "cell_type": "code",
   "execution_count": 39,
   "id": "e0cb53fa-7a95-4d05-b426-d179ebd7a6ce",
   "metadata": {},
   "outputs": [],
   "source": [
    "integrator = hoomd.md.Integrator(dt=0.005, integrate_rotational_dof=True)\n",
    "rigid_simulation.operations.integrator = integrator\n",
    "integrator.rigid = rigid\n",
    "kT = 1.5\n",
    "rigid_centers_and_free = hoomd.filter.Rigid((\"center\", \"free\"))\n",
    "nvt = hoomd.md.methods.ConstantVolume(\n",
    "    filter=rigid_centers_and_free,\n",
    "    thermostat=hoomd.md.methods.thermostats.Bussi(kT=kT))\n",
    "integrator.methods.append(nvt)"
   ]
  },
  {
   "cell_type": "markdown",
   "id": "c04e02da-9425-40a1-85d7-b36a83a7a71a",
   "metadata": {},
   "source": [
    "#### define forces"
   ]
  },
  {
   "cell_type": "code",
   "execution_count": 40,
   "id": "b39f4b41-15ee-4704-adb3-73f8a2cc6f76",
   "metadata": {},
   "outputs": [],
   "source": [
    "cell = hoomd.md.nlist.Cell(buffer=0, exclusions=['body'])\n",
    "\n",
    "lj = hoomd.md.pair.LJ(nlist=cell)\n",
    "\n",
    "# use aa pps simulation to define lj and special lj forces between constituent particles\n",
    "for k, v in dict(pps_aa_simulation.forces[0].params).items():\n",
    "    lj.params[k] = v\n",
    "    lj.r_cut[k] = 2.5\n",
    "\n",
    "lj.params[('rigid', ['rigid', 'ca', 'sh'])]= dict(epsilon=0, sigma=0)\n",
    "lj.r_cut[('rigid', ['rigid', 'ca', 'sh'])] = 0"
   ]
  },
  {
   "cell_type": "code",
   "execution_count": 41,
   "id": "fae95fc3-c4c3-4000-8be8-59ce3b1aa60d",
   "metadata": {},
   "outputs": [],
   "source": [
    "integrator.forces.append(lj)"
   ]
  },
  {
   "cell_type": "code",
   "execution_count": 42,
   "id": "94ae4e3f-5c30-4a17-852e-df2f94944a2e",
   "metadata": {},
   "outputs": [],
   "source": [
    "rigid_simulation.state.thermalize_particle_momenta(filter=rigid_centers_and_free,\n",
    "                                             kT=kT)\n",
    "\n",
    "rigid_simulation.run(0)"
   ]
  },
  {
   "cell_type": "markdown",
   "id": "8ee55579-2270-45d3-ba9a-2caa24237b76",
   "metadata": {},
   "source": [
    "#### Add loggers"
   ]
  },
  {
   "cell_type": "code",
   "execution_count": 43,
   "id": "1f6c62b9-2d74-460e-be27-f5665d312379",
   "metadata": {},
   "outputs": [],
   "source": [
    "log_quantities = [\n",
    "                    \"kinetic_temperature\",\n",
    "                    \"potential_energy\",\n",
    "                    \"kinetic_energy\",\n",
    "                    \"volume\",\n",
    "                    \"pressure\",\n",
    "                    \"pressure_tensor\",\n",
    "                ]\n",
    "logger = hoomd.logging.Logger(categories=[\"scalar\", \"string\", \"particle\"])\n",
    "logger.add(rigid_simulation, quantities=[\"timestep\", \"tps\"])\n",
    "thermo_props = hoomd.md.compute.ThermodynamicQuantities(filter=hoomd.filter.All())\n",
    "rigid_simulation.operations.computes.append(thermo_props)\n",
    "logger.add(thermo_props, quantities=log_quantities)\n",
    "\n",
    "for f in integrator.forces:\n",
    "\n",
    "    logger.add(f, quantities=[\"energy\", \"forces\", \"energies\"])\n",
    "\n",
    "gsd_writer = hoomd.write.GSD(\n",
    "    filename=\"rigid_pps_trajectory.gsd\",\n",
    "    trigger=hoomd.trigger.Periodic(int(1)),\n",
    "    mode=\"wb\",\n",
    "    logger=logger,\n",
    "    filter=hoomd.filter.All(),\n",
    "    dynamic=[\"momentum\", \"property\"]\n",
    "    )\n",
    "\n",
    "rigid_simulation.operations.writers.append(gsd_writer)"
   ]
  },
  {
   "cell_type": "code",
   "execution_count": 44,
   "id": "58c7cdd9-544b-4a9f-ab90-e1bf9358a27d",
   "metadata": {},
   "outputs": [],
   "source": [
    "rigid_simulation.operations.writers[0].flush()"
   ]
  },
  {
   "cell_type": "code",
   "execution_count": null,
   "id": "cd1e4e2c-f2c7-421f-8498-6284e2085903",
   "metadata": {},
   "outputs": [],
   "source": []
  },
  {
   "cell_type": "markdown",
   "id": "ba4dfbee-e503-4018-b91a-62b9dbea059c",
   "metadata": {},
   "source": [
    "## sample simulation data with MC"
   ]
  },
  {
   "cell_type": "code",
   "execution_count": 45,
   "id": "af17718f-0cf5-41a7-9c1a-02c97348d5d7",
   "metadata": {},
   "outputs": [
    {
     "data": {
      "text/plain": [
       "array([[-3.27664495, -1.2271961 , -3.80518508],\n",
       "       [ 1.44320226, -1.3552891 , -2.81317234],\n",
       "       [-2.88262228, -1.69517681, -3.58244544],\n",
       "       [-3.2636991 , -1.71056834, -3.50841155],\n",
       "       [-3.49906415, -1.43138594, -3.6412553 ],\n",
       "       [-3.35325516, -1.13616431, -3.84844648],\n",
       "       [-3.65415839, -0.7788171 , -4.01858518],\n",
       "       [-2.9716266 , -1.12114572, -3.92246198],\n",
       "       [-2.73665727, -1.40056108, -3.7894072 ],\n",
       "       [ 1.10566543, -1.1082078 , -3.31206364],\n",
       "       [ 0.95540237, -1.39690057, -3.09989631],\n",
       "       [ 1.15666101, -1.54451911, -2.80208644],\n",
       "       [ 1.50886264, -1.4033753 , -2.71619867],\n",
       "       [ 1.76660149, -1.59202481, -2.33518812],\n",
       "       [ 1.65895694, -1.11422332, -2.92881819],\n",
       "       [ 1.45732126, -0.96692759, -3.22653304]])"
      ]
     },
     "execution_count": 45,
     "metadata": {},
     "output_type": "execute_result"
    }
   ],
   "source": [
    "rigid_simulation.state.get_snapshot().particles.position"
   ]
  },
  {
   "cell_type": "code",
   "execution_count": 46,
   "id": "16aea5c3-7db2-4361-bb6c-076902194974",
   "metadata": {},
   "outputs": [],
   "source": [
    "sample_positions = []\n",
    "sample_orientations = []\n",
    "sample_energies = []\n",
    "sample_forces = []\n",
    "sample_torques = []\n",
    "\n",
    "for i in range(30000):\n",
    "    rigid_simulation.run(1)\n",
    "    sample_energies.append(rigid_simulation.operations.integrator.forces[0].energy)\n",
    "    with rigid_simulation.state.cpu_local_snapshot as data:\n",
    "        com_idx = data.particles.rtag[[0, 1]]\n",
    "        sample_positions.append(data.particles.position[com_idx])\n",
    "        sample_orientations.append(data.particles.orientation[com_idx])\n",
    "        sample_forces.append(data.particles.net_force[com_idx])\n",
    "        sample_torques.append(data.particles.net_torque[com_idx])\n",
    "rigid_simulation.operations.writers[0].flush()\n"
   ]
  },
  {
   "cell_type": "code",
   "execution_count": 47,
   "id": "c226dd5a-1bfd-4b31-9e53-d81d5a1e9e2e",
   "metadata": {},
   "outputs": [
    {
     "data": {
      "text/plain": [
       "-4.672845407470986"
      ]
     },
     "execution_count": 47,
     "metadata": {},
     "output_type": "execute_result"
    }
   ],
   "source": [
    "min(sample_energies)"
   ]
  },
  {
   "cell_type": "code",
   "execution_count": 48,
   "id": "1b0bfd5c-3bce-4fc5-ac71-4d05728eceb6",
   "metadata": {},
   "outputs": [
    {
     "data": {
      "text/plain": [
       "3.744924511660596"
      ]
     },
     "execution_count": 48,
     "metadata": {},
     "output_type": "execute_result"
    }
   ],
   "source": [
    "max(sample_energies)"
   ]
  },
  {
   "cell_type": "code",
   "execution_count": 49,
   "id": "03af92da-4226-44e9-b023-4ef1368008b2",
   "metadata": {},
   "outputs": [
    {
     "data": {
      "text/plain": [
       "16.98674774169922"
      ]
     },
     "execution_count": 49,
     "metadata": {},
     "output_type": "execute_result"
    }
   ],
   "source": [
    "L = rigid_simulation.state.get_snapshot().configuration.box[0]\n",
    "L"
   ]
  },
  {
   "cell_type": "code",
   "execution_count": 50,
   "id": "5c0afd86-c085-4d3c-86d3-ee51b19b5e42",
   "metadata": {},
   "outputs": [],
   "source": [
    "def adjust_periodic_boundary(pos, box_len):\n",
    "    adjusted_pos = []\n",
    "    for x in pos:\n",
    "        if x > (box_len/2):\n",
    "            adjusted_pos.append(x - box_len/2)\n",
    "        if x < (-box_len/2):\n",
    "            adjusted_pos.append(x + box_len/2)\n",
    "        else:\n",
    "            adjusted_pos.append(x)\n",
    "    return np.asarray(adjusted_pos)\n",
    "        "
   ]
  },
  {
   "cell_type": "code",
   "execution_count": 62,
   "id": "dd8c9e47-4558-4def-a493-f7a0f4567cf1",
   "metadata": {},
   "outputs": [],
   "source": [
    "positions_array = np.asarray(sample_positions)\n",
    "adjusted_positions = []\n",
    "dr_array = []\n",
    "for (pos_1, pos_2) in positions_array:\n",
    "    pos_1_adj = adjust_periodic_boundary(pos_1, L)\n",
    "    pos_2_adj = adjust_periodic_boundary(pos_2, L)\n",
    "    adjusted_positions.append([pos_1_adj, pos_2_adj])\n",
    "    dr_array.append(np.linalg.norm(pos_1_adj - pos_2_adj))"
   ]
  },
  {
   "cell_type": "code",
   "execution_count": 63,
   "id": "9c753e97-4225-4dd1-992f-cb40d0e4c6c9",
   "metadata": {},
   "outputs": [
    {
     "data": {
      "text/plain": [
       "array([  323,   324,   325, ..., 22954, 22955, 22956])"
      ]
     },
     "execution_count": 63,
     "metadata": {},
     "output_type": "execute_result"
    }
   ],
   "source": [
    "dr = np.asarray(dr_array)\n",
    "keep_idx = np.where(dr<3)[0]\n",
    "keep_idx"
   ]
  },
  {
   "cell_type": "code",
   "execution_count": 66,
   "id": "4e075d77-75cd-453a-9d94-8fc5008f64fb",
   "metadata": {},
   "outputs": [
    {
     "data": {
      "text/plain": [
       "(30000, 2, 3)"
      ]
     },
     "execution_count": 66,
     "metadata": {},
     "output_type": "execute_result"
    }
   ],
   "source": [
    "np.asarray(adjusted_positions).shape"
   ]
  },
  {
   "cell_type": "code",
   "execution_count": 67,
   "id": "36714d1a-0b85-494e-a6d3-af7cfe34b19b",
   "metadata": {},
   "outputs": [],
   "source": [
    "\n",
    "keep_dr = dr[keep_idx]\n",
    "keep_adjusted_positions = np.asarray(adjusted_positions)[keep_idx]\n",
    "keep_energy = np.asarray(sample_energies)[keep_idx]\n",
    "keep_force = np.asarray(sample_forces)[keep_idx]\n",
    "keep_position = np.asarray(sample_positions)[keep_idx]\n",
    "keep_torque = np.asarray(sample_torques)[keep_idx]\n",
    "keep_orientation = np.asarray(sample_orientations)[keep_idx]"
   ]
  },
  {
   "cell_type": "code",
   "execution_count": 68,
   "id": "4516f974-967a-4591-b21f-86bfd4eb7d3d",
   "metadata": {},
   "outputs": [],
   "source": [
    "import matplotlib.pyplot as plt\n"
   ]
  },
  {
   "cell_type": "code",
   "execution_count": 73,
   "id": "fe7d7bfb-676d-4ddc-849b-235dbec00346",
   "metadata": {},
   "outputs": [
    {
     "data": {
      "text/plain": [
       "(-5.0, 4.0)"
      ]
     },
     "execution_count": 73,
     "metadata": {},
     "output_type": "execute_result"
    },
    {
     "data": {
      "image/png": "[encoded data removed]",
      "text/plain": [
       "<Figure size 640x480 with 1 Axes>"
      ]
     },
     "metadata": {},
     "output_type": "display_data"
    }
   ],
   "source": [
    "plt.scatter(dr[keep_idx], keep_energy/2)\n",
    "plt.ylim(-5, 4)"
   ]
  },
  {
   "cell_type": "code",
   "execution_count": 76,
   "id": "2066d672-dd30-4eb6-8235-e6c5dec219b8",
   "metadata": {},
   "outputs": [
    {
     "data": {
      "text/plain": [
       "1.355385665838204"
      ]
     },
     "execution_count": 76,
     "metadata": {},
     "output_type": "execute_result"
    }
   ],
   "source": [
    "keep_dr[1255]"
   ]
  },
  {
   "cell_type": "markdown",
   "id": "642a6291-e411-405e-9ef3-d08b24604b7d",
   "metadata": {},
   "source": [
    "## assemble data"
   ]
  },
  {
   "cell_type": "code",
   "execution_count": 78,
   "id": "a38281c8-f8e5-4ac1-9dd0-669c7854e1f9",
   "metadata": {},
   "outputs": [],
   "source": [
    "import rowan"
   ]
  },
  {
   "cell_type": "code",
   "execution_count": 79,
   "id": "ba1b0700-5e9a-4ed1-8ee5-584bb1f45f0b",
   "metadata": {},
   "outputs": [],
   "source": [
    "particle_pos = []\n",
    "neighbor_pos = []\n",
    "features = []\n",
    "particle_force = []\n",
    "particle_torque = []\n",
    "particle_energy = []\n",
    "for pos, orient, force, torque, energy in zip(keep_adjusted_positions, keep_orientation, keep_force,keep_torque, keep_energy):\n",
    "    particle_pos.extend([pos[0], pos[1]])\n",
    "    neighbor_pos.extend([pos[1], pos[0]])\n",
    "    dr_1 = pos[0] - pos[1]\n",
    "    dr_2 = pos[1] - pos[0]\n",
    "\n",
    "    # r = np.linalg.norm(dr_1, keepdims=True)\n",
    "    \n",
    "    q1 = orient[0]\n",
    "    q2 = orient[1]\n",
    "    \n",
    "    dr_1_q = np.concatenate([[0], dr_1])\n",
    "    dr_2_q = np.concatenate([[0], dr_2])\n",
    "\n",
    "    # calculate q1 applied to q2 and vice versa\n",
    "    q1q2 = rowan.multiply(q1, rowan.conjugate(q2))\n",
    "    q2q1 = rowan.multiply(q2, rowan.conjugate(q1))\n",
    "\n",
    "    # rotate q1 and q2 based on vector dr_1\n",
    "    q1_dr1_rotated = rowan.multiply(dr_1_q, rowan.multiply(q1, rowan.conjugate(dr_1_q)))\n",
    "    q2_dr1_rotated = rowan.multiply(dr_1_q, rowan.multiply(q2, rowan.conjugate(dr_1_q)))\n",
    "\n",
    "    # rotated q2 and q1 based on vector dr_2\n",
    "    q2_dr2_rotated = rowan.multiply(dr_2_q, rowan.multiply(q2, rowan.conjugate(dr_2_q)))\n",
    "    q1_dr2_rotated = rowan.multiply(dr_2_q, rowan.multiply(q1, rowan.conjugate(dr_2_q)))\n",
    "                                    \n",
    "\n",
    "    features_1 = np.concatenate([dr_1, q1, q2, q1q2, q2q1, q1_dr1_rotated, q2_dr1_rotated])\n",
    "    features_2 = np.concatenate([dr_2, q2, q1, q2q1, q1q2, q2_dr2_rotated, q1_dr2_rotated])\n",
    "\n",
    "    features.extend([features_1, features_2])\n",
    "    particle_force.extend([force[0], force[1]])\n",
    "    particle_torque.extend([torque[0], torque[1]])\n",
    "    particle_energy.extend([energy/2, energy/2])"
   ]
  },
  {
   "cell_type": "code",
   "execution_count": 80,
   "id": "5177f72b-39bf-4386-b72c-cf5cd52375e6",
   "metadata": {},
   "outputs": [
    {
     "data": {
      "text/plain": [
       "3002"
      ]
     },
     "execution_count": 80,
     "metadata": {},
     "output_type": "execute_result"
    }
   ],
   "source": [
    "len(particle_force)"
   ]
  },
  {
   "cell_type": "code",
   "execution_count": 82,
   "id": "52076330-107a-4a25-8e01-6aa99e980504",
   "metadata": {},
   "outputs": [],
   "source": [
    "import pandas as pd\n",
    "columns = [\n",
    "    \"particle_pos\",\n",
    "    \"neighbor_pos\",\n",
    "    \"features\",\n",
    "    \"force\",\n",
    "    \"torque\",\n",
    "    \"energy\"\n",
    "]\n",
    "\n",
    "new_traj_df = pd.DataFrame(columns=columns)\n",
    "new_traj_df[\"particle_pos\"] = particle_pos\n",
    "new_traj_df[\"neighbor_pos\"] = neighbor_pos\n",
    "new_traj_df[\"features\"] = features\n",
    "new_traj_df[\"force\"] = particle_force\n",
    "new_traj_df[\"torque\"] = particle_torque\n",
    "new_traj_df[\"energy\"] = particle_energy"
   ]
  },
  {
   "cell_type": "code",
   "execution_count": 83,
   "id": "f6618167-cb2f-4d04-9a87-d2bcd938b52f",
   "metadata": {},
   "outputs": [],
   "source": [
    "new_traj_df = new_traj_df.sample(frac=1).reset_index(drop=True)"
   ]
  },
  {
   "cell_type": "code",
   "execution_count": 84,
   "id": "6fe0be0e-6df5-4de3-b1fb-6cbebc480b6b",
   "metadata": {},
   "outputs": [],
   "source": [
    "target_datapath=\"/home/erjank_project/marjan/pps_force_learner/datasets/random\""
   ]
  },
  {
   "cell_type": "code",
   "execution_count": 86,
   "id": "f3353828-776d-4a40-b77e-1c84da905eb1",
   "metadata": {},
   "outputs": [],
   "source": [
    "import os\n",
    "new_traj_df.to_pickle(os.path.join(target_datapath, \"raw.pkl\"))"
   ]
  },
  {
   "cell_type": "code",
   "execution_count": 87,
   "id": "44cc6c41-2d21-4e22-9bf4-0f13cc18008d",
   "metadata": {},
   "outputs": [],
   "source": [
    "new_traj_df = new_traj_df.sample(frac=1).reset_index(drop=True)\n",
    "\n",
    "test_frac = 0.1\n",
    "val_frac = 0.1\n",
    "\n",
    "dataset_len = new_traj_df.shape[0]\n",
    "test_len = int(dataset_len * test_frac)\n",
    "val_len = int(dataset_len * val_frac)\n",
    "\n",
    "test_df = new_traj_df.iloc[:test_len]\n",
    "\n",
    "val_df = new_traj_df.iloc[test_len: test_len + val_len]\n",
    "\n",
    "train_df = new_traj_df.iloc[test_len + val_len:]"
   ]
  },
  {
   "cell_type": "code",
   "execution_count": 90,
   "id": "992fcbb7-e705-4a66-bac4-b3b3397ab0f8",
   "metadata": {},
   "outputs": [],
   "source": [
    "train_df.to_pickle(os.path.join(target_datapath, 'train.pkl'))\n",
    "val_df.to_pickle(os.path.join(target_datapath, 'val.pkl'))\n",
    "test_df.to_pickle(os.path.join(target_datapath, 'test.pkl'))"
   ]
  },
  {
   "cell_type": "code",
   "execution_count": null,
   "id": "42482300-0ed1-49a9-8bdb-7df3515e8cc8",
   "metadata": {},
   "outputs": [],
   "source": []
  }
 ],
 "metadata": {
  "kernelspec": {
   "display_name": "Python 3 (ipykernel)",
   "language": "python",
   "name": "python3"
  },
  "language_info": {
   "codemirror_mode": {
    "name": "ipython",
    "version": 3
   },
   "file_extension": ".py",
   "mimetype": "text/x-python",
   "name": "python",
   "nbconvert_exporter": "python",
   "pygments_lexer": "ipython3",
   "version": "3.9.18"
  }
 },
 "nbformat": 4,
 "nbformat_minor": 5
}

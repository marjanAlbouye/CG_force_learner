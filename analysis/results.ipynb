{
 "cells": [
  {
   "cell_type": "code",
   "execution_count": 1,
   "id": "a15681f8",
   "metadata": {},
   "outputs": [],
   "source": [
    "import torch\n",
    "import os"
   ]
  },
  {
   "cell_type": "code",
   "execution_count": 2,
   "id": "fa9157e3",
   "metadata": {},
   "outputs": [],
   "source": [
    "best_model_path = \"/home/marjanalbooyeh/code/ML_LJ/ML_LJ_framework/flow/workspace/2458f7da93d2f720de8ca72efe20efa8\""
   ]
  },
  {
   "cell_type": "code",
   "execution_count": 3,
   "id": "933117bb",
   "metadata": {},
   "outputs": [],
   "source": [
    "import sys\n",
    "\n",
    "sys.path.append('..')"
   ]
  },
  {
   "cell_type": "code",
   "execution_count": 4,
   "id": "70ccd98c",
   "metadata": {},
   "outputs": [],
   "source": [
    "from model import NN"
   ]
  },
  {
   "cell_type": "code",
   "execution_count": 5,
   "id": "6852864c",
   "metadata": {},
   "outputs": [],
   "source": [
    "device = torch.device(\"cuda:0\" if torch.cuda.is_available() else \"cpu\")"
   ]
  },
  {
   "cell_type": "code",
   "execution_count": 6,
   "id": "e565a4ca",
   "metadata": {},
   "outputs": [],
   "source": [
    "model = NN(in_dim=3, hidden_dim=32, out_dim=1,n_layers=2, act_fn=\"Tanh\", dropout=0.5, inp_mode=\"r\")"
   ]
  },
  {
   "cell_type": "code",
   "execution_count": 7,
   "id": "fb5ecbac",
   "metadata": {
    "scrolled": true
   },
   "outputs": [
    {
     "data": {
      "text/plain": [
       "<All keys matched successfully>"
      ]
     },
     "execution_count": 7,
     "metadata": {},
     "output_type": "execute_result"
    }
   ],
   "source": [
    "model.load_state_dict(torch.load(os.path.join(best_model_path, \"best_model.pth\")))"
   ]
  },
  {
   "cell_type": "code",
   "execution_count": 8,
   "id": "cd26a6dd",
   "metadata": {},
   "outputs": [
    {
     "data": {
      "text/plain": [
       "NN(\n",
       "  (net): Sequential(\n",
       "    (0): Linear(in_features=4, out_features=32, bias=True)\n",
       "    (1): Tanh()\n",
       "    (2): Linear(in_features=32, out_features=32, bias=True)\n",
       "    (3): Tanh()\n",
       "    (4): Dropout(p=0.5, inplace=False)\n",
       "    (5): Linear(in_features=32, out_features=1, bias=True)\n",
       "  )\n",
       ")"
      ]
     },
     "execution_count": 8,
     "metadata": {},
     "output_type": "execute_result"
    }
   ],
   "source": [
    "model.to(device)"
   ]
  },
  {
   "cell_type": "code",
   "execution_count": null,
   "id": "45f64839",
   "metadata": {},
   "outputs": [],
   "source": [
    "for name, param in model.named_parameters():\n",
    "    break"
   ]
  },
  {
   "cell_type": "code",
   "execution_count": 105,
   "id": "69644515",
   "metadata": {},
   "outputs": [
    {
     "data": {
      "text/plain": [
       "tensor([-1.1245e-02,  5.9183e-04, -8.8519e-03,  1.1639e+01], device='cuda:0',\n",
       "       grad_fn=<SumBackward1>)"
      ]
     },
     "execution_count": 105,
     "metadata": {},
     "output_type": "execute_result"
    }
   ],
   "source": [
    "torch.sum(torch.transpose(param, 0, 1), dim=-1)"
   ]
  },
  {
   "cell_type": "code",
   "execution_count": 106,
   "id": "76a3c3f0",
   "metadata": {},
   "outputs": [],
   "source": [
    "for name, param_pos in model_pos.named_parameters():\n",
    "    break"
   ]
  },
  {
   "cell_type": "code",
   "execution_count": 107,
   "id": "e118aa52",
   "metadata": {},
   "outputs": [
    {
     "data": {
      "text/plain": [
       "tensor([-61.7747,  72.2368,  42.9895], device='cuda:0', grad_fn=<SumBackward1>)"
      ]
     },
     "execution_count": 107,
     "metadata": {},
     "output_type": "execute_result"
    }
   ],
   "source": [
    "torch.sum(torch.transpose(param_pos, 0, 1), dim=-1)"
   ]
  },
  {
   "cell_type": "code",
   "execution_count": 9,
   "id": "26b6b715",
   "metadata": {},
   "outputs": [],
   "source": [
    "from data_loader import load_datasets"
   ]
  },
  {
   "cell_type": "code",
   "execution_count": 10,
   "id": "234a68df",
   "metadata": {},
   "outputs": [],
   "source": [
    "data_path=  \"/home/marjanalbooyeh/code/ML_LJ/datasets/single_particle\"\n",
    "train_dataloader, valid_dataloader, test_dataloader = load_datasets(data_path, 20)"
   ]
  },
  {
   "cell_type": "code",
   "execution_count": 11,
   "id": "9365e5be",
   "metadata": {},
   "outputs": [],
   "source": [
    "r_ml = []\n",
    "energies_ml = []\n",
    "forces_ml = []"
   ]
  },
  {
   "cell_type": "code",
   "execution_count": 12,
   "id": "4899f1ed",
   "metadata": {},
   "outputs": [],
   "source": [
    "\n",
    "model.eval()\n",
    "for (features, target) in train_dataloader:\n",
    "    features = features.to(device)\n",
    "    features.requires_grad=True\n",
    "    energy = model(features)\n",
    "    force = torch.autograd.grad(energy, features, retain_graph=True, create_graph=True,\n",
    "                                                       grad_outputs=torch.ones_like(energy))[0] * (-1)\n",
    "    energies_ml.extend(energy.squeeze().tolist())\n",
    "    r_ml.extend(torch.norm(features, dim=1).tolist())\n",
    "    forces_ml.extend(force.tolist())"
   ]
  },
  {
   "cell_type": "code",
   "execution_count": 13,
   "id": "e1508fa4",
   "metadata": {},
   "outputs": [],
   "source": [
    "for (features, target) in valid_dataloader:\n",
    "    features = features.to(device)\n",
    "    features.requires_grad=True\n",
    "    energy = model(features)\n",
    "    force = torch.autograd.grad(energy, features, retain_graph=True, create_graph=True,\n",
    "                                                       grad_outputs=torch.ones_like(energy))[0] * (-1)\n",
    "    energies_ml.extend(energy.squeeze().tolist())\n",
    "    r_ml.extend(torch.norm(features, dim=1).tolist())\n",
    "    forces_ml.extend(force.tolist())"
   ]
  },
  {
   "cell_type": "code",
   "execution_count": 14,
   "id": "506eebe3",
   "metadata": {},
   "outputs": [],
   "source": [
    "for (features, target) in test_dataloader:\n",
    "    features = features.to(device)\n",
    "    features.requires_grad=True\n",
    "    energy = model(features)\n",
    "    force = torch.autograd.grad(energy, features, retain_graph=True, create_graph=True,\n",
    "                                                       grad_outputs=torch.ones_like(energy))[0] * (-1)\n",
    "    energies_ml.extend(energy.squeeze().tolist())\n",
    "    r_ml.extend(torch.norm(features, dim=1).tolist())\n",
    "    forces_ml.extend(force.tolist())"
   ]
  },
  {
   "cell_type": "code",
   "execution_count": null,
   "id": "a353dd8f",
   "metadata": {},
   "outputs": [],
   "source": []
  },
  {
   "cell_type": "markdown",
   "id": "a9d3deb3",
   "metadata": {},
   "source": [
    "## AA model"
   ]
  },
  {
   "cell_type": "code",
   "execution_count": 16,
   "id": "73e7dc52",
   "metadata": {},
   "outputs": [],
   "source": [
    "import gsd\n",
    "import numpy as np\n",
    "\n",
    "aa_data_path = \"/home/marjanalbooyeh/code/cme-lab/hoomd-polymers/notebooks/\"\n",
    "\n",
    "r_aa = np.load(os.path.join(aa_data_path, \"r.npy\"))\n",
    "energies_aa = np.load(os.path.join(aa_data_path, \"energies.npy\"))\n",
    "forces_aa = np.load(os.path.join(aa_data_path, \"forces.npy\"))\n",
    "\n",
    "\n",
    "\n"
   ]
  },
  {
   "cell_type": "code",
   "execution_count": 17,
   "id": "91e22946",
   "metadata": {},
   "outputs": [],
   "source": [
    "import matplotlib.pyplot as plt"
   ]
  },
  {
   "cell_type": "code",
   "execution_count": 31,
   "id": "30000a9c",
   "metadata": {},
   "outputs": [
    {
     "data": {
      "text/plain": [
       "array([23.262207, 23.226368, 23.190577, ..., 21.53476 , 21.531181,\n",
       "       21.527653], dtype=float32)"
      ]
     },
     "execution_count": 31,
     "metadata": {},
     "output_type": "execute_result"
    }
   ],
   "source": []
  },
  {
   "cell_type": "code",
   "execution_count": 32,
   "id": "414c3289",
   "metadata": {},
   "outputs": [],
   "source": [
    "LJ = 4*(np.power(1/r_aa, 12) - np.power(1/r_aa, 6))"
   ]
  },
  {
   "cell_type": "code",
   "execution_count": 33,
   "id": "fd22d32e",
   "metadata": {},
   "outputs": [
    {
     "data": {
      "text/plain": [
       "array([-0.6573909 , -0.65776527, -0.65813965, ..., -0.6762195 ,\n",
       "       -0.6762603 , -0.6763004 ], dtype=float32)"
      ]
     },
     "execution_count": 33,
     "metadata": {},
     "output_type": "execute_result"
    }
   ],
   "source": [
    "LJ"
   ]
  },
  {
   "cell_type": "code",
   "execution_count": 39,
   "id": "06958cce",
   "metadata": {},
   "outputs": [
    {
     "data": {
      "text/plain": [
       "-3.5314412117004395"
      ]
     },
     "execution_count": 39,
     "metadata": {},
     "output_type": "execute_result"
    }
   ],
   "source": [
    "np.min(energies_ml)"
   ]
  },
  {
   "cell_type": "code",
   "execution_count": 46,
   "id": "7c9a95c2",
   "metadata": {},
   "outputs": [
    {
     "data": {
      "text/plain": [
       "Text(0.5, 1.0, 'Energy vs r')"
      ]
     },
     "execution_count": 46,
     "metadata": {},
     "output_type": "execute_result"
    },
    {
     "data": {
      "image/png": "[encoded data removed]",
      "text/plain": [
       "<Figure size 640x480 with 1 Axes>"
      ]
     },
     "metadata": {},
     "output_type": "display_data"
    }
   ],
   "source": [
    "plt.scatter(r_ml, np.asarray(energies_ml), label=\"ML\", marker=\"o\")\n",
    "plt.scatter(r_aa, np.asarray(energies_aa), label=\"sim\")\n",
    "plt.scatter(r_aa, LJ, label=\"LJ\", marker=\"x\")\n",
    "plt.legend()\n",
    "plt.title(\"Energy vs r\")"
   ]
  },
  {
   "cell_type": "code",
   "execution_count": 26,
   "id": "c0a3d561",
   "metadata": {},
   "outputs": [],
   "source": [
    "forces_aa_norm = np.linalg.norm(forces_aa[:, 0, :], axis=1)"
   ]
  },
  {
   "cell_type": "code",
   "execution_count": 30,
   "id": "664993f4",
   "metadata": {},
   "outputs": [],
   "source": [
    "forces_ml_norm = np.linalg.norm(np.asarray(forces_ml), axis=1)"
   ]
  },
  {
   "cell_type": "code",
   "execution_count": 44,
   "id": "11ab27d4",
   "metadata": {},
   "outputs": [
    {
     "data": {
      "text/plain": [
       "Text(0.5, 1.0, 'forces vs r')"
      ]
     },
     "execution_count": 44,
     "metadata": {},
     "output_type": "execute_result"
    },
    {
     "data": {
      "image/png": "[encoded data removed]",
      "text/plain": [
       "<Figure size 640x480 with 1 Axes>"
      ]
     },
     "metadata": {},
     "output_type": "display_data"
    }
   ],
   "source": [
    "plt.scatter(r_ml, forces_ml_norm, label=\"ML\")\n",
    "plt.scatter(r_aa, forces_aa_norm, label=\"sim\")\n",
    "plt.legend()\n",
    "plt.title(\"forces vs r\")"
   ]
  },
  {
   "cell_type": "code",
   "execution_count": 47,
   "id": "f7409da7",
   "metadata": {},
   "outputs": [],
   "source": [
    "best_model_path_pos = \"/home/marjanalbooyeh/code/ML_LJ/ML_LJ_framework/flow/workspace/ff8c2d9800b7c8ea4a757e7488749491\"\n"
   ]
  },
  {
   "cell_type": "code",
   "execution_count": 48,
   "id": "40ab739e",
   "metadata": {},
   "outputs": [
    {
     "data": {
      "text/plain": [
       "NN(\n",
       "  (net): Sequential(\n",
       "    (0): Linear(in_features=3, out_features=64, bias=True)\n",
       "    (1): Tanh()\n",
       "    (2): Linear(in_features=64, out_features=64, bias=True)\n",
       "    (3): Tanh()\n",
       "    (4): Dropout(p=0.5, inplace=False)\n",
       "    (5): Linear(in_features=64, out_features=1, bias=True)\n",
       "  )\n",
       ")"
      ]
     },
     "execution_count": 48,
     "metadata": {},
     "output_type": "execute_result"
    }
   ],
   "source": [
    "model_pos = NN(in_dim=3, hidden_dim=64, out_dim=1,n_layers=2, act_fn=\"Tanh\", dropout=0.5, inp_mode=\"pos\")\n",
    "model_pos.load_state_dict(torch.load(os.path.join(best_model_path_pos, \"best_model.pth\")))\n",
    "\n",
    "model_pos.to(device)"
   ]
  },
  {
   "cell_type": "code",
   "execution_count": 61,
   "id": "0f53ec1e",
   "metadata": {},
   "outputs": [],
   "source": [
    "r_ml_pos = []\n",
    "energies_ml_pos = []\n",
    "forces_ml_pos = []\n",
    "\n",
    "\n",
    "model_pos.eval()\n",
    "for (features, target) in train_dataloader:\n",
    "    features = features.to(device)\n",
    "    features.requires_grad=True\n",
    "    energy = model_pos(features)\n",
    "    force = torch.autograd.grad(energy, features, retain_graph=True, create_graph=True,\n",
    "                                                       grad_outputs=torch.ones_like(energy))[0] * (-1)\n",
    "    energies_ml_pos.extend(energy.squeeze().tolist())\n",
    "    r_ml_pos.extend(torch.norm(features, dim=1).tolist())\n",
    "    forces_ml_pos.extend(force.tolist())\n",
    "\n",
    "for (features, target) in valid_dataloader:\n",
    "    features = features.to(device)\n",
    "    features.requires_grad=True\n",
    "    energy = model_pos(features)\n",
    "    force = torch.autograd.grad(energy, features, retain_graph=True, create_graph=True,\n",
    "                                                       grad_outputs=torch.ones_like(energy))[0] * (-1)\n",
    "    energies_ml_pos.extend(energy.squeeze().tolist())\n",
    "    r_ml_pos.extend(torch.norm(features, dim=1).tolist())\n",
    "    forces_ml_pos.extend(force.tolist())\n",
    "\n",
    "\n",
    "for (features, target) in test_dataloader:\n",
    "    features = features.to(device)\n",
    "    features.requires_grad=True\n",
    "    energy = model_pos(features)\n",
    "    force = torch.autograd.grad(energy, features, retain_graph=True, create_graph=True,\n",
    "                                                       grad_outputs=torch.ones_like(energy))[0] * (-1)\n",
    "    energies_ml_pos.extend(energy.squeeze().tolist())\n",
    "    r_ml_pos.extend(torch.norm(features, dim=1).tolist())\n",
    "    forces_ml_pos.extend(force.tolist())\n"
   ]
  },
  {
   "cell_type": "code",
   "execution_count": 62,
   "id": "13515261",
   "metadata": {},
   "outputs": [],
   "source": [
    "forces_ml_norm_pos = np.linalg.norm(np.asarray(forces_ml_pos), axis=1) * np.prod(np.sign(np.asarray(forces_ml_pos)), axis=1)"
   ]
  },
  {
   "cell_type": "code",
   "execution_count": 71,
   "id": "c3319857",
   "metadata": {},
   "outputs": [],
   "source": [
    "forces_ml_norm = np.linalg.norm(np.asarray(forces_ml), axis=1)*np.prod(np.sign(np.asarray(forces_ml)), axis=1)\n",
    "\n",
    "forces_aa_norm = np.linalg.norm(forces_aa[:, 0, :], axis=1) *np.prod(np.sign(forces_aa[:, 0, :]), axis=1)"
   ]
  },
  {
   "cell_type": "code",
   "execution_count": 85,
   "id": "c13bc5b6",
   "metadata": {},
   "outputs": [
    {
     "data": {
      "text/plain": [
       "Text(0.5, 1.0, 'forces vs r')"
      ]
     },
     "execution_count": 85,
     "metadata": {},
     "output_type": "execute_result"
    },
    {
     "data": {
      "image/png": "[encoded data removed]",
      "text/plain": [
       "<Figure size 640x480 with 1 Axes>"
      ]
     },
     "metadata": {},
     "output_type": "display_data"
    }
   ],
   "source": [
    "# plt.scatter(r_ml, forces_ml_norm, label=\"ML\", s=2)\n",
    "plt.scatter(r_ml_pos, forces_ml_norm_pos, label=\"ML-pos\", s=2)\n",
    "# plt.scatter(r_aa, forces_aa_norm, label=\"sim\", s=2)\n",
    "plt.legend()\n",
    "plt.title(\"forces vs r\")"
   ]
  },
  {
   "cell_type": "code",
   "execution_count": 82,
   "id": "89fed8f2",
   "metadata": {},
   "outputs": [
    {
     "data": {
      "text/plain": [
       "Text(0.5, 1.0, 'Energy vs r')"
      ]
     },
     "execution_count": 82,
     "metadata": {},
     "output_type": "execute_result"
    },
    {
     "data": {
      "image/png": "[encoded data removed]",
      "text/plain": [
       "<Figure size 640x480 with 1 Axes>"
      ]
     },
     "metadata": {},
     "output_type": "display_data"
    }
   ],
   "source": [
    "plt.scatter(r_ml, np.asarray(energies_ml), label=\"ML\", marker=\"o\")\n",
    "plt.scatter(r_ml_pos, np.asarray(energies_ml_pos), label=\"ML-pos\", marker=\".\")\n",
    "plt.scatter(r_aa, np.asarray(energies_aa), label=\"sim\")\n",
    "# plt.scatter(r_aa, LJ, label=\"LJ\", marker=\"x\")\n",
    "plt.legend()\n",
    "plt.title(\"Energy vs r\")"
   ]
  },
  {
   "cell_type": "code",
   "execution_count": null,
   "id": "426b516f",
   "metadata": {},
   "outputs": [],
   "source": []
  }
 ],
 "metadata": {
  "kernelspec": {
   "display_name": "Python 3 (ipykernel)",
   "language": "python",
   "name": "python3"
  },
  "language_info": {
   "codemirror_mode": {
    "name": "ipython",
    "version": 3
   },
   "file_extension": ".py",
   "mimetype": "text/x-python",
   "name": "python",
   "nbconvert_exporter": "python",
   "pygments_lexer": "ipython3",
   "version": "3.10.10"
  }
 },
 "nbformat": 4,
 "nbformat_minor": 5
}
